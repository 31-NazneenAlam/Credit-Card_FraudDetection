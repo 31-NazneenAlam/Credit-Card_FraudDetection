{
  "cells": [
    {
      "cell_type": "code",
      "source": [
        "from google.colab import drive\n",
        "drive.mount('/content/drive')"
      ],
      "metadata": {
        "colab": {
          "base_uri": "https://localhost:8080/"
        },
        "id": "6zQAUxP3Igtx",
        "outputId": "9b20a506-eb9b-44c8-f6fc-0d0d14d15dab"
      },
      "execution_count": null,
      "outputs": [
        {
          "output_type": "stream",
          "name": "stdout",
          "text": [
            "Mounted at /content/drive\n"
          ]
        }
      ]
    },
    {
      "cell_type": "code",
      "execution_count": null,
      "metadata": {
        "id": "RQaNfo1OB7mD"
      },
      "outputs": [],
      "source": [
        "import sys\n",
        "import numpy as np\n",
        "import pandas as pd\n",
        "import tensorflow as tf\n",
        "import matplotlib.pyplot as plt\n",
        "from sklearn.model_selection import train_test_split\n",
        "from sklearn import preprocessing\n",
        "from sklearn.preprocessing import StandardScaler\n",
        "from sklearn.metrics import classification_report\n",
        "import warnings\n",
        "warnings.filterwarnings('ignore')\n",
        "plt.style.use('ggplot')\n",
        "import seaborn as sns \n",
        "%matplotlib inline"
      ]
    },
    {
      "cell_type": "code",
      "execution_count": null,
      "metadata": {
        "colab": {
          "base_uri": "https://localhost:8080/",
          "height": 299
        },
        "id": "i1OSXCdGDQAJ",
        "outputId": "3ab32b04-61bf-4caf-8dd7-a8772d0813ca"
      },
      "outputs": [
        {
          "output_type": "execute_result",
          "data": {
            "text/plain": [
              "   Time        V1        V2        V3        V4        V5        V6        V7  \\\n",
              "0   0.0 -1.359807 -0.072781  2.536347  1.378155 -0.338321  0.462388  0.239599   \n",
              "1   0.0  1.191857  0.266151  0.166480  0.448154  0.060018 -0.082361 -0.078803   \n",
              "2   1.0 -1.358354 -1.340163  1.773209  0.379780 -0.503198  1.800499  0.791461   \n",
              "3   1.0 -0.966272 -0.185226  1.792993 -0.863291 -0.010309  1.247203  0.237609   \n",
              "4   2.0 -1.158233  0.877737  1.548718  0.403034 -0.407193  0.095921  0.592941   \n",
              "\n",
              "         V8        V9  ...       V21       V22       V23       V24       V25  \\\n",
              "0  0.098698  0.363787  ... -0.018307  0.277838 -0.110474  0.066928  0.128539   \n",
              "1  0.085102 -0.255425  ... -0.225775 -0.638672  0.101288 -0.339846  0.167170   \n",
              "2  0.247676 -1.514654  ...  0.247998  0.771679  0.909412 -0.689281 -0.327642   \n",
              "3  0.377436 -1.387024  ... -0.108300  0.005274 -0.190321 -1.175575  0.647376   \n",
              "4 -0.270533  0.817739  ... -0.009431  0.798278 -0.137458  0.141267 -0.206010   \n",
              "\n",
              "        V26       V27       V28  Amount  Class  \n",
              "0 -0.189115  0.133558 -0.021053  149.62      0  \n",
              "1  0.125895 -0.008983  0.014724    2.69      0  \n",
              "2 -0.139097 -0.055353 -0.059752  378.66      0  \n",
              "3 -0.221929  0.062723  0.061458  123.50      0  \n",
              "4  0.502292  0.219422  0.215153   69.99      0  \n",
              "\n",
              "[5 rows x 31 columns]"
            ],
            "text/html": [
              "\n",
              "  <div id=\"df-c71ea0e5-460d-4d90-9892-0c6863d98374\">\n",
              "    <div class=\"colab-df-container\">\n",
              "      <div>\n",
              "<style scoped>\n",
              "    .dataframe tbody tr th:only-of-type {\n",
              "        vertical-align: middle;\n",
              "    }\n",
              "\n",
              "    .dataframe tbody tr th {\n",
              "        vertical-align: top;\n",
              "    }\n",
              "\n",
              "    .dataframe thead th {\n",
              "        text-align: right;\n",
              "    }\n",
              "</style>\n",
              "<table border=\"1\" class=\"dataframe\">\n",
              "  <thead>\n",
              "    <tr style=\"text-align: right;\">\n",
              "      <th></th>\n",
              "      <th>Time</th>\n",
              "      <th>V1</th>\n",
              "      <th>V2</th>\n",
              "      <th>V3</th>\n",
              "      <th>V4</th>\n",
              "      <th>V5</th>\n",
              "      <th>V6</th>\n",
              "      <th>V7</th>\n",
              "      <th>V8</th>\n",
              "      <th>V9</th>\n",
              "      <th>...</th>\n",
              "      <th>V21</th>\n",
              "      <th>V22</th>\n",
              "      <th>V23</th>\n",
              "      <th>V24</th>\n",
              "      <th>V25</th>\n",
              "      <th>V26</th>\n",
              "      <th>V27</th>\n",
              "      <th>V28</th>\n",
              "      <th>Amount</th>\n",
              "      <th>Class</th>\n",
              "    </tr>\n",
              "  </thead>\n",
              "  <tbody>\n",
              "    <tr>\n",
              "      <th>0</th>\n",
              "      <td>0.0</td>\n",
              "      <td>-1.359807</td>\n",
              "      <td>-0.072781</td>\n",
              "      <td>2.536347</td>\n",
              "      <td>1.378155</td>\n",
              "      <td>-0.338321</td>\n",
              "      <td>0.462388</td>\n",
              "      <td>0.239599</td>\n",
              "      <td>0.098698</td>\n",
              "      <td>0.363787</td>\n",
              "      <td>...</td>\n",
              "      <td>-0.018307</td>\n",
              "      <td>0.277838</td>\n",
              "      <td>-0.110474</td>\n",
              "      <td>0.066928</td>\n",
              "      <td>0.128539</td>\n",
              "      <td>-0.189115</td>\n",
              "      <td>0.133558</td>\n",
              "      <td>-0.021053</td>\n",
              "      <td>149.62</td>\n",
              "      <td>0</td>\n",
              "    </tr>\n",
              "    <tr>\n",
              "      <th>1</th>\n",
              "      <td>0.0</td>\n",
              "      <td>1.191857</td>\n",
              "      <td>0.266151</td>\n",
              "      <td>0.166480</td>\n",
              "      <td>0.448154</td>\n",
              "      <td>0.060018</td>\n",
              "      <td>-0.082361</td>\n",
              "      <td>-0.078803</td>\n",
              "      <td>0.085102</td>\n",
              "      <td>-0.255425</td>\n",
              "      <td>...</td>\n",
              "      <td>-0.225775</td>\n",
              "      <td>-0.638672</td>\n",
              "      <td>0.101288</td>\n",
              "      <td>-0.339846</td>\n",
              "      <td>0.167170</td>\n",
              "      <td>0.125895</td>\n",
              "      <td>-0.008983</td>\n",
              "      <td>0.014724</td>\n",
              "      <td>2.69</td>\n",
              "      <td>0</td>\n",
              "    </tr>\n",
              "    <tr>\n",
              "      <th>2</th>\n",
              "      <td>1.0</td>\n",
              "      <td>-1.358354</td>\n",
              "      <td>-1.340163</td>\n",
              "      <td>1.773209</td>\n",
              "      <td>0.379780</td>\n",
              "      <td>-0.503198</td>\n",
              "      <td>1.800499</td>\n",
              "      <td>0.791461</td>\n",
              "      <td>0.247676</td>\n",
              "      <td>-1.514654</td>\n",
              "      <td>...</td>\n",
              "      <td>0.247998</td>\n",
              "      <td>0.771679</td>\n",
              "      <td>0.909412</td>\n",
              "      <td>-0.689281</td>\n",
              "      <td>-0.327642</td>\n",
              "      <td>-0.139097</td>\n",
              "      <td>-0.055353</td>\n",
              "      <td>-0.059752</td>\n",
              "      <td>378.66</td>\n",
              "      <td>0</td>\n",
              "    </tr>\n",
              "    <tr>\n",
              "      <th>3</th>\n",
              "      <td>1.0</td>\n",
              "      <td>-0.966272</td>\n",
              "      <td>-0.185226</td>\n",
              "      <td>1.792993</td>\n",
              "      <td>-0.863291</td>\n",
              "      <td>-0.010309</td>\n",
              "      <td>1.247203</td>\n",
              "      <td>0.237609</td>\n",
              "      <td>0.377436</td>\n",
              "      <td>-1.387024</td>\n",
              "      <td>...</td>\n",
              "      <td>-0.108300</td>\n",
              "      <td>0.005274</td>\n",
              "      <td>-0.190321</td>\n",
              "      <td>-1.175575</td>\n",
              "      <td>0.647376</td>\n",
              "      <td>-0.221929</td>\n",
              "      <td>0.062723</td>\n",
              "      <td>0.061458</td>\n",
              "      <td>123.50</td>\n",
              "      <td>0</td>\n",
              "    </tr>\n",
              "    <tr>\n",
              "      <th>4</th>\n",
              "      <td>2.0</td>\n",
              "      <td>-1.158233</td>\n",
              "      <td>0.877737</td>\n",
              "      <td>1.548718</td>\n",
              "      <td>0.403034</td>\n",
              "      <td>-0.407193</td>\n",
              "      <td>0.095921</td>\n",
              "      <td>0.592941</td>\n",
              "      <td>-0.270533</td>\n",
              "      <td>0.817739</td>\n",
              "      <td>...</td>\n",
              "      <td>-0.009431</td>\n",
              "      <td>0.798278</td>\n",
              "      <td>-0.137458</td>\n",
              "      <td>0.141267</td>\n",
              "      <td>-0.206010</td>\n",
              "      <td>0.502292</td>\n",
              "      <td>0.219422</td>\n",
              "      <td>0.215153</td>\n",
              "      <td>69.99</td>\n",
              "      <td>0</td>\n",
              "    </tr>\n",
              "  </tbody>\n",
              "</table>\n",
              "<p>5 rows × 31 columns</p>\n",
              "</div>\n",
              "      <button class=\"colab-df-convert\" onclick=\"convertToInteractive('df-c71ea0e5-460d-4d90-9892-0c6863d98374')\"\n",
              "              title=\"Convert this dataframe to an interactive table.\"\n",
              "              style=\"display:none;\">\n",
              "        \n",
              "  <svg xmlns=\"http://www.w3.org/2000/svg\" height=\"24px\"viewBox=\"0 0 24 24\"\n",
              "       width=\"24px\">\n",
              "    <path d=\"M0 0h24v24H0V0z\" fill=\"none\"/>\n",
              "    <path d=\"M18.56 5.44l.94 2.06.94-2.06 2.06-.94-2.06-.94-.94-2.06-.94 2.06-2.06.94zm-11 1L8.5 8.5l.94-2.06 2.06-.94-2.06-.94L8.5 2.5l-.94 2.06-2.06.94zm10 10l.94 2.06.94-2.06 2.06-.94-2.06-.94-.94-2.06-.94 2.06-2.06.94z\"/><path d=\"M17.41 7.96l-1.37-1.37c-.4-.4-.92-.59-1.43-.59-.52 0-1.04.2-1.43.59L10.3 9.45l-7.72 7.72c-.78.78-.78 2.05 0 2.83L4 21.41c.39.39.9.59 1.41.59.51 0 1.02-.2 1.41-.59l7.78-7.78 2.81-2.81c.8-.78.8-2.07 0-2.86zM5.41 20L4 18.59l7.72-7.72 1.47 1.35L5.41 20z\"/>\n",
              "  </svg>\n",
              "      </button>\n",
              "      \n",
              "  <style>\n",
              "    .colab-df-container {\n",
              "      display:flex;\n",
              "      flex-wrap:wrap;\n",
              "      gap: 12px;\n",
              "    }\n",
              "\n",
              "    .colab-df-convert {\n",
              "      background-color: #E8F0FE;\n",
              "      border: none;\n",
              "      border-radius: 50%;\n",
              "      cursor: pointer;\n",
              "      display: none;\n",
              "      fill: #1967D2;\n",
              "      height: 32px;\n",
              "      padding: 0 0 0 0;\n",
              "      width: 32px;\n",
              "    }\n",
              "\n",
              "    .colab-df-convert:hover {\n",
              "      background-color: #E2EBFA;\n",
              "      box-shadow: 0px 1px 2px rgba(60, 64, 67, 0.3), 0px 1px 3px 1px rgba(60, 64, 67, 0.15);\n",
              "      fill: #174EA6;\n",
              "    }\n",
              "\n",
              "    [theme=dark] .colab-df-convert {\n",
              "      background-color: #3B4455;\n",
              "      fill: #D2E3FC;\n",
              "    }\n",
              "\n",
              "    [theme=dark] .colab-df-convert:hover {\n",
              "      background-color: #434B5C;\n",
              "      box-shadow: 0px 1px 3px 1px rgba(0, 0, 0, 0.15);\n",
              "      filter: drop-shadow(0px 1px 2px rgba(0, 0, 0, 0.3));\n",
              "      fill: #FFFFFF;\n",
              "    }\n",
              "  </style>\n",
              "\n",
              "      <script>\n",
              "        const buttonEl =\n",
              "          document.querySelector('#df-c71ea0e5-460d-4d90-9892-0c6863d98374 button.colab-df-convert');\n",
              "        buttonEl.style.display =\n",
              "          google.colab.kernel.accessAllowed ? 'block' : 'none';\n",
              "\n",
              "        async function convertToInteractive(key) {\n",
              "          const element = document.querySelector('#df-c71ea0e5-460d-4d90-9892-0c6863d98374');\n",
              "          const dataTable =\n",
              "            await google.colab.kernel.invokeFunction('convertToInteractive',\n",
              "                                                     [key], {});\n",
              "          if (!dataTable) return;\n",
              "\n",
              "          const docLinkHtml = 'Like what you see? Visit the ' +\n",
              "            '<a target=\"_blank\" href=https://colab.research.google.com/notebooks/data_table.ipynb>data table notebook</a>'\n",
              "            + ' to learn more about interactive tables.';\n",
              "          element.innerHTML = '';\n",
              "          dataTable['output_type'] = 'display_data';\n",
              "          await google.colab.output.renderOutput(dataTable, element);\n",
              "          const docLink = document.createElement('div');\n",
              "          docLink.innerHTML = docLinkHtml;\n",
              "          element.appendChild(docLink);\n",
              "        }\n",
              "      </script>\n",
              "    </div>\n",
              "  </div>\n",
              "  "
            ]
          },
          "metadata": {},
          "execution_count": 6
        }
      ],
      "source": [
        "data = pd.read_csv(\"/content/drive/MyDrive/Credit card /creditcard.csv\")\n",
        "data.head()"
      ]
    },
    {
      "cell_type": "code",
      "execution_count": null,
      "metadata": {
        "colab": {
          "base_uri": "https://localhost:8080/"
        },
        "id": "8Pickw_aDi8h",
        "outputId": "dff56e32-8511-41c1-e923-f00ebab54103"
      },
      "outputs": [
        {
          "output_type": "stream",
          "name": "stdout",
          "text": [
            "This data frame has 284807 rows and 31 columns.\n"
          ]
        }
      ],
      "source": [
        "print('This data frame has {} rows and {} columns.'.format(data.shape[0], data.shape[1]))"
      ]
    },
    {
      "cell_type": "code",
      "execution_count": null,
      "metadata": {
        "id": "TJayQvnsDxis"
      },
      "outputs": [],
      "source": [
        "fraud = data[data['Class'] == 1]\n",
        "nonfraud = data[data['Class'] == 0]"
      ]
    },
    {
      "cell_type": "code",
      "execution_count": null,
      "metadata": {
        "colab": {
          "base_uri": "https://localhost:8080/",
          "height": 378
        },
        "id": "yMJFXjbrD_xD",
        "outputId": "f30e14e1-0371-428d-b6c9-efe5d7289421"
      },
      "outputs": [
        {
          "output_type": "display_data",
          "data": {
            "text/plain": [
              "<Figure size 432x432 with 1 Axes>"
            ],
            "image/png": "[encoded data removed]"
          },
          "metadata": {}
        }
      ],
      "source": [
        "data[\"Class\"].value_counts().plot(kind = 'pie',explode=[0, 0.1],figsize=(6, 6),autopct='%1.1f%%',shadow=True)\n",
        "plt.title(\"Fraudulent and Non-Fraudulent Distribution\",fontsize=20)\n",
        "plt.legend([\"Fraud\", \"Non-fraud\"])\n",
        "plt.show()"
      ]
    },
    {
      "cell_type": "code",
      "execution_count": null,
      "metadata": {
        "colab": {
          "base_uri": "https://localhost:8080/",
          "height": 570
        },
        "id": "UbkdjIwYEJca",
        "outputId": "7509e1ed-7ae7-4d9d-c07f-f8346bc33760"
      },
      "outputs": [
        {
          "output_type": "display_data",
          "data": {
            "text/plain": [
              "<Figure size 720x648 with 2 Axes>"
            ],
            "image/png": "[encoded data removed]"
          },
          "metadata": {
            "needs_background": "light"
          }
        }
      ],
      "source": [
        "plt.figure(figsize=(10,9))\n",
        "sns.heatmap(data=data.corr(), vmax = .8, cmap=\"seismic\")\n",
        "plt.show();"
      ]
    },
    {
      "cell_type": "code",
      "execution_count": null,
      "metadata": {
        "colab": {
          "base_uri": "https://localhost:8080/"
        },
        "id": "DYcKMecnEeHT",
        "outputId": "fb1d95bd-4ca8-44bf-fffd-d97cbf2ecc3d"
      },
      "outputs": [
        {
          "output_type": "execute_result",
          "data": {
            "text/plain": [
              "Time      0\n",
              "V1        0\n",
              "V2        0\n",
              "V3        0\n",
              "V4        0\n",
              "V5        0\n",
              "V6        0\n",
              "V7        0\n",
              "V8        0\n",
              "V9        0\n",
              "V10       0\n",
              "V11       0\n",
              "V12       0\n",
              "V13       0\n",
              "V14       0\n",
              "V15       0\n",
              "V16       0\n",
              "V17       0\n",
              "V18       0\n",
              "V19       0\n",
              "V20       0\n",
              "V21       0\n",
              "V22       0\n",
              "V23       0\n",
              "V24       0\n",
              "V25       0\n",
              "V26       0\n",
              "V27       0\n",
              "V28       0\n",
              "Amount    0\n",
              "Class     0\n",
              "dtype: int64"
            ]
          },
          "metadata": {},
          "execution_count": 10
        }
      ],
      "source": [
        "data.isnull().sum()"
      ]
    },
    {
      "cell_type": "code",
      "execution_count": null,
      "metadata": {
        "colab": {
          "base_uri": "https://localhost:8080/"
        },
        "id": "oj8IeTlSEi03",
        "outputId": "8293f1b4-33e8-4e4b-c9e4-6df5f1bc8e2c"
      },
      "outputs": [
        {
          "output_type": "stream",
          "name": "stdout",
          "text": [
            "<class 'pandas.core.frame.DataFrame'>\n",
            "RangeIndex: 284807 entries, 0 to 284806\n",
            "Data columns (total 31 columns):\n",
            " #   Column  Non-Null Count   Dtype  \n",
            "---  ------  --------------   -----  \n",
            " 0   Time    284807 non-null  float64\n",
            " 1   V1      284807 non-null  float64\n",
            " 2   V2      284807 non-null  float64\n",
            " 3   V3      284807 non-null  float64\n",
            " 4   V4      284807 non-null  float64\n",
            " 5   V5      284807 non-null  float64\n",
            " 6   V6      284807 non-null  float64\n",
            " 7   V7      284807 non-null  float64\n",
            " 8   V8      284807 non-null  float64\n",
            " 9   V9      284807 non-null  float64\n",
            " 10  V10     284807 non-null  float64\n",
            " 11  V11     284807 non-null  float64\n",
            " 12  V12     284807 non-null  float64\n",
            " 13  V13     284807 non-null  float64\n",
            " 14  V14     284807 non-null  float64\n",
            " 15  V15     284807 non-null  float64\n",
            " 16  V16     284807 non-null  float64\n",
            " 17  V17     284807 non-null  float64\n",
            " 18  V18     284807 non-null  float64\n",
            " 19  V19     284807 non-null  float64\n",
            " 20  V20     284807 non-null  float64\n",
            " 21  V21     284807 non-null  float64\n",
            " 22  V22     284807 non-null  float64\n",
            " 23  V23     284807 non-null  float64\n",
            " 24  V24     284807 non-null  float64\n",
            " 25  V25     284807 non-null  float64\n",
            " 26  V26     284807 non-null  float64\n",
            " 27  V27     284807 non-null  float64\n",
            " 28  V28     284807 non-null  float64\n",
            " 29  Amount  284807 non-null  float64\n",
            " 30  Class   284807 non-null  int64  \n",
            "dtypes: float64(30), int64(1)\n",
            "memory usage: 67.4 MB\n"
          ]
        }
      ],
      "source": [
        "data.info()"
      ]
    },
    {
      "cell_type": "code",
      "execution_count": null,
      "metadata": {
        "id": "J6IRWoSsEoo_"
      },
      "outputs": [],
      "source": [
        "data1=data.copy()"
      ]
    },
    {
      "cell_type": "markdown",
      "metadata": {
        "id": "JpDG167iE4GG"
      },
      "source": [
        "Model 1(Over-Sampling)"
      ]
    },
    {
      "cell_type": "code",
      "execution_count": null,
      "metadata": {
        "id": "spo3z0ZdFAbn"
      },
      "outputs": [],
      "source": [
        "# Create two different dataframes of majority and minority class \n",
        "data_fraud = data1[data1.Class==1]\n",
        "data_non_fraud = data1[data1.Class==0]\n",
        "\n",
        "# Oversample the minority class\n",
        "from sklearn.utils import resample\n",
        "data_fraud_oversampled = resample(data_fraud, \n",
        "                                 replace=True,    # sample with replacement\n",
        "                                 n_samples=len(data_non_fraud) , # to match majority class with len(df_majority) rows\n",
        "                                 random_state=42)  # reproducible results\n",
        "\n",
        "# Combine majority class with oversampled minority class\n",
        "data_oversampled = pd.concat([data_fraud_oversampled, data_non_fraud])"
      ]
    },
    {
      "cell_type": "code",
      "execution_count": null,
      "metadata": {
        "colab": {
          "base_uri": "https://localhost:8080/"
        },
        "id": "m1j7It2_FK49",
        "outputId": "edcd0ff7-9572-4e45-808f-2c32310eb0d6"
      },
      "outputs": [
        {
          "output_type": "execute_result",
          "data": {
            "text/plain": [
              "1    284315\n",
              "0    284315\n",
              "Name: Class, dtype: int64"
            ]
          },
          "metadata": {},
          "execution_count": 14
        }
      ],
      "source": [
        "data_oversampled.Class.value_counts()"
      ]
    },
    {
      "cell_type": "code",
      "execution_count": null,
      "metadata": {
        "colab": {
          "base_uri": "https://localhost:8080/",
          "height": 301
        },
        "id": "vQ4rcHNNFoix",
        "outputId": "868f7112-5955-4b4e-a448-d55e68363983"
      },
      "outputs": [
        {
          "output_type": "execute_result",
          "data": {
            "text/plain": [
              "[Text(0, 0, 'Non_Fraudulent'), Text(0, 0, 'Fraudulent')]"
            ]
          },
          "metadata": {},
          "execution_count": 15
        },
        {
          "output_type": "display_data",
          "data": {
            "text/plain": [
              "<Figure size 432x288 with 1 Axes>"
            ],
            "image/png": "[encoded data removed]"
          },
          "metadata": {
            "needs_background": "light"
          }
        }
      ],
      "source": [
        "g = sns.countplot(data_oversampled.Class)\n",
        "g.set_xticklabels(['Non_Fraudulent','Fraudulent'])"
      ]
    },
    {
      "cell_type": "code",
      "execution_count": null,
      "metadata": {
        "id": "wzc_KE90GSDk"
      },
      "outputs": [],
      "source": [
        "y = data_oversampled.Class\n",
        "X = data_oversampled.drop(['Class'], axis=1)"
      ]
    },
    {
      "cell_type": "code",
      "execution_count": null,
      "metadata": {
        "id": "tyacC4uUGXfA"
      },
      "outputs": [],
      "source": [
        "from sklearn.model_selection import train_test_split\n",
        "from sklearn.metrics import recall_score, precision_score, f1_score, roc_auc_score, confusion_matrix, roc_curve, roc_auc_score"
      ]
    },
    {
      "cell_type": "code",
      "execution_count": null,
      "metadata": {
        "colab": {
          "base_uri": "https://localhost:8080/"
        },
        "id": "Axs36eRXGcp0",
        "outputId": "64ea9094-2752-4921-a64c-dcb7c44f1474"
      },
      "outputs": [
        {
          "output_type": "execute_result",
          "data": {
            "text/plain": [
              "((398041, 30), (170589, 30))"
            ]
          },
          "metadata": {},
          "execution_count": 18
        }
      ],
      "source": [
        "X_train, X_test, y_train, y_test = train_test_split(X, y, test_size=0.3, stratify=y, random_state=101)\n",
        "X_train.shape, X_test.shape"
      ]
    },
    {
      "cell_type": "code",
      "execution_count": null,
      "metadata": {
        "id": "H-gP8ZjHGf9Y"
      },
      "outputs": [],
      "source": [
        "scaler = StandardScaler()\n",
        "X_train = scaler.fit_transform(X_train)\n",
        "X_test = scaler.transform(X_test)"
      ]
    },
    {
      "cell_type": "code",
      "execution_count": null,
      "metadata": {
        "id": "fT1IDgszGieS"
      },
      "outputs": [],
      "source": [
        "y_train = y_train.to_numpy()\n",
        "y_test = y_test.to_numpy()"
      ]
    },
    {
      "cell_type": "code",
      "execution_count": null,
      "metadata": {
        "id": "DWC93OClGk3u"
      },
      "outputs": [],
      "source": [
        "X_train = X_train.reshape(X_train.shape[0], X_train.shape[1], 1)\n",
        "X_test = X_test.reshape(X_test.shape[0], X_test.shape[1], 1)"
      ]
    },
    {
      "cell_type": "code",
      "execution_count": null,
      "metadata": {
        "colab": {
          "base_uri": "https://localhost:8080/"
        },
        "id": "KsN_DaBwGnJX",
        "outputId": "82a14da0-70d0-4767-fed7-21644ce44d39"
      },
      "outputs": [
        {
          "output_type": "execute_result",
          "data": {
            "text/plain": [
              "((398041, 30, 1), (170589, 30, 1))"
            ]
          },
          "metadata": {},
          "execution_count": 22
        }
      ],
      "source": [
        "X_train.shape, X_test.shape"
      ]
    },
    {
      "cell_type": "code",
      "execution_count": null,
      "metadata": {
        "colab": {
          "base_uri": "https://localhost:8080/"
        },
        "id": "_NAgXHB6GpMB",
        "outputId": "c1dfa9b4-b1bc-4d3a-8918-74a6ce9c7979"
      },
      "outputs": [
        {
          "output_type": "stream",
          "name": "stdout",
          "text": [
            "Model: \"sequential\"\n",
            "_________________________________________________________________\n",
            " Layer (type)                Output Shape              Param #   \n",
            "=================================================================\n",
            " conv1d (Conv1D)             (None, 28, 32)            128       \n",
            "                                                                 \n",
            " max_pooling1d (MaxPooling1D  (None, 28, 32)           0         \n",
            " )                                                               \n",
            "                                                                 \n",
            " conv1d_1 (Conv1D)           (None, 26, 64)            6208      \n",
            "                                                                 \n",
            " max_pooling1d_1 (MaxPooling  (None, 13, 64)           0         \n",
            " 1D)                                                             \n",
            "                                                                 \n",
            " conv1d_2 (Conv1D)           (None, 11, 64)            12352     \n",
            "                                                                 \n",
            " flatten (Flatten)           (None, 704)               0         \n",
            "                                                                 \n",
            " dense (Dense)               (None, 512)               360960    \n",
            "                                                                 \n",
            " dense_1 (Dense)             (None, 1)                 513       \n",
            "                                                                 \n",
            "=================================================================\n",
            "Total params: 380,161\n",
            "Trainable params: 380,161\n",
            "Non-trainable params: 0\n",
            "_________________________________________________________________\n"
          ]
        }
      ],
      "source": [
        "epochs=20\n",
        "model_cnn = tf.keras.models.Sequential([\n",
        "    tf.keras.layers.Conv1D(filters=32, kernel_size=3, activation='relu', input_shape=X_train[0].shape),\n",
        "    tf.keras.layers.MaxPooling1D(pool_size=1),\n",
        "    tf.keras.layers.Conv1D(filters=64, kernel_size=3, activation='relu'),\n",
        "    tf.keras.layers.MaxPooling1D((2)),\n",
        "    tf.keras.layers.Conv1D(filters=64, kernel_size=3, activation='relu'),\n",
        "    tf.keras.layers.Flatten(),\n",
        "    tf.keras.layers.Dense(512,activation='relu'),\n",
        "    tf.keras.layers.Dense(1,activation='sigmoid')\n",
        "])\n",
        "\n",
        "model_cnn.summary()"
      ]
    },
    {
      "cell_type": "code",
      "execution_count": null,
      "metadata": {
        "id": "AkmMe8X9GtwW"
      },
      "outputs": [],
      "source": [
        "model_cnn.compile(optimizer='rmsprop',\n",
        "                 loss='binary_crossentropy',\n",
        "                 metrics=['accuracy'])"
      ]
    },
    {
      "cell_type": "code",
      "execution_count": null,
      "metadata": {
        "colab": {
          "base_uri": "https://localhost:8080/"
        },
        "id": "y3WxAqJzG0xL",
        "outputId": "f5f7af86-c656-4659-93c2-8b74ecbf79fb"
      },
      "outputs": [
        {
          "output_type": "stream",
          "name": "stdout",
          "text": [
            "Epoch 1/10\n",
            "12439/12439 [==============================] - 79s 5ms/step - loss: 0.0286 - accuracy: 0.9917 - val_loss: 0.0136 - val_accuracy: 0.9965\n",
            "Epoch 2/10\n",
            "12439/12439 [==============================] - 65s 5ms/step - loss: 0.0171 - accuracy: 0.9972 - val_loss: 0.0132 - val_accuracy: 0.9986\n",
            "Epoch 3/10\n",
            "12439/12439 [==============================] - 75s 6ms/step - loss: 0.0201 - accuracy: 0.9979 - val_loss: 0.0100 - val_accuracy: 0.9990\n",
            "Epoch 4/10\n",
            "12439/12439 [==============================] - 65s 5ms/step - loss: 0.0160 - accuracy: 0.9980 - val_loss: 0.0436 - val_accuracy: 0.9967\n",
            "Epoch 5/10\n",
            "12439/12439 [==============================] - 74s 6ms/step - loss: 0.0179 - accuracy: 0.9982 - val_loss: 0.0186 - val_accuracy: 0.9985\n",
            "Epoch 6/10\n",
            "12439/12439 [==============================] - 75s 6ms/step - loss: 0.0202 - accuracy: 0.9982 - val_loss: 0.0271 - val_accuracy: 0.9986\n",
            "Epoch 7/10\n",
            "12439/12439 [==============================] - 75s 6ms/step - loss: 0.0137 - accuracy: 0.9984 - val_loss: 0.0073 - val_accuracy: 0.9991\n",
            "Epoch 8/10\n",
            "12439/12439 [==============================] - 65s 5ms/step - loss: 0.0165 - accuracy: 0.9985 - val_loss: 0.0138 - val_accuracy: 0.9988\n",
            "Epoch 9/10\n",
            "12439/12439 [==============================] - 74s 6ms/step - loss: 0.0183 - accuracy: 0.9986 - val_loss: 0.0171 - val_accuracy: 0.9986\n",
            "Epoch 10/10\n",
            "12439/12439 [==============================] - 75s 6ms/step - loss: 0.0203 - accuracy: 0.9988 - val_loss: 0.0325 - val_accuracy: 0.9991\n"
          ]
        }
      ],
      "source": [
        "history = model_cnn.fit(X_train, y_train, epochs=10, validation_data=(X_test, y_test))"
      ]
    },
    {
      "cell_type": "code",
      "execution_count": null,
      "metadata": {
        "colab": {
          "base_uri": "https://localhost:8080/",
          "height": 581
        },
        "id": "-AhBaVrWG51R",
        "outputId": "df4261dd-0743-4b6d-a6aa-ef52001cba39"
      },
      "outputs": [
        {
          "output_type": "display_data",
          "data": {
            "text/plain": [
              "<Figure size 432x288 with 1 Axes>"
            ],
            "image/png": "[encoded data removed]"
          },
          "metadata": {
            "needs_background": "light"
          }
        },
        {
          "output_type": "display_data",
          "data": {
            "text/plain": [
              "<Figure size 432x288 with 1 Axes>"
            ],
            "image/png": "[encoded data removed]"
          },
          "metadata": {
            "needs_background": "light"
          }
        }
      ],
      "source": [
        "history_dict = history.history\n",
        "loss = history_dict['loss']\n",
        "val_loss = history_dict['val_loss']\n",
        "acc = history_dict['accuracy']\n",
        "val_acc = history_dict['val_accuracy']\n",
        "\n",
        "epochs = range(1, len(loss) + 1)\n",
        "\n",
        "plt.plot(epochs, loss, 'b', label='Training Loss')\n",
        "plt.plot(epochs, val_loss, 'r', label='Validation Loss')\n",
        "plt.title('Training and Validation Loss')\n",
        "plt.xlabel('Epochs')\n",
        "plt.ylabel('Loss')\n",
        "plt.legend()\n",
        "plt.savefig('cnn_loss_plot.png')\n",
        "plt.show()\n",
        "\n",
        "plt.figure()\n",
        "\n",
        "plt.plot(epochs, acc, 'b', label='Training Accuracy')\n",
        "plt.plot(epochs, val_acc, 'r', label='Validation Accuracy')\n",
        "plt.title('Training and Validation Accuracy')\n",
        "plt.xlabel('Epochs')\n",
        "plt.ylabel('Accuracy')\n",
        "plt.legend()\n",
        "plt.savefig('cnn_acc_plot.png')\n",
        "plt.show()"
      ]
    },
    {
      "cell_type": "code",
      "execution_count": null,
      "metadata": {
        "colab": {
          "base_uri": "https://localhost:8080/"
        },
        "id": "cZUsC5AAN_9m",
        "outputId": "7cb8f724-2f32-4e1a-a28a-34eaeddf31ad"
      },
      "outputs": [
        {
          "output_type": "execute_result",
          "data": {
            "text/plain": [
              "array([[0.],\n",
              "       [0.],\n",
              "       [1.],\n",
              "       ...,\n",
              "       [1.],\n",
              "       [0.],\n",
              "       [1.]], dtype=float32)"
            ]
          },
          "metadata": {},
          "execution_count": 27
        }
      ],
      "source": [
        "val_predictions = model_cnn.predict(X_test)\n",
        "pred=np.around(val_predictions)\n",
        "pred"
      ]
    },
    {
      "cell_type": "code",
      "execution_count": null,
      "metadata": {
        "colab": {
          "base_uri": "https://localhost:8080/"
        },
        "id": "Tw5jm0VzOLQm",
        "outputId": "311ef4cb-84ef-4b81-a8b3-32893775abcd"
      },
      "outputs": [
        {
          "output_type": "stream",
          "name": "stdout",
          "text": [
            "              precision    recall  f1-score   support\n",
            "\n",
            "           0       1.00      1.00      1.00     85294\n",
            "           1       1.00      1.00      1.00     85295\n",
            "\n",
            "    accuracy                           1.00    170589\n",
            "   macro avg       1.00      1.00      1.00    170589\n",
            "weighted avg       1.00      1.00      1.00    170589\n",
            "\n"
          ]
        }
      ],
      "source": [
        "print(classification_report(y_test, pred))"
      ]
    },
    {
      "cell_type": "markdown",
      "metadata": {
        "id": "uLrb8OlHOUHB"
      },
      "source": [
        "Model 2 - Max Pooling"
      ]
    },
    {
      "cell_type": "code",
      "execution_count": null,
      "metadata": {
        "id": "dLc19TlSObL1"
      },
      "outputs": [],
      "source": [
        "scaler = StandardScaler()\n",
        "data['NormalizedAmount'] = scaler.fit_transform(data['Amount'].values.reshape(-1, 1))"
      ]
    },
    {
      "cell_type": "code",
      "execution_count": null,
      "metadata": {
        "id": "CgIuDKQlOb58"
      },
      "outputs": [],
      "source": [
        "y = data['Class']\n",
        "X = data.drop(['Class'], axis = 1)"
      ]
    },
    {
      "cell_type": "code",
      "execution_count": null,
      "metadata": {
        "id": "LOa5JVE8Ow4O"
      },
      "outputs": [],
      "source": [
        "X_train, X_test, y_train, y_test = train_test_split(X, y, test_size = 0.2, random_state = 0, stratify = y)"
      ]
    },
    {
      "cell_type": "code",
      "execution_count": null,
      "metadata": {
        "colab": {
          "base_uri": "https://localhost:8080/"
        },
        "id": "i_8pPhwQO3Ls",
        "outputId": "4886b16b-900a-44d3-9145-f4d0d1baa881"
      },
      "outputs": [
        {
          "output_type": "execute_result",
          "data": {
            "text/plain": [
              "((227845, 31), (56962, 31))"
            ]
          },
          "metadata": {},
          "execution_count": 32
        }
      ],
      "source": [
        "X_train.shape, X_test.shape"
      ]
    },
    {
      "cell_type": "code",
      "execution_count": null,
      "metadata": {
        "id": "KG1wd1ONO59u"
      },
      "outputs": [],
      "source": [
        "scaler = StandardScaler()\n",
        "X_train = scaler.fit_transform(X_train)\n",
        "X_test = scaler.transform(X_test)"
      ]
    },
    {
      "cell_type": "code",
      "execution_count": null,
      "metadata": {
        "id": "9dDQMeU4O_8E"
      },
      "outputs": [],
      "source": [
        "y_train = y_train.to_numpy()\n",
        "y_test = y_test.to_numpy()"
      ]
    },
    {
      "cell_type": "code",
      "execution_count": null,
      "metadata": {
        "id": "0TrV_fPlPH85"
      },
      "outputs": [],
      "source": [
        "X_train = X_train.reshape(X_train.shape[0], X_train.shape[1], 1)\n",
        "X_test = X_test.reshape(X_test.shape[0], X_test.shape[1], 1)"
      ]
    },
    {
      "cell_type": "code",
      "execution_count": null,
      "metadata": {
        "colab": {
          "base_uri": "https://localhost:8080/"
        },
        "id": "ONe_sWn8PLEb",
        "outputId": "6904a2c6-6254-4d4a-92ec-ef9caac4dae9"
      },
      "outputs": [
        {
          "output_type": "execute_result",
          "data": {
            "text/plain": [
              "((227845, 31, 1), (56962, 31, 1))"
            ]
          },
          "metadata": {},
          "execution_count": 36
        }
      ],
      "source": [
        "X_train.shape, X_test.shape"
      ]
    },
    {
      "cell_type": "code",
      "execution_count": null,
      "metadata": {
        "id": "EO20Z0qxPNtD"
      },
      "outputs": [],
      "source": [
        "from tensorflow.keras import Sequential\n",
        "from tensorflow.keras.layers import Flatten, Dense, Dropout, BatchNormalization\n",
        "from tensorflow.keras.layers import Conv1D, MaxPool1D\n",
        "from tensorflow.keras.optimizers import Adam"
      ]
    },
    {
      "cell_type": "code",
      "execution_count": null,
      "metadata": {
        "id": "xK40d3B6PQeT"
      },
      "outputs": [],
      "source": [
        "epochs = 20\n",
        "model = Sequential()\n",
        "model.add(Conv1D(32, 2, activation='relu', input_shape = X_train[0].shape))\n",
        "model.add(BatchNormalization())\n",
        "model.add(Dropout(0.2))\n",
        "\n",
        "model.add(Conv1D(64, 2, activation='relu'))\n",
        "model.add(BatchNormalization())\n",
        "model.add(Dropout(0.5))\n",
        "\n",
        "model.add(Flatten())\n",
        "model.add(Dense(64, activation='relu'))\n",
        "model.add(Dropout(0.5))\n",
        "\n",
        "model.add(Dense(1, activation='sigmoid'))"
      ]
    },
    {
      "cell_type": "code",
      "execution_count": null,
      "metadata": {
        "colab": {
          "base_uri": "https://localhost:8080/"
        },
        "id": "NbPEZh1APWBt",
        "outputId": "492af4fc-55db-4bed-c1cb-6824e731002b"
      },
      "outputs": [
        {
          "output_type": "stream",
          "name": "stdout",
          "text": [
            "Model: \"sequential_1\"\n",
            "_________________________________________________________________\n",
            " Layer (type)                Output Shape              Param #   \n",
            "=================================================================\n",
            " conv1d_3 (Conv1D)           (None, 30, 32)            96        \n",
            "                                                                 \n",
            " batch_normalization (BatchN  (None, 30, 32)           128       \n",
            " ormalization)                                                   \n",
            "                                                                 \n",
            " dropout (Dropout)           (None, 30, 32)            0         \n",
            "                                                                 \n",
            " conv1d_4 (Conv1D)           (None, 29, 64)            4160      \n",
            "                                                                 \n",
            " batch_normalization_1 (Batc  (None, 29, 64)           256       \n",
            " hNormalization)                                                 \n",
            "                                                                 \n",
            " dropout_1 (Dropout)         (None, 29, 64)            0         \n",
            "                                                                 \n",
            " flatten_1 (Flatten)         (None, 1856)              0         \n",
            "                                                                 \n",
            " dense_2 (Dense)             (None, 64)                118848    \n",
            "                                                                 \n",
            " dropout_2 (Dropout)         (None, 64)                0         \n",
            "                                                                 \n",
            " dense_3 (Dense)             (None, 1)                 65        \n",
            "                                                                 \n",
            "=================================================================\n",
            "Total params: 123,553\n",
            "Trainable params: 123,361\n",
            "Non-trainable params: 192\n",
            "_________________________________________________________________\n"
          ]
        }
      ],
      "source": [
        "model.summary()"
      ]
    },
    {
      "cell_type": "code",
      "execution_count": null,
      "metadata": {
        "id": "6uT1qHPCPZbS"
      },
      "outputs": [],
      "source": [
        "model.compile(optimizer=Adam(lr=0.0001), loss = 'binary_crossentropy', metrics=['accuracy'])"
      ]
    },
    {
      "cell_type": "code",
      "execution_count": null,
      "metadata": {
        "colab": {
          "base_uri": "https://localhost:8080/"
        },
        "id": "mRrkQAecPdbq",
        "outputId": "59f944ad-c53a-4a13-fa22-040a5a979cc5"
      },
      "outputs": [
        {
          "output_type": "stream",
          "name": "stdout",
          "text": [
            "Epoch 1/20\n",
            "7121/7121 [==============================] - 39s 5ms/step - loss: 0.0229 - accuracy: 0.9939 - val_loss: 0.0047 - val_accuracy: 0.9994\n",
            "Epoch 2/20\n",
            "7121/7121 [==============================] - 36s 5ms/step - loss: 0.0054 - accuracy: 0.9992 - val_loss: 0.0046 - val_accuracy: 0.9993\n",
            "Epoch 3/20\n",
            "7121/7121 [==============================] - 36s 5ms/step - loss: 0.0048 - accuracy: 0.9992 - val_loss: 0.0041 - val_accuracy: 0.9993\n",
            "Epoch 4/20\n",
            "7121/7121 [==============================] - 35s 5ms/step - loss: 0.0046 - accuracy: 0.9992 - val_loss: 0.0036 - val_accuracy: 0.9994\n",
            "Epoch 5/20\n",
            "7121/7121 [==============================] - 37s 5ms/step - loss: 0.0044 - accuracy: 0.9993 - val_loss: 0.0039 - val_accuracy: 0.9993\n",
            "Epoch 6/20\n",
            "7121/7121 [==============================] - 35s 5ms/step - loss: 0.0042 - accuracy: 0.9993 - val_loss: 0.0042 - val_accuracy: 0.9993\n",
            "Epoch 7/20\n",
            "7121/7121 [==============================] - 37s 5ms/step - loss: 0.0040 - accuracy: 0.9993 - val_loss: 0.0033 - val_accuracy: 0.9993\n",
            "Epoch 8/20\n",
            "7121/7121 [==============================] - 36s 5ms/step - loss: 0.0041 - accuracy: 0.9994 - val_loss: 0.0040 - val_accuracy: 0.9993\n",
            "Epoch 9/20\n",
            "7121/7121 [==============================] - 35s 5ms/step - loss: 0.0039 - accuracy: 0.9994 - val_loss: 0.0033 - val_accuracy: 0.9994\n",
            "Epoch 10/20\n",
            "7121/7121 [==============================] - 37s 5ms/step - loss: 0.0034 - accuracy: 0.9994 - val_loss: 0.0036 - val_accuracy: 0.9993\n",
            "Epoch 11/20\n",
            "7121/7121 [==============================] - 35s 5ms/step - loss: 0.0038 - accuracy: 0.9994 - val_loss: 0.0035 - val_accuracy: 0.9994\n",
            "Epoch 12/20\n",
            "7121/7121 [==============================] - 37s 5ms/step - loss: 0.0036 - accuracy: 0.9994 - val_loss: 0.0033 - val_accuracy: 0.9994\n",
            "Epoch 13/20\n",
            "7121/7121 [==============================] - 37s 5ms/step - loss: 0.0034 - accuracy: 0.9994 - val_loss: 0.0035 - val_accuracy: 0.9993\n",
            "Epoch 14/20\n",
            "7121/7121 [==============================] - 37s 5ms/step - loss: 0.0033 - accuracy: 0.9994 - val_loss: 0.0037 - val_accuracy: 0.9993\n",
            "Epoch 15/20\n",
            "7121/7121 [==============================] - 37s 5ms/step - loss: 0.0033 - accuracy: 0.9994 - val_loss: 0.0034 - val_accuracy: 0.9993\n",
            "Epoch 16/20\n",
            "7121/7121 [==============================] - 36s 5ms/step - loss: 0.0034 - accuracy: 0.9994 - val_loss: 0.0038 - val_accuracy: 0.9994\n",
            "Epoch 17/20\n",
            "7121/7121 [==============================] - 35s 5ms/step - loss: 0.0033 - accuracy: 0.9994 - val_loss: 0.0032 - val_accuracy: 0.9993\n",
            "Epoch 18/20\n",
            "7121/7121 [==============================] - 37s 5ms/step - loss: 0.0031 - accuracy: 0.9994 - val_loss: 0.0034 - val_accuracy: 0.9993\n",
            "Epoch 19/20\n",
            "7121/7121 [==============================] - 37s 5ms/step - loss: 0.0031 - accuracy: 0.9994 - val_loss: 0.0037 - val_accuracy: 0.9993\n",
            "Epoch 20/20\n",
            "7121/7121 [==============================] - 37s 5ms/step - loss: 0.0031 - accuracy: 0.9994 - val_loss: 0.0032 - val_accuracy: 0.9993\n"
          ]
        }
      ],
      "source": [
        "history = model.fit(X_train, y_train, epochs=epochs, validation_data=(X_test, y_test), verbose=1)"
      ]
    },
    {
      "cell_type": "code",
      "execution_count": null,
      "metadata": {
        "id": "r4taHzp1PgEO"
      },
      "outputs": [],
      "source": [
        "def plot_learningCurve(history, epoch):\n",
        "  # Plot training & validation accuracy values\n",
        "  epoch_range = range(1, epoch+1)\n",
        "  plt.plot(epoch_range, history.history['accuracy'])\n",
        "  plt.plot(epoch_range, history.history['val_accuracy'])\n",
        "  plt.title('Model accuracy')\n",
        "  plt.ylabel('Accuracy')\n",
        "  plt.xlabel('Epoch')\n",
        "  plt.legend(['Train', 'Val'], loc='upper left')\n",
        "  plt.show()\n",
        "\n",
        "  # Plot training & validation loss values\n",
        "  plt.plot(epoch_range, history.history['loss'])\n",
        "  plt.plot(epoch_range, history.history['val_loss'])\n",
        "  plt.title('Model loss')\n",
        "  plt.ylabel('Loss')\n",
        "  plt.xlabel('Epoch')\n",
        "  plt.legend(['Train', 'Val'], loc='upper left')\n",
        "  plt.show()"
      ]
    },
    {
      "cell_type": "code",
      "execution_count": null,
      "metadata": {
        "colab": {
          "base_uri": "https://localhost:8080/",
          "height": 581
        },
        "id": "8ol8O9iOUE3J",
        "outputId": "53b669f1-2b6b-4278-ff22-378a277e9914"
      },
      "outputs": [
        {
          "output_type": "display_data",
          "data": {
            "text/plain": [
              "<Figure size 432x288 with 1 Axes>"
            ],
            "image/png": "[encoded data removed]"
          },
          "metadata": {
            "needs_background": "light"
          }
        },
        {
          "output_type": "display_data",
          "data": {
            "text/plain": [
              "<Figure size 432x288 with 1 Axes>"
            ],
            "image/png": "[encoded data removed]"
          },
          "metadata": {
            "needs_background": "light"
          }
        }
      ],
      "source": [
        "plot_learningCurve(history, epochs)"
      ]
    },
    {
      "cell_type": "code",
      "execution_count": null,
      "metadata": {
        "colab": {
          "base_uri": "https://localhost:8080/"
        },
        "id": "sPK_rKlgilwx",
        "outputId": "4e5635c2-daa6-4e2c-ed01-f47c76755135"
      },
      "outputs": [
        {
          "output_type": "execute_result",
          "data": {
            "text/plain": [
              "array([[0.],\n",
              "       [0.],\n",
              "       [0.],\n",
              "       ...,\n",
              "       [0.],\n",
              "       [0.],\n",
              "       [0.]], dtype=float32)"
            ]
          },
          "metadata": {},
          "execution_count": 44
        }
      ],
      "source": [
        "val_predictions = model.predict(X_test)\n",
        "pred=np.around(val_predictions)\n",
        "pred"
      ]
    },
    {
      "cell_type": "code",
      "execution_count": null,
      "metadata": {
        "colab": {
          "base_uri": "https://localhost:8080/"
        },
        "id": "mU4ZIO_airAV",
        "outputId": "c8cc0bc7-ecd1-471e-9eed-136dcff43960"
      },
      "outputs": [
        {
          "output_type": "stream",
          "name": "stdout",
          "text": [
            "              precision    recall  f1-score   support\n",
            "\n",
            "           0       1.00      1.00      1.00     56864\n",
            "           1       0.86      0.71      0.78        98\n",
            "\n",
            "    accuracy                           1.00     56962\n",
            "   macro avg       0.93      0.86      0.89     56962\n",
            "weighted avg       1.00      1.00      1.00     56962\n",
            "\n"
          ]
        }
      ],
      "source": [
        "print(classification_report(y_test, pred))"
      ]
    },
    {
      "cell_type": "markdown",
      "metadata": {
        "id": "dfotydXriwaN"
      },
      "source": [
        "Model 3 - DNN Weighted Neural Network"
      ]
    },
    {
      "cell_type": "code",
      "execution_count": null,
      "metadata": {
        "colab": {
          "base_uri": "https://localhost:8080/"
        },
        "id": "OXcOATQei1jS",
        "outputId": "96a9751f-922f-4a07-89f6-ac8b7cda4ce8"
      },
      "outputs": [
        {
          "output_type": "stream",
          "name": "stdout",
          "text": [
            "(284807, 31)\n",
            "(284807,)\n"
          ]
        }
      ],
      "source": [
        "print(X.shape)\n",
        "print(y.shape)"
      ]
    },
    {
      "cell_type": "code",
      "execution_count": null,
      "metadata": {
        "id": "s0oXPScci4n1"
      },
      "outputs": [],
      "source": [
        "train_data, test_data, train_targets, test_targets = train_test_split(X, y, test_size=.3)"
      ]
    },
    {
      "cell_type": "code",
      "execution_count": null,
      "metadata": {
        "id": "Ql1xj7cBi7nv"
      },
      "outputs": [],
      "source": [
        "train_data, validation_data, train_targets, validation_targets = train_test_split(train_data, train_targets, test_size=.2)"
      ]
    },
    {
      "cell_type": "code",
      "execution_count": null,
      "metadata": {
        "id": "ODuuZEE8i9xY"
      },
      "outputs": [],
      "source": [
        "mean = np.mean(train_data)\n",
        "std = np.std(train_data)\n",
        "\n",
        "\n",
        "train_data -= mean\n",
        "train_data /= std\n",
        "\n",
        "validation_data -= mean\n",
        "validation_data /= std\n",
        "\n",
        "test_data -= mean\n",
        "test_data /= std"
      ]
    },
    {
      "cell_type": "code",
      "execution_count": null,
      "metadata": {
        "id": "BeFLTvC-jADs"
      },
      "outputs": [],
      "source": [
        "from keras import models, layers"
      ]
    },
    {
      "cell_type": "code",
      "execution_count": null,
      "metadata": {
        "id": "inwog34QjB6K"
      },
      "outputs": [],
      "source": [
        "epochs=20\n",
        "model = models.Sequential()\n",
        "\n",
        "model.add(layers.Dense(10, input_shape=(train_data.shape[1],), activation='relu'))\n",
        "\n",
        "model.add(layers.Dense(8, activation='relu'))\n",
        "\n",
        "model.add(layers.Dense(6, activation='relu'))\n",
        "\n",
        "model.add(layers.Dense(1, activation='sigmoid'))"
      ]
    },
    {
      "cell_type": "code",
      "execution_count": null,
      "metadata": {
        "id": "FpS7kn10jEEY"
      },
      "outputs": [],
      "source": [
        "from sklearn.metrics import classification_report"
      ]
    },
    {
      "cell_type": "code",
      "execution_count": null,
      "metadata": {
        "id": "4wFz58kSjGIG"
      },
      "outputs": [],
      "source": [
        "model.compile(optimizer=Adam(lr=0.0001), loss = 'binary_crossentropy', metrics=['accuracy'])"
      ]
    },
    {
      "cell_type": "code",
      "execution_count": null,
      "metadata": {
        "colab": {
          "base_uri": "https://localhost:8080/"
        },
        "id": "GDO0XopsjIZg",
        "outputId": "d38657ae-5962-49c3-811f-17806b4eed70"
      },
      "outputs": [
        {
          "output_type": "stream",
          "name": "stdout",
          "text": [
            "Model: \"sequential_2\"\n",
            "_________________________________________________________________\n",
            " Layer (type)                Output Shape              Param #   \n",
            "=================================================================\n",
            " dense_4 (Dense)             (None, 10)                320       \n",
            "                                                                 \n",
            " dense_5 (Dense)             (None, 8)                 88        \n",
            "                                                                 \n",
            " dense_6 (Dense)             (None, 6)                 54        \n",
            "                                                                 \n",
            " dense_7 (Dense)             (None, 1)                 7         \n",
            "                                                                 \n",
            "=================================================================\n",
            "Total params: 469\n",
            "Trainable params: 469\n",
            "Non-trainable params: 0\n",
            "_________________________________________________________________\n"
          ]
        }
      ],
      "source": [
        "model.summary()"
      ]
    },
    {
      "cell_type": "code",
      "execution_count": null,
      "metadata": {
        "colab": {
          "base_uri": "https://localhost:8080/"
        },
        "id": "j25dQ6mHjKPS",
        "outputId": "28854cdc-7b1f-44a8-c5d8-aaf96814a7e1"
      },
      "outputs": [
        {
          "output_type": "stream",
          "name": "stdout",
          "text": [
            "Epoch 1/20\n",
            "4985/4985 [==============================] - 19s 4ms/step - loss: 0.1816 - accuracy: 0.9548 - val_loss: 0.0166 - val_accuracy: 0.9983\n",
            "Epoch 2/20\n",
            "4985/4985 [==============================] - 18s 4ms/step - loss: 0.0101 - accuracy: 0.9982 - val_loss: 0.0061 - val_accuracy: 0.9983\n",
            "Epoch 3/20\n",
            "4985/4985 [==============================] - 19s 4ms/step - loss: 0.0053 - accuracy: 0.9988 - val_loss: 0.0045 - val_accuracy: 0.9993\n",
            "Epoch 4/20\n",
            "4985/4985 [==============================] - 18s 4ms/step - loss: 0.0044 - accuracy: 0.9993 - val_loss: 0.0040 - val_accuracy: 0.9995\n",
            "Epoch 5/20\n",
            "4985/4985 [==============================] - 18s 4ms/step - loss: 0.0041 - accuracy: 0.9994 - val_loss: 0.0038 - val_accuracy: 0.9995\n",
            "Epoch 6/20\n",
            "4985/4985 [==============================] - 19s 4ms/step - loss: 0.0038 - accuracy: 0.9994 - val_loss: 0.0036 - val_accuracy: 0.9995\n",
            "Epoch 7/20\n",
            "4985/4985 [==============================] - 19s 4ms/step - loss: 0.0036 - accuracy: 0.9994 - val_loss: 0.0035 - val_accuracy: 0.9995\n",
            "Epoch 8/20\n",
            "4985/4985 [==============================] - 18s 4ms/step - loss: 0.0035 - accuracy: 0.9994 - val_loss: 0.0034 - val_accuracy: 0.9995\n",
            "Epoch 9/20\n",
            "4985/4985 [==============================] - 19s 4ms/step - loss: 0.0033 - accuracy: 0.9994 - val_loss: 0.0033 - val_accuracy: 0.9995\n",
            "Epoch 10/20\n",
            "4985/4985 [==============================] - 18s 4ms/step - loss: 0.0032 - accuracy: 0.9994 - val_loss: 0.0033 - val_accuracy: 0.9994\n",
            "Epoch 11/20\n",
            "4985/4985 [==============================] - 18s 4ms/step - loss: 0.0032 - accuracy: 0.9994 - val_loss: 0.0032 - val_accuracy: 0.9995\n",
            "Epoch 12/20\n",
            "4985/4985 [==============================] - 19s 4ms/step - loss: 0.0031 - accuracy: 0.9994 - val_loss: 0.0032 - val_accuracy: 0.9994\n",
            "Epoch 13/20\n",
            "4985/4985 [==============================] - 19s 4ms/step - loss: 0.0031 - accuracy: 0.9994 - val_loss: 0.0032 - val_accuracy: 0.9994\n",
            "Epoch 14/20\n",
            "4985/4985 [==============================] - 18s 4ms/step - loss: 0.0030 - accuracy: 0.9994 - val_loss: 0.0032 - val_accuracy: 0.9994\n",
            "Epoch 15/20\n",
            "4985/4985 [==============================] - 19s 4ms/step - loss: 0.0030 - accuracy: 0.9994 - val_loss: 0.0032 - val_accuracy: 0.9995\n",
            "Epoch 16/20\n",
            "4985/4985 [==============================] - 19s 4ms/step - loss: 0.0029 - accuracy: 0.9994 - val_loss: 0.0032 - val_accuracy: 0.9994\n",
            "Epoch 17/20\n",
            "4985/4985 [==============================] - 18s 4ms/step - loss: 0.0029 - accuracy: 0.9994 - val_loss: 0.0032 - val_accuracy: 0.9994\n",
            "Epoch 18/20\n",
            "4985/4985 [==============================] - 18s 4ms/step - loss: 0.0029 - accuracy: 0.9994 - val_loss: 0.0031 - val_accuracy: 0.9994\n",
            "Epoch 19/20\n",
            "4985/4985 [==============================] - 18s 4ms/step - loss: 0.0028 - accuracy: 0.9994 - val_loss: 0.0032 - val_accuracy: 0.9994\n",
            "Epoch 20/20\n",
            "4985/4985 [==============================] - 19s 4ms/step - loss: 0.0028 - accuracy: 0.9994 - val_loss: 0.0032 - val_accuracy: 0.9994\n"
          ]
        }
      ],
      "source": [
        "history = model.fit(train_data, train_targets, epochs=epochs, validation_data=(test_data, test_targets), verbose=1)"
      ]
    },
    {
      "cell_type": "code",
      "execution_count": null,
      "metadata": {
        "id": "pIiE3gN1jM0m"
      },
      "outputs": [],
      "source": [
        "def plot_learningCurve(history, epoch):\n",
        "  # Plot training & validation accuracy values\n",
        "  epoch_range = range(1, epoch+1)\n",
        "  plt.plot(epoch_range, history.history['accuracy'])\n",
        "  plt.plot(epoch_range, history.history['val_accuracy'])\n",
        "  plt.title('Model accuracy')\n",
        "  plt.ylabel('Accuracy')\n",
        "  plt.xlabel('Epoch')\n",
        "  plt.legend(['Train', 'Val'], loc='upper left')\n",
        "  plt.show()\n",
        "\n",
        "  # Plot training & validation loss values\n",
        "  plt.plot(epoch_range, history.history['loss'])\n",
        "  plt.plot(epoch_range, history.history['val_loss'])\n",
        "  plt.title('Model loss')\n",
        "  plt.ylabel('Loss')\n",
        "  plt.xlabel('Epoch')\n",
        "  plt.legend(['Train', 'Val'], loc='upper left')\n",
        "  plt.show()"
      ]
    },
    {
      "cell_type": "code",
      "execution_count": null,
      "metadata": {
        "colab": {
          "base_uri": "https://localhost:8080/",
          "height": 581
        },
        "id": "znx2tSrokj2Q",
        "outputId": "98738f18-fe97-4d2a-f866-7acf17a8556c"
      },
      "outputs": [
        {
          "output_type": "display_data",
          "data": {
            "text/plain": [
              "<Figure size 432x288 with 1 Axes>"
            ],
            "image/png": "[encoded data removed]"
          },
          "metadata": {
            "needs_background": "light"
          }
        },
        {
          "output_type": "display_data",
          "data": {
            "text/plain": [
              "<Figure size 432x288 with 1 Axes>"
            ],
            "image/png": "[encoded data removed]"
          },
          "metadata": {
            "needs_background": "light"
          }
        }
      ],
      "source": [
        "plot_learningCurve(history, epochs)"
      ]
    },
    {
      "cell_type": "code",
      "execution_count": null,
      "metadata": {
        "colab": {
          "base_uri": "https://localhost:8080/"
        },
        "id": "smbQx75ckl6c",
        "outputId": "2acd7923-6c02-4007-824f-595bd2065f53"
      },
      "outputs": [
        {
          "output_type": "execute_result",
          "data": {
            "text/plain": [
              "array([[0.],\n",
              "       [0.],\n",
              "       [0.],\n",
              "       ...,\n",
              "       [0.],\n",
              "       [0.],\n",
              "       [0.]], dtype=float32)"
            ]
          },
          "metadata": {},
          "execution_count": 58
        }
      ],
      "source": [
        "val_predictions = model.predict(test_data)\n",
        "pred=np.around(val_predictions)\n",
        "pred"
      ]
    },
    {
      "cell_type": "code",
      "execution_count": null,
      "metadata": {
        "colab": {
          "base_uri": "https://localhost:8080/"
        },
        "id": "gqy39bUSko-L",
        "outputId": "5cf73d9b-2f07-44da-b762-00e69cdd21b4"
      },
      "outputs": [
        {
          "output_type": "stream",
          "name": "stdout",
          "text": [
            "              precision    recall  f1-score   support\n",
            "\n",
            "           0       1.00      1.00      1.00     85301\n",
            "           1       0.88      0.75      0.81       142\n",
            "\n",
            "    accuracy                           1.00     85443\n",
            "   macro avg       0.94      0.88      0.91     85443\n",
            "weighted avg       1.00      1.00      1.00     85443\n",
            "\n"
          ]
        }
      ],
      "source": [
        "print(classification_report(test_targets, pred))"
      ]
    },
    {
      "cell_type": "code",
      "execution_count": null,
      "metadata": {
        "colab": {
          "base_uri": "https://localhost:8080/"
        },
        "id": "zYFw4wcikrPd",
        "outputId": "7a8b906d-3757-431d-d3c3-cc6c4ec5c7c5"
      },
      "outputs": [
        {
          "output_type": "execute_result",
          "data": {
            "text/plain": [
              "0    159204\n",
              "1       287\n",
              "Name: Class, dtype: int64"
            ]
          },
          "metadata": {},
          "execution_count": 60
        }
      ],
      "source": [
        "train_targets.value_counts()"
      ]
    },
    {
      "cell_type": "code",
      "execution_count": null,
      "metadata": {
        "id": "Vco2_nXaktnN"
      },
      "outputs": [],
      "source": [
        "weights = {\n",
        "    0:1,\n",
        "    1:562\n",
        "}"
      ]
    },
    {
      "cell_type": "code",
      "execution_count": null,
      "metadata": {
        "colab": {
          "base_uri": "https://localhost:8080/"
        },
        "id": "qW7S8KrUkv4T",
        "outputId": "683d5335-dace-4b29-f3a6-e78906aae50e"
      },
      "outputs": [
        {
          "output_type": "stream",
          "name": "stdout",
          "text": [
            "Epoch 1/20\n",
            "4985/4985 [==============================] - 19s 4ms/step - loss: 1.3085 - accuracy: 0.8208 - val_loss: 0.5156 - val_accuracy: 0.8975\n",
            "Epoch 2/20\n",
            "4985/4985 [==============================] - 18s 4ms/step - loss: 0.8703 - accuracy: 0.9407 - val_loss: 0.3437 - val_accuracy: 0.9571\n",
            "Epoch 3/20\n",
            "4985/4985 [==============================] - 20s 4ms/step - loss: 0.5733 - accuracy: 0.9699 - val_loss: 0.2417 - val_accuracy: 0.9756\n",
            "Epoch 4/20\n",
            "4985/4985 [==============================] - 20s 4ms/step - loss: 0.4542 - accuracy: 0.9788 - val_loss: 0.1819 - val_accuracy: 0.9809\n",
            "Epoch 5/20\n",
            "4985/4985 [==============================] - 19s 4ms/step - loss: 0.3954 - accuracy: 0.9826 - val_loss: 0.1500 - val_accuracy: 0.9832\n",
            "Epoch 6/20\n",
            "4985/4985 [==============================] - 20s 4ms/step - loss: 0.3572 - accuracy: 0.9833 - val_loss: 0.1172 - val_accuracy: 0.9873\n",
            "Epoch 7/20\n",
            "4985/4985 [==============================] - 20s 4ms/step - loss: 0.3350 - accuracy: 0.9861 - val_loss: 0.1058 - val_accuracy: 0.9873\n",
            "Epoch 8/20\n",
            "4985/4985 [==============================] - 20s 4ms/step - loss: 0.3190 - accuracy: 0.9875 - val_loss: 0.1023 - val_accuracy: 0.9863\n",
            "Epoch 9/20\n",
            "4985/4985 [==============================] - 19s 4ms/step - loss: 0.3048 - accuracy: 0.9859 - val_loss: 0.0948 - val_accuracy: 0.9875\n",
            "Epoch 10/20\n",
            "4985/4985 [==============================] - 18s 4ms/step - loss: 0.2947 - accuracy: 0.9868 - val_loss: 0.0944 - val_accuracy: 0.9861\n",
            "Epoch 11/20\n",
            "4985/4985 [==============================] - 19s 4ms/step - loss: 0.2819 - accuracy: 0.9860 - val_loss: 0.0941 - val_accuracy: 0.9846\n",
            "Epoch 12/20\n",
            "4985/4985 [==============================] - 19s 4ms/step - loss: 0.2717 - accuracy: 0.9856 - val_loss: 0.0967 - val_accuracy: 0.9829\n",
            "Epoch 13/20\n",
            "4985/4985 [==============================] - 20s 4ms/step - loss: 0.2612 - accuracy: 0.9847 - val_loss: 0.0947 - val_accuracy: 0.9827\n",
            "Epoch 14/20\n",
            "4985/4985 [==============================] - 19s 4ms/step - loss: 0.2524 - accuracy: 0.9832 - val_loss: 0.0855 - val_accuracy: 0.9846\n",
            "Epoch 15/20\n",
            "4985/4985 [==============================] - 19s 4ms/step - loss: 0.2464 - accuracy: 0.9835 - val_loss: 0.0844 - val_accuracy: 0.9838\n",
            "Epoch 16/20\n",
            "4985/4985 [==============================] - 20s 4ms/step - loss: 0.2434 - accuracy: 0.9857 - val_loss: 0.0926 - val_accuracy: 0.9804\n",
            "Epoch 17/20\n",
            "4985/4985 [==============================] - 19s 4ms/step - loss: 0.2363 - accuracy: 0.9824 - val_loss: 0.0872 - val_accuracy: 0.9819\n",
            "Epoch 18/20\n",
            "4985/4985 [==============================] - 19s 4ms/step - loss: 0.2333 - accuracy: 0.9833 - val_loss: 0.0902 - val_accuracy: 0.9803\n",
            "Epoch 19/20\n",
            "4985/4985 [==============================] - 19s 4ms/step - loss: 0.2262 - accuracy: 0.9818 - val_loss: 0.0815 - val_accuracy: 0.9826\n",
            "Epoch 20/20\n",
            "4985/4985 [==============================] - 20s 4ms/step - loss: 0.2237 - accuracy: 0.9834 - val_loss: 0.0838 - val_accuracy: 0.9814\n"
          ]
        }
      ],
      "source": [
        "model = models.Sequential()\n",
        "\n",
        "model.add(layers.Dense(10, input_shape=(train_data.shape[1],), activation='relu'))\n",
        "\n",
        "model.add(layers.Dense(8, activation='relu'))\n",
        "\n",
        "model.add(layers.Dense(6, activation='relu'))\n",
        "\n",
        "model.add(layers.Dense(1, activation='sigmoid'))\n",
        "\n",
        "model.compile(optimizer=Adam(lr=0.0001), loss = 'binary_crossentropy', metrics=['accuracy'])\n",
        "\n",
        "# CHANGE\n",
        "history = model.fit(train_data, train_targets, epochs=epochs, validation_data=(test_data, test_targets), verbose=1, class_weight=weights)"
      ]
    },
    {
      "cell_type": "code",
      "execution_count": null,
      "metadata": {
        "colab": {
          "base_uri": "https://localhost:8080/",
          "height": 581
        },
        "id": "HiJz3mpLkzBU",
        "outputId": "93e832df-64c2-4473-c276-d567b9380e6d"
      },
      "outputs": [
        {
          "output_type": "display_data",
          "data": {
            "text/plain": [
              "<Figure size 432x288 with 1 Axes>"
            ],
            "image/png": "[encoded data removed]"
          },
          "metadata": {
            "needs_background": "light"
          }
        },
        {
          "output_type": "display_data",
          "data": {
            "text/plain": [
              "<Figure size 432x288 with 1 Axes>"
            ],
            "image/png": "[encoded data removed]"
          },
          "metadata": {
            "needs_background": "light"
          }
        }
      ],
      "source": [
        "plot_learningCurve(history, epochs)"
      ]
    },
    {
      "cell_type": "code",
      "execution_count": null,
      "metadata": {
        "colab": {
          "base_uri": "https://localhost:8080/"
        },
        "id": "NSePzJeVmKKn",
        "outputId": "12503c4c-11c3-4e8e-80da-02b855279000"
      },
      "outputs": [
        {
          "output_type": "stream",
          "name": "stdout",
          "text": [
            "855/855 [==============================] - 2s 2ms/step - loss: 0.0838 - accuracy: 0.9814\n",
            "\n",
            "And the Score is  98.13677072525024 %\n"
          ]
        }
      ],
      "source": [
        "score = model.evaluate(test_data, test_targets, batch_size=100)\n",
        "print('\\nAnd the Score is ', score[1] * 100, '%')"
      ]
    },
    {
      "cell_type": "code",
      "execution_count": null,
      "metadata": {
        "id": "AfgxadldmMYx"
      },
      "outputs": [],
      "source": [
        "predictions = model.predict(test_data)"
      ]
    },
    {
      "cell_type": "code",
      "execution_count": null,
      "metadata": {
        "colab": {
          "base_uri": "https://localhost:8080/"
        },
        "id": "5qEQZTxjmOiU",
        "outputId": "81c9c41c-95a4-49fc-c9a5-aa97f2980eb6"
      },
      "outputs": [
        {
          "output_type": "execute_result",
          "data": {
            "text/plain": [
              "0.9729101800401593"
            ]
          },
          "metadata": {},
          "execution_count": 66
        }
      ],
      "source": [
        "from sklearn.metrics import roc_auc_score\n",
        "\n",
        "roc_auc_score(test_targets, predictions)"
      ]
    },
    {
      "cell_type": "code",
      "execution_count": null,
      "metadata": {
        "id": "r5I1f8FqmRfP"
      },
      "outputs": [],
      "source": [
        "predictions = np.around(predictions)"
      ]
    },
    {
      "cell_type": "code",
      "execution_count": null,
      "metadata": {
        "colab": {
          "base_uri": "https://localhost:8080/"
        },
        "id": "F39CM4ffmUsE",
        "outputId": "47dd7431-008a-41b9-d3f9-5ca534f874b1"
      },
      "outputs": [
        {
          "output_type": "stream",
          "name": "stdout",
          "text": [
            "              precision    recall  f1-score   support\n",
            "\n",
            "           0       1.00      0.98      0.99     85301\n",
            "           1       0.08      0.91      0.14       142\n",
            "\n",
            "    accuracy                           0.98     85443\n",
            "   macro avg       0.54      0.94      0.57     85443\n",
            "weighted avg       1.00      0.98      0.99     85443\n",
            "\n"
          ]
        }
      ],
      "source": [
        "print(classification_report(test_targets, predictions))"
      ]
    },
    {
      "cell_type": "markdown",
      "metadata": {
        "id": "14ajSzC9mY0Y"
      },
      "source": [
        "LSTM"
      ]
    },
    {
      "cell_type": "code",
      "execution_count": null,
      "metadata": {
        "id": "JEvUcMnXmbq0"
      },
      "outputs": [],
      "source": [
        "import pandas as pd\n",
        "import sklearn.metrics as metrique\n",
        "from pandas import Series\n",
        "from sklearn.preprocessing import StandardScaler, MinMaxScaler\n",
        "from matplotlib import pyplot\n",
        "from sklearn.model_selection import train_test_split\n",
        "import numpy as np\n",
        "from keras.callbacks import EarlyStopping\n",
        "from keras.utils import np_utils\n",
        "from keras.callbacks import ModelCheckpoint\n",
        "from sklearn.metrics import accuracy_score\n",
        "from sklearn.metrics import classification_report, confusion_matrix\n",
        "from keras.models import Sequential\n",
        "from keras.utils import np_utils\n",
        "from keras.layers import LSTM, Dense, Embedding, Dropout,Input, Attention, Layer, Concatenate, Permute, Dot, Multiply, Flatten\n",
        "from keras.layers import RepeatVector, Dense, Activation, Lambda\n",
        "from keras.models import Sequential\n",
        "from keras import backend as K, regularizers, Model, metrics\n",
        "from keras.backend import cast"
      ]
    },
    {
      "cell_type": "code",
      "execution_count": null,
      "metadata": {
        "id": "tpulXjdPmeob"
      },
      "outputs": [],
      "source": [
        "data1 = pd.read_csv(\"/content/drive/MyDrive/creditcard.csv\")\n",
        "col_del = ['Time' ,'V5', 'V6', 'V7', 'V8', 'V9','V13','V15', 'V16',  'V18', 'V19', 'V20','V21', 'V22', 'V23', 'V24', 'V25', 'V26', 'V27', 'V28', 'Amount']"
      ]
    },
    {
      "cell_type": "code",
      "execution_count": null,
      "metadata": {
        "colab": {
          "base_uri": "https://localhost:8080/"
        },
        "id": "ABUkcWCUmptw",
        "outputId": "2cf8e878-d7a8-47fe-b305-21bfb88e4cea"
      },
      "outputs": [
        {
          "output_type": "execute_result",
          "data": {
            "text/plain": [
              "(284807, 10)"
            ]
          },
          "metadata": {},
          "execution_count": 71
        }
      ],
      "source": [
        "tr_data = data1.drop(col_del,axis =1)\n",
        "tr_data.shape"
      ]
    },
    {
      "cell_type": "code",
      "execution_count": null,
      "metadata": {
        "id": "mUx9yAmRmuQh"
      },
      "outputs": [],
      "source": [
        "X = tr_data.drop(['Class'], axis = 'columns')\n",
        "Label_Data = tr_data['Class']"
      ]
    },
    {
      "cell_type": "code",
      "execution_count": null,
      "metadata": {
        "colab": {
          "base_uri": "https://localhost:8080/"
        },
        "id": "loa7MlacmxOS",
        "outputId": "3c828d90-98bb-4624-a79c-781f9507b414"
      },
      "outputs": [
        {
          "output_type": "stream",
          "name": "stdout",
          "text": [
            "Counter({0: 284315, 1: 492})\n"
          ]
        }
      ],
      "source": [
        "# Generate and plot imbalanced classification dataset\n",
        "from collections import Counter\n",
        "from matplotlib import pyplot\n",
        "from numpy import where\n",
        "# summarize class distribution\n",
        "counter = Counter(tr_data['Class'])\n",
        "print(counter)\n",
        "# scatter plot of examples by class label\n",
        "for label, _ in counter.items():\n",
        "\trow_ix = where(tr_data['Class'] == label)[0]"
      ]
    },
    {
      "cell_type": "code",
      "execution_count": null,
      "metadata": {
        "colab": {
          "base_uri": "https://localhost:8080/",
          "height": 235
        },
        "id": "bDIIZ2I6mz5J",
        "outputId": "2399c953-86c5-4d51-e124-4312a7b611da"
      },
      "outputs": [
        {
          "output_type": "error",
          "ename": "NameError",
          "evalue": "ignored",
          "traceback": [
            "\u001b[0;31m---------------------------------------------------------------------------\u001b[0m",
            "\u001b[0;31mNameError\u001b[0m                                 Traceback (most recent call last)",
            "\u001b[0;32m<ipython-input-1-d984bf888cb5>\u001b[0m in \u001b[0;36m<module>\u001b[0;34m()\u001b[0m\n\u001b[1;32m      2\u001b[0m \u001b[0;32mfrom\u001b[0m \u001b[0mimblearn\u001b[0m\u001b[0;34m.\u001b[0m\u001b[0mover_sampling\u001b[0m \u001b[0;32mimport\u001b[0m \u001b[0mSMOTE\u001b[0m\u001b[0;34m\u001b[0m\u001b[0;34m\u001b[0m\u001b[0m\n\u001b[1;32m      3\u001b[0m \u001b[0moversample\u001b[0m \u001b[0;34m=\u001b[0m \u001b[0mSMOTE\u001b[0m\u001b[0;34m(\u001b[0m\u001b[0;34m)\u001b[0m\u001b[0;34m\u001b[0m\u001b[0;34m\u001b[0m\u001b[0m\n\u001b[0;32m----> 4\u001b[0;31m \u001b[0mX_r\u001b[0m\u001b[0;34m,\u001b[0m \u001b[0my\u001b[0m \u001b[0;34m=\u001b[0m \u001b[0moversample\u001b[0m\u001b[0;34m.\u001b[0m\u001b[0mfit_resample\u001b[0m\u001b[0;34m(\u001b[0m\u001b[0mX\u001b[0m\u001b[0;34m,\u001b[0m \u001b[0mtr_data\u001b[0m\u001b[0;34m[\u001b[0m\u001b[0;34m'Class'\u001b[0m\u001b[0;34m]\u001b[0m\u001b[0;34m)\u001b[0m\u001b[0;34m\u001b[0m\u001b[0;34m\u001b[0m\u001b[0m\n\u001b[0m\u001b[1;32m      5\u001b[0m \u001b[0;31m# summarize the new class distribution\u001b[0m\u001b[0;34m\u001b[0m\u001b[0;34m\u001b[0m\u001b[0;34m\u001b[0m\u001b[0m\n\u001b[1;32m      6\u001b[0m \u001b[0mcounter\u001b[0m \u001b[0;34m=\u001b[0m \u001b[0mCounter\u001b[0m\u001b[0;34m(\u001b[0m\u001b[0my\u001b[0m\u001b[0;34m)\u001b[0m\u001b[0;34m\u001b[0m\u001b[0;34m\u001b[0m\u001b[0m\n",
            "\u001b[0;31mNameError\u001b[0m: name 'X' is not defined"
          ]
        }
      ],
      "source": [
        "# transform the dataset\n",
        "from imblearn.over_sampling import SMOTE\n",
        "oversample = SMOTE()\n",
        "X_r, y = oversample.fit_resample(X, tr_data['Class'])\n",
        "# summarize the new class distribution\n",
        "counter = Counter(y)\n",
        "print(counter)\n",
        "# scatter plot of examples by class label\n",
        "for label, _ in counter.items():\n",
        "\trow_ix = where(y == label)[0]"
      ]
    },
    {
      "cell_type": "code",
      "execution_count": null,
      "metadata": {
        "id": "NktyvsItm5l8"
      },
      "outputs": [],
      "source": [
        "from sklearn.preprocessing import StandardScaler\n",
        "## Standardizing the data\n",
        "X_r2 = StandardScaler().fit_transform(X_r)"
      ]
    },
    {
      "cell_type": "code",
      "execution_count": null,
      "metadata": {
        "id": "6cbb8Kwum7vA"
      },
      "outputs": [],
      "source": [
        "X_train,X_test,y_train,y_test = train_test_split(X_r2, y, test_size=0.3)"
      ]
    },
    {
      "cell_type": "code",
      "execution_count": null,
      "metadata": {
        "colab": {
          "base_uri": "https://localhost:8080/"
        },
        "id": "ZbXJDixNm99R",
        "outputId": "c485c5e2-11ab-4331-ce7a-4811277ce5be"
      },
      "outputs": [
        {
          "output_type": "execute_result",
          "data": {
            "text/plain": [
              "(398041, 9)"
            ]
          },
          "metadata": {},
          "execution_count": 77
        }
      ],
      "source": [
        "X_train.shape"
      ]
    },
    {
      "cell_type": "code",
      "execution_count": null,
      "metadata": {
        "colab": {
          "base_uri": "https://localhost:8080/"
        },
        "id": "0-DDIgMNnA6D",
        "outputId": "c961466e-5356-4af5-ad07-ab47b5821930"
      },
      "outputs": [
        {
          "output_type": "execute_result",
          "data": {
            "text/plain": [
              "(170589, 9)"
            ]
          },
          "metadata": {},
          "execution_count": 78
        }
      ],
      "source": [
        "X_test.shape"
      ]
    },
    {
      "cell_type": "code",
      "execution_count": null,
      "metadata": {
        "id": "ytJl_arBnCog"
      },
      "outputs": [],
      "source": [
        "# design network\n",
        "np.random.seed(7)\n",
        "\n",
        "# X_train et X_val sont des dataframe qui contient les features\n",
        "train_LSTM_X=X_train\n",
        "val_LSTM_X=X_test\n",
        "\n",
        "## Reshape input to be 3D [samples, timesteps, features] (format requis par LSTM)\n",
        "train_LSTM_X = train_LSTM_X.reshape((train_LSTM_X.shape[0], 1, train_LSTM_X.shape[1]))\n",
        "val_LSTM_X = val_LSTM_X.reshape((val_LSTM_X.shape[0], 1, val_LSTM_X.shape[1]))\n",
        "\n",
        "## Recuperation des labels\n",
        "train_LSTM_y=y_train\n",
        "val_LSTM_y=y_test"
      ]
    },
    {
      "cell_type": "code",
      "execution_count": null,
      "metadata": {
        "id": "ZMBRsHr_nHh8"
      },
      "outputs": [],
      "source": [
        "class attention(Layer):\n",
        "    def __init__(self,**kwargs):\n",
        "        super(attention,self).__init__(**kwargs)\n",
        "\n",
        "    def build(self,input_shape):\n",
        "        self.W=self.add_weight(name=\"att_weight\",shape=(input_shape[-1],1),initializer=\"normal\")\n",
        "        self.b=self.add_weight(name=\"att_bias\",shape=(input_shape[1],1),initializer=\"zeros\")        \n",
        "        super(attention, self).build(input_shape)\n",
        "\n",
        "    def call(self,x):\n",
        "        et=K.squeeze(K.tanh(K.dot(x,self.W)+self.b),axis=-1)\n",
        "        at=K.softmax(et)\n",
        "        at=K.expand_dims(at,axis=-1)\n",
        "        output=x*at\n",
        "        return K.sum(output,axis=1)\n",
        "\n",
        "    def compute_output_shape(self,input_shape):\n",
        "        return (input_shape[0],input_shape[-1])\n",
        "\n",
        "    def get_config(self):\n",
        "        return super(attention,self).get_config()"
      ]
    },
    {
      "cell_type": "code",
      "execution_count": null,
      "metadata": {
        "id": "fLMOZcGdnQwJ",
        "colab": {
          "base_uri": "https://localhost:8080/"
        },
        "outputId": "a2af8131-5fca-4804-c604-3be26b915eae"
      },
      "outputs": [
        {
          "output_type": "stream",
          "name": "stdout",
          "text": [
            "WARNING:tensorflow:Layer lstm will not use cuDNN kernels since it doesn't meet the criteria. It will use a generic GPU kernel as fallback when running on GPU.\n",
            "WARNING:tensorflow:Layer lstm_1 will not use cuDNN kernels since it doesn't meet the criteria. It will use a generic GPU kernel as fallback when running on GPU.\n"
          ]
        }
      ],
      "source": [
        "inputs1=Input((1,9))\n",
        "att_in=LSTM(50,return_sequences=True,dropout=0.3,recurrent_dropout=0.2)(inputs1)\n",
        "att_in_1=LSTM(50,return_sequences=True,dropout=0.3,recurrent_dropout=0.2)(att_in)\n",
        "att_out=attention()(att_in_1)\n",
        "outputs1=Dense(1,activation='sigmoid',trainable=True)(att_out)\n",
        "model1=Model(inputs1,outputs1)"
      ]
    },
    {
      "cell_type": "code",
      "execution_count": null,
      "metadata": {
        "id": "ta-9fO4wnTXy"
      },
      "outputs": [],
      "source": [
        "model1.compile(loss='binary_crossentropy', optimizer='adam', metrics=['accuracy'])"
      ]
    },
    {
      "cell_type": "code",
      "execution_count": null,
      "metadata": {
        "colab": {
          "base_uri": "https://localhost:8080/"
        },
        "id": "Hxtm_dFMnV21",
        "outputId": "9c05a1da-3210-44f5-c198-ab8e6d4451ec"
      },
      "outputs": [
        {
          "output_type": "stream",
          "name": "stdout",
          "text": [
            "Epoch 1/30\n",
            "20/20 [==============================] - 5s 49ms/step - loss: 0.6680 - accuracy: 0.8346 - val_loss: 0.6336 - val_accuracy: 0.8965\n",
            "Epoch 2/30\n",
            "20/20 [==============================] - 0s 23ms/step - loss: 0.5931 - accuracy: 0.8836 - val_loss: 0.5248 - val_accuracy: 0.8939\n",
            "Epoch 3/30\n",
            "20/20 [==============================] - 1s 26ms/step - loss: 0.4733 - accuracy: 0.8832 - val_loss: 0.3970 - val_accuracy: 0.8965\n",
            "Epoch 4/30\n",
            "20/20 [==============================] - 0s 24ms/step - loss: 0.3633 - accuracy: 0.8913 - val_loss: 0.3054 - val_accuracy: 0.9058\n",
            "Epoch 5/30\n",
            "20/20 [==============================] - 0s 23ms/step - loss: 0.2963 - accuracy: 0.9026 - val_loss: 0.2581 - val_accuracy: 0.9122\n",
            "Epoch 6/30\n",
            "20/20 [==============================] - 0s 22ms/step - loss: 0.2622 - accuracy: 0.9100 - val_loss: 0.2306 - val_accuracy: 0.9135\n",
            "Epoch 7/30\n",
            "20/20 [==============================] - 0s 24ms/step - loss: 0.2425 - accuracy: 0.9147 - val_loss: 0.2119 - val_accuracy: 0.9218\n",
            "Epoch 8/30\n",
            "20/20 [==============================] - 0s 22ms/step - loss: 0.2304 - accuracy: 0.9181 - val_loss: 0.1995 - val_accuracy: 0.9276\n",
            "Epoch 9/30\n",
            "20/20 [==============================] - 0s 23ms/step - loss: 0.2230 - accuracy: 0.9195 - val_loss: 0.1919 - val_accuracy: 0.9305\n",
            "Epoch 10/30\n",
            "20/20 [==============================] - 0s 23ms/step - loss: 0.2183 - accuracy: 0.9200 - val_loss: 0.1871 - val_accuracy: 0.9322\n",
            "Epoch 11/30\n",
            "20/20 [==============================] - 0s 23ms/step - loss: 0.2147 - accuracy: 0.9208 - val_loss: 0.1840 - val_accuracy: 0.9327\n",
            "Epoch 12/30\n",
            "20/20 [==============================] - 0s 23ms/step - loss: 0.2114 - accuracy: 0.9214 - val_loss: 0.1817 - val_accuracy: 0.9333\n",
            "Epoch 13/30\n",
            "20/20 [==============================] - 0s 22ms/step - loss: 0.2090 - accuracy: 0.9224 - val_loss: 0.1794 - val_accuracy: 0.9341\n",
            "Epoch 14/30\n",
            "20/20 [==============================] - 0s 25ms/step - loss: 0.2072 - accuracy: 0.9226 - val_loss: 0.1778 - val_accuracy: 0.9347\n",
            "Epoch 15/30\n",
            "20/20 [==============================] - 0s 23ms/step - loss: 0.2042 - accuracy: 0.9239 - val_loss: 0.1760 - val_accuracy: 0.9354\n",
            "Epoch 16/30\n",
            "20/20 [==============================] - 0s 23ms/step - loss: 0.2025 - accuracy: 0.9245 - val_loss: 0.1745 - val_accuracy: 0.9356\n",
            "Epoch 17/30\n",
            "20/20 [==============================] - 0s 25ms/step - loss: 0.1999 - accuracy: 0.9257 - val_loss: 0.1730 - val_accuracy: 0.9359\n",
            "Epoch 18/30\n",
            "20/20 [==============================] - 0s 23ms/step - loss: 0.1987 - accuracy: 0.9257 - val_loss: 0.1722 - val_accuracy: 0.9361\n",
            "Epoch 19/30\n",
            "20/20 [==============================] - 0s 23ms/step - loss: 0.1969 - accuracy: 0.9269 - val_loss: 0.1710 - val_accuracy: 0.9364\n",
            "Epoch 20/30\n",
            "20/20 [==============================] - 0s 24ms/step - loss: 0.1959 - accuracy: 0.9269 - val_loss: 0.1701 - val_accuracy: 0.9366\n",
            "Epoch 21/30\n",
            "20/20 [==============================] - 0s 24ms/step - loss: 0.1938 - accuracy: 0.9277 - val_loss: 0.1694 - val_accuracy: 0.9368\n",
            "Epoch 22/30\n",
            "20/20 [==============================] - 0s 23ms/step - loss: 0.1934 - accuracy: 0.9280 - val_loss: 0.1685 - val_accuracy: 0.9370\n",
            "Epoch 23/30\n",
            "20/20 [==============================] - 0s 24ms/step - loss: 0.1924 - accuracy: 0.9284 - val_loss: 0.1681 - val_accuracy: 0.9371\n",
            "Epoch 24/30\n",
            "20/20 [==============================] - 0s 22ms/step - loss: 0.1914 - accuracy: 0.9288 - val_loss: 0.1681 - val_accuracy: 0.9372\n",
            "Epoch 25/30\n",
            "20/20 [==============================] - 0s 24ms/step - loss: 0.1911 - accuracy: 0.9291 - val_loss: 0.1677 - val_accuracy: 0.9372\n",
            "Epoch 26/30\n",
            "20/20 [==============================] - 0s 23ms/step - loss: 0.1899 - accuracy: 0.9295 - val_loss: 0.1669 - val_accuracy: 0.9373\n",
            "Epoch 27/30\n",
            "20/20 [==============================] - 0s 24ms/step - loss: 0.1894 - accuracy: 0.9299 - val_loss: 0.1666 - val_accuracy: 0.9374\n",
            "Epoch 28/30\n",
            "20/20 [==============================] - 0s 23ms/step - loss: 0.1890 - accuracy: 0.9295 - val_loss: 0.1666 - val_accuracy: 0.9373\n",
            "Epoch 29/30\n",
            "20/20 [==============================] - 0s 24ms/step - loss: 0.1885 - accuracy: 0.9298 - val_loss: 0.1659 - val_accuracy: 0.9373\n",
            "Epoch 30/30\n",
            "20/20 [==============================] - 0s 25ms/step - loss: 0.1875 - accuracy: 0.9298 - val_loss: 0.1658 - val_accuracy: 0.9373\n"
          ]
        }
      ],
      "source": [
        "history=model1.fit(train_LSTM_X, train_LSTM_y,epochs=30,batch_size=20000, validation_data=(val_LSTM_X, val_LSTM_y))"
      ]
    },
    {
      "cell_type": "code",
      "execution_count": null,
      "metadata": {
        "colab": {
          "base_uri": "https://localhost:8080/",
          "height": 282
        },
        "id": "cwpM_zWynaLC",
        "outputId": "eff122aa-6f01-4ad1-c52d-a08c4ce8926d"
      },
      "outputs": [
        {
          "output_type": "display_data",
          "data": {
            "text/plain": [
              "<Figure size 432x288 with 2 Axes>"
            ],
            "image/png": "[encoded data removed]"
          },
          "metadata": {
            "needs_background": "light"
          }
        }
      ],
      "source": [
        "# plot loss during training\n",
        "pyplot.subplot(211)\n",
        "pyplot.title('Loss')\n",
        "pyplot.plot(history.history['loss'], label='train')\n",
        "pyplot.plot(history.history['val_loss'], label='test')\n",
        "pyplot.legend()\n",
        "# plot accuracy during training\n",
        "pyplot.subplot(212)\n",
        "pyplot.title('Accuracy')\n",
        "pyplot.plot(history.history['accuracy'], label='train')\n",
        "pyplot.plot(history.history['val_accuracy'], label='test')\n",
        "pyplot.legend()\n",
        "pyplot.show()"
      ]
    },
    {
      "cell_type": "code",
      "source": [],
      "metadata": {
        "id": "AW6KvJTmBsF_"
      },
      "execution_count": null,
      "outputs": []
    },
    {
      "cell_type": "markdown",
      "metadata": {
        "id": "3JHyn8_Yqhoo"
      },
      "source": [
        "Artificial Neural Network"
      ]
    },
    {
      "cell_type": "code",
      "execution_count": null,
      "metadata": {
        "colab": {
          "base_uri": "https://localhost:8080/"
        },
        "id": "UQfNnbKzrCsb",
        "outputId": "164bf86d-1893-4a0e-bb97-326ec95391e0"
      },
      "outputs": [
        {
          "output_type": "stream",
          "name": "stdout",
          "text": [
            "Fraudulant transaction weight: 0.0017994745785028623\n",
            "Non-Fraudulant transaction weight: 0.9982005254214972\n"
          ]
        }
      ],
      "source": [
        "from sklearn.model_selection import train_test_split\n",
        "from sklearn.preprocessing import StandardScaler\n",
        "\n",
        "scalar = StandardScaler()\n",
        "\n",
        "X = data.drop('Class', axis=1)\n",
        "y = data.Class\n",
        "\n",
        "X_train_v, X_test, y_train_v, y_test = train_test_split(X, y, \n",
        "                                                    test_size=0.3, random_state=42)\n",
        "X_train, X_validate, y_train, y_validate = train_test_split(X_train_v, y_train_v, \n",
        "                                                            test_size=0.2, random_state=42)\n",
        "\n",
        "X_train = scalar.fit_transform(X_train)\n",
        "X_validate = scalar.transform(X_validate)\n",
        "X_test = scalar.transform(X_test)\n",
        "\n",
        "w_p = y_train.value_counts()[0] / len(y_train)\n",
        "w_n = y_train.value_counts()[1] / len(y_train)\n",
        "\n",
        "print(f\"Fraudulant transaction weight: {w_n}\")\n",
        "print(f\"Non-Fraudulant transaction weight: {w_p}\")"
      ]
    },
    {
      "cell_type": "code",
      "execution_count": null,
      "metadata": {
        "colab": {
          "base_uri": "https://localhost:8080/"
        },
        "id": "-4Bblt-x0ODO",
        "outputId": "50f2f3b6-2b97-4e3d-d7ab-0e01a18abd43"
      },
      "outputs": [
        {
          "output_type": "stream",
          "name": "stdout",
          "text": [
            "TRAINING: X_train: (159491, 31), y_train: (159491,)\n",
            "_______________________________________________________\n",
            "VALIDATION: X_validate: (39873, 31), y_validate: (39873,)\n",
            "__________________________________________________\n",
            "TESTING: X_test: (85443, 31), y_test: (85443,)\n"
          ]
        }
      ],
      "source": [
        "print(f\"TRAINING: X_train: {X_train.shape}, y_train: {y_train.shape}\\n{'_'*55}\")\n",
        "print(f\"VALIDATION: X_validate: {X_validate.shape}, y_validate: {y_validate.shape}\\n{'_'*50}\")\n",
        "print(f\"TESTING: X_test: {X_test.shape}, y_test: {y_test.shape}\")"
      ]
    },
    {
      "cell_type": "code",
      "execution_count": null,
      "metadata": {
        "id": "xJ0-frjs0OKZ"
      },
      "outputs": [],
      "source": [
        "from sklearn.metrics import accuracy_score, confusion_matrix, classification_report, f1_score\n",
        "\n",
        "def print_score(label, prediction, train=True):\n",
        "    if train:\n",
        "        clf_report = pd.DataFrame(classification_report(label, prediction, output_dict=True))\n",
        "        print(\"Train Result:\\n================================================\")\n",
        "        print(f\"Accuracy Score: {accuracy_score(label, prediction) * 100:.2f}%\")\n",
        "        print(\"_______________________________________________\")\n",
        "        print(f\"Classification Report:\\n{clf_report}\")\n",
        "        print(\"_______________________________________________\")\n",
        "        print(f\"Confusion Matrix: \\n {confusion_matrix(y_train, prediction)}\\n\")\n",
        "    elif train==False:\n",
        "        clf_report = pd.DataFrame(classification_report(label, prediction, output_dict=True))\n",
        "        print(\"Test Result:\\n================================================\")        \n",
        "        print(f\"Accuracy Score: {accuracy_score(label, prediction) * 100:.2f}%\")\n",
        "        print(\"_______________________________________________\")\n",
        "        print(f\"Classification Report:\\n{clf_report}\")\n",
        "        print(\"_______________________________________________\")\n",
        "        print(f\"Confusion Matrix: \\n {confusion_matrix(label, prediction)}\\n\") "
      ]
    },
    {
      "cell_type": "code",
      "execution_count": null,
      "metadata": {
        "id": "WIOUTxwbqlN8"
      },
      "outputs": [],
      "source": [
        "from tensorflow import keras\n",
        "\n",
        "model = keras.Sequential([\n",
        "    keras.layers.Dense(256, activation='relu', input_shape=(X_train.shape[-1],)),\n",
        "    keras.layers.BatchNormalization(),\n",
        "    keras.layers.Dropout(0.3),\n",
        "    keras.layers.Dense(256, activation='relu'),\n",
        "    keras.layers.BatchNormalization(),\n",
        "    keras.layers.Dropout(0.3),\n",
        "    keras.layers.Dense(256, activation='relu'),\n",
        "    keras.layers.BatchNormalization(),\n",
        "    keras.layers.Dropout(0.3),\n",
        "    keras.layers.Dense(1, activation='sigmoid'),\n",
        "])"
      ]
    },
    {
      "cell_type": "code",
      "execution_count": null,
      "metadata": {
        "colab": {
          "base_uri": "https://localhost:8080/"
        },
        "id": "e0EOzOaMqnHP",
        "outputId": "e03f736a-0a2c-4b7d-de19-e88333646813"
      },
      "outputs": [
        {
          "output_type": "stream",
          "name": "stdout",
          "text": [
            "Model: \"sequential_4\"\n",
            "_________________________________________________________________\n",
            " Layer (type)                Output Shape              Param #   \n",
            "=================================================================\n",
            " dense_13 (Dense)            (None, 256)               8192      \n",
            "                                                                 \n",
            " batch_normalization_2 (Batc  (None, 256)              1024      \n",
            " hNormalization)                                                 \n",
            "                                                                 \n",
            " dropout_3 (Dropout)         (None, 256)               0         \n",
            "                                                                 \n",
            " dense_14 (Dense)            (None, 256)               65792     \n",
            "                                                                 \n",
            " batch_normalization_3 (Batc  (None, 256)              1024      \n",
            " hNormalization)                                                 \n",
            "                                                                 \n",
            " dropout_4 (Dropout)         (None, 256)               0         \n",
            "                                                                 \n",
            " dense_15 (Dense)            (None, 256)               65792     \n",
            "                                                                 \n",
            " batch_normalization_4 (Batc  (None, 256)              1024      \n",
            " hNormalization)                                                 \n",
            "                                                                 \n",
            " dropout_5 (Dropout)         (None, 256)               0         \n",
            "                                                                 \n",
            " dense_16 (Dense)            (None, 1)                 257       \n",
            "                                                                 \n",
            "=================================================================\n",
            "Total params: 143,105\n",
            "Trainable params: 141,569\n",
            "Non-trainable params: 1,536\n",
            "_________________________________________________________________\n"
          ]
        }
      ],
      "source": [
        "model.summary()"
      ]
    },
    {
      "cell_type": "code",
      "execution_count": null,
      "metadata": {
        "colab": {
          "base_uri": "https://localhost:8080/"
        },
        "id": "ruaxAOOWqqdj",
        "outputId": "fc10a91e-9863-42c0-9474-9607fef15558"
      },
      "outputs": [
        {
          "output_type": "stream",
          "name": "stdout",
          "text": [
            "Epoch 1/300\n",
            "78/78 [==============================] - 4s 18ms/step - loss: 0.8162 - fn: 64.0000 - fp: 74202.0000 - tn: 85002.0000 - tp: 223.0000 - precision: 0.0030 - recall: 0.7770 - val_loss: 0.6220 - val_fn: 11.0000 - val_fp: 3111.0000 - val_tn: 36693.0000 - val_tp: 58.0000 - val_precision: 0.0183 - val_recall: 0.8406\n",
            "Epoch 2/300\n",
            "78/78 [==============================] - 1s 9ms/step - loss: 0.6936 - fn: 39.0000 - fp: 62457.0000 - tn: 96747.0000 - tp: 248.0000 - precision: 0.0040 - recall: 0.8641 - val_loss: 0.5539 - val_fn: 12.0000 - val_fp: 858.0000 - val_tn: 38946.0000 - val_tp: 57.0000 - val_precision: 0.0623 - val_recall: 0.8261\n",
            "Epoch 3/300\n",
            "78/78 [==============================] - 1s 10ms/step - loss: 0.6132 - fn: 40.0000 - fp: 49060.0000 - tn: 110144.0000 - tp: 247.0000 - precision: 0.0050 - recall: 0.8606 - val_loss: 0.5151 - val_fn: 12.0000 - val_fp: 516.0000 - val_tn: 39288.0000 - val_tp: 57.0000 - val_precision: 0.0995 - val_recall: 0.8261\n",
            "Epoch 4/300\n",
            "78/78 [==============================] - 1s 10ms/step - loss: 0.5465 - fn: 53.0000 - fp: 36744.0000 - tn: 122460.0000 - tp: 234.0000 - precision: 0.0063 - recall: 0.8153 - val_loss: 0.4726 - val_fn: 12.0000 - val_fp: 232.0000 - val_tn: 39572.0000 - val_tp: 57.0000 - val_precision: 0.1972 - val_recall: 0.8261\n",
            "Epoch 5/300\n",
            "78/78 [==============================] - 1s 9ms/step - loss: 0.4825 - fn: 52.0000 - fp: 25381.0000 - tn: 133823.0000 - tp: 235.0000 - precision: 0.0092 - recall: 0.8188 - val_loss: 0.4332 - val_fn: 13.0000 - val_fp: 55.0000 - val_tn: 39749.0000 - val_tp: 56.0000 - val_precision: 0.5045 - val_recall: 0.8116\n",
            "Epoch 6/300\n",
            "78/78 [==============================] - 1s 9ms/step - loss: 0.4186 - fn: 47.0000 - fp: 16108.0000 - tn: 143096.0000 - tp: 240.0000 - precision: 0.0147 - recall: 0.8362 - val_loss: 0.3480 - val_fn: 13.0000 - val_fp: 48.0000 - val_tn: 39756.0000 - val_tp: 56.0000 - val_precision: 0.5385 - val_recall: 0.8116\n",
            "Epoch 7/300\n",
            "78/78 [==============================] - 1s 9ms/step - loss: 0.3607 - fn: 56.0000 - fp: 9520.0000 - tn: 149684.0000 - tp: 231.0000 - precision: 0.0237 - recall: 0.8049 - val_loss: 0.3201 - val_fn: 13.0000 - val_fp: 14.0000 - val_tn: 39790.0000 - val_tp: 56.0000 - val_precision: 0.8000 - val_recall: 0.8116\n",
            "Epoch 8/300\n",
            "78/78 [==============================] - 1s 9ms/step - loss: 0.3053 - fn: 59.0000 - fp: 5555.0000 - tn: 153649.0000 - tp: 228.0000 - precision: 0.0394 - recall: 0.7944 - val_loss: 0.2654 - val_fn: 13.0000 - val_fp: 14.0000 - val_tn: 39790.0000 - val_tp: 56.0000 - val_precision: 0.8000 - val_recall: 0.8116\n",
            "Epoch 9/300\n",
            "78/78 [==============================] - 1s 9ms/step - loss: 0.2570 - fn: 74.0000 - fp: 3117.0000 - tn: 156087.0000 - tp: 213.0000 - precision: 0.0640 - recall: 0.7422 - val_loss: 0.2182 - val_fn: 13.0000 - val_fp: 14.0000 - val_tn: 39790.0000 - val_tp: 56.0000 - val_precision: 0.8000 - val_recall: 0.8116\n",
            "Epoch 10/300\n",
            "78/78 [==============================] - 1s 9ms/step - loss: 0.2127 - fn: 73.0000 - fp: 1945.0000 - tn: 157259.0000 - tp: 214.0000 - precision: 0.0991 - recall: 0.7456 - val_loss: 0.1837 - val_fn: 14.0000 - val_fp: 14.0000 - val_tn: 39790.0000 - val_tp: 55.0000 - val_precision: 0.7971 - val_recall: 0.7971\n",
            "Epoch 11/300\n",
            "78/78 [==============================] - 1s 9ms/step - loss: 0.1762 - fn: 75.0000 - fp: 1287.0000 - tn: 157917.0000 - tp: 212.0000 - precision: 0.1414 - recall: 0.7387 - val_loss: 0.1487 - val_fn: 13.0000 - val_fp: 14.0000 - val_tn: 39790.0000 - val_tp: 56.0000 - val_precision: 0.8000 - val_recall: 0.8116\n",
            "Epoch 12/300\n",
            "78/78 [==============================] - 1s 9ms/step - loss: 0.1484 - fn: 89.0000 - fp: 914.0000 - tn: 158290.0000 - tp: 198.0000 - precision: 0.1781 - recall: 0.6899 - val_loss: 0.1311 - val_fn: 14.0000 - val_fp: 14.0000 - val_tn: 39790.0000 - val_tp: 55.0000 - val_precision: 0.7971 - val_recall: 0.7971\n",
            "Epoch 13/300\n",
            "78/78 [==============================] - 1s 9ms/step - loss: 0.1245 - fn: 85.0000 - fp: 647.0000 - tn: 158557.0000 - tp: 202.0000 - precision: 0.2379 - recall: 0.7038 - val_loss: 0.1066 - val_fn: 14.0000 - val_fp: 14.0000 - val_tn: 39790.0000 - val_tp: 55.0000 - val_precision: 0.7971 - val_recall: 0.7971\n",
            "Epoch 14/300\n",
            "78/78 [==============================] - 1s 9ms/step - loss: 0.1054 - fn: 89.0000 - fp: 495.0000 - tn: 158709.0000 - tp: 198.0000 - precision: 0.2857 - recall: 0.6899 - val_loss: 0.0889 - val_fn: 14.0000 - val_fp: 14.0000 - val_tn: 39790.0000 - val_tp: 55.0000 - val_precision: 0.7971 - val_recall: 0.7971\n",
            "Epoch 15/300\n",
            "78/78 [==============================] - 1s 10ms/step - loss: 0.0886 - fn: 87.0000 - fp: 436.0000 - tn: 158768.0000 - tp: 200.0000 - precision: 0.3145 - recall: 0.6969 - val_loss: 0.0764 - val_fn: 14.0000 - val_fp: 14.0000 - val_tn: 39790.0000 - val_tp: 55.0000 - val_precision: 0.7971 - val_recall: 0.7971\n",
            "Epoch 16/300\n",
            "78/78 [==============================] - 1s 9ms/step - loss: 0.0791 - fn: 90.0000 - fp: 379.0000 - tn: 158825.0000 - tp: 197.0000 - precision: 0.3420 - recall: 0.6864 - val_loss: 0.0672 - val_fn: 14.0000 - val_fp: 14.0000 - val_tn: 39790.0000 - val_tp: 55.0000 - val_precision: 0.7971 - val_recall: 0.7971\n",
            "Epoch 17/300\n",
            "78/78 [==============================] - 1s 10ms/step - loss: 0.0666 - fn: 82.0000 - fp: 266.0000 - tn: 158938.0000 - tp: 205.0000 - precision: 0.4352 - recall: 0.7143 - val_loss: 0.0576 - val_fn: 14.0000 - val_fp: 14.0000 - val_tn: 39790.0000 - val_tp: 55.0000 - val_precision: 0.7971 - val_recall: 0.7971\n",
            "Epoch 18/300\n",
            "78/78 [==============================] - 1s 9ms/step - loss: 0.0598 - fn: 101.0000 - fp: 270.0000 - tn: 158934.0000 - tp: 186.0000 - precision: 0.4079 - recall: 0.6481 - val_loss: 0.0514 - val_fn: 14.0000 - val_fp: 14.0000 - val_tn: 39790.0000 - val_tp: 55.0000 - val_precision: 0.7971 - val_recall: 0.7971\n",
            "Epoch 19/300\n",
            "78/78 [==============================] - 1s 9ms/step - loss: 0.0537 - fn: 106.0000 - fp: 214.0000 - tn: 158990.0000 - tp: 181.0000 - precision: 0.4582 - recall: 0.6307 - val_loss: 0.0457 - val_fn: 14.0000 - val_fp: 14.0000 - val_tn: 39790.0000 - val_tp: 55.0000 - val_precision: 0.7971 - val_recall: 0.7971\n",
            "Epoch 20/300\n",
            "78/78 [==============================] - 1s 9ms/step - loss: 0.0479 - fn: 101.0000 - fp: 204.0000 - tn: 159000.0000 - tp: 186.0000 - precision: 0.4769 - recall: 0.6481 - val_loss: 0.0420 - val_fn: 14.0000 - val_fp: 14.0000 - val_tn: 39790.0000 - val_tp: 55.0000 - val_precision: 0.7971 - val_recall: 0.7971\n",
            "Epoch 21/300\n",
            "78/78 [==============================] - 1s 9ms/step - loss: 0.0427 - fn: 99.0000 - fp: 183.0000 - tn: 159021.0000 - tp: 188.0000 - precision: 0.5067 - recall: 0.6551 - val_loss: 0.0382 - val_fn: 14.0000 - val_fp: 14.0000 - val_tn: 39790.0000 - val_tp: 55.0000 - val_precision: 0.7971 - val_recall: 0.7971\n",
            "Epoch 22/300\n",
            "78/78 [==============================] - 1s 9ms/step - loss: 0.0391 - fn: 92.0000 - fp: 171.0000 - tn: 159033.0000 - tp: 195.0000 - precision: 0.5328 - recall: 0.6794 - val_loss: 0.0346 - val_fn: 14.0000 - val_fp: 14.0000 - val_tn: 39790.0000 - val_tp: 55.0000 - val_precision: 0.7971 - val_recall: 0.7971\n",
            "Epoch 23/300\n",
            "78/78 [==============================] - 1s 9ms/step - loss: 0.0355 - fn: 98.0000 - fp: 147.0000 - tn: 159057.0000 - tp: 189.0000 - precision: 0.5625 - recall: 0.6585 - val_loss: 0.0327 - val_fn: 14.0000 - val_fp: 14.0000 - val_tn: 39790.0000 - val_tp: 55.0000 - val_precision: 0.7971 - val_recall: 0.7971\n",
            "Epoch 24/300\n",
            "78/78 [==============================] - 1s 9ms/step - loss: 0.0331 - fn: 96.0000 - fp: 134.0000 - tn: 159070.0000 - tp: 191.0000 - precision: 0.5877 - recall: 0.6655 - val_loss: 0.0320 - val_fn: 13.0000 - val_fp: 14.0000 - val_tn: 39790.0000 - val_tp: 56.0000 - val_precision: 0.8000 - val_recall: 0.8116\n",
            "Epoch 25/300\n",
            "78/78 [==============================] - 1s 9ms/step - loss: 0.0316 - fn: 89.0000 - fp: 147.0000 - tn: 159057.0000 - tp: 198.0000 - precision: 0.5739 - recall: 0.6899 - val_loss: 0.0274 - val_fn: 14.0000 - val_fp: 14.0000 - val_tn: 39790.0000 - val_tp: 55.0000 - val_precision: 0.7971 - val_recall: 0.7971\n",
            "Epoch 26/300\n",
            "78/78 [==============================] - 1s 9ms/step - loss: 0.0277 - fn: 93.0000 - fp: 108.0000 - tn: 159096.0000 - tp: 194.0000 - precision: 0.6424 - recall: 0.6760 - val_loss: 0.0269 - val_fn: 14.0000 - val_fp: 14.0000 - val_tn: 39790.0000 - val_tp: 55.0000 - val_precision: 0.7971 - val_recall: 0.7971\n",
            "Epoch 27/300\n",
            "78/78 [==============================] - 1s 10ms/step - loss: 0.0278 - fn: 94.0000 - fp: 105.0000 - tn: 159099.0000 - tp: 193.0000 - precision: 0.6477 - recall: 0.6725 - val_loss: 0.0255 - val_fn: 14.0000 - val_fp: 14.0000 - val_tn: 39790.0000 - val_tp: 55.0000 - val_precision: 0.7971 - val_recall: 0.7971\n",
            "Epoch 28/300\n",
            "78/78 [==============================] - 1s 9ms/step - loss: 0.0246 - fn: 95.0000 - fp: 94.0000 - tn: 159110.0000 - tp: 192.0000 - precision: 0.6713 - recall: 0.6690 - val_loss: 0.0236 - val_fn: 14.0000 - val_fp: 14.0000 - val_tn: 39790.0000 - val_tp: 55.0000 - val_precision: 0.7971 - val_recall: 0.7971\n",
            "Epoch 29/300\n",
            "78/78 [==============================] - 1s 9ms/step - loss: 0.0229 - fn: 104.0000 - fp: 94.0000 - tn: 159110.0000 - tp: 183.0000 - precision: 0.6606 - recall: 0.6376 - val_loss: 0.0204 - val_fn: 14.0000 - val_fp: 14.0000 - val_tn: 39790.0000 - val_tp: 55.0000 - val_precision: 0.7971 - val_recall: 0.7971\n",
            "Epoch 30/300\n",
            "78/78 [==============================] - 1s 10ms/step - loss: 0.0239 - fn: 89.0000 - fp: 89.0000 - tn: 159115.0000 - tp: 198.0000 - precision: 0.6899 - recall: 0.6899 - val_loss: 0.0190 - val_fn: 14.0000 - val_fp: 14.0000 - val_tn: 39790.0000 - val_tp: 55.0000 - val_precision: 0.7971 - val_recall: 0.7971\n",
            "Epoch 31/300\n",
            "78/78 [==============================] - 1s 10ms/step - loss: 0.0215 - fn: 99.0000 - fp: 79.0000 - tn: 159125.0000 - tp: 188.0000 - precision: 0.7041 - recall: 0.6551 - val_loss: 0.0198 - val_fn: 13.0000 - val_fp: 14.0000 - val_tn: 39790.0000 - val_tp: 56.0000 - val_precision: 0.8000 - val_recall: 0.8116\n",
            "Epoch 32/300\n",
            "78/78 [==============================] - 1s 9ms/step - loss: 0.0197 - fn: 87.0000 - fp: 77.0000 - tn: 159127.0000 - tp: 200.0000 - precision: 0.7220 - recall: 0.6969 - val_loss: 0.0180 - val_fn: 14.0000 - val_fp: 14.0000 - val_tn: 39790.0000 - val_tp: 55.0000 - val_precision: 0.7971 - val_recall: 0.7971\n",
            "Epoch 33/300\n",
            "78/78 [==============================] - 1s 9ms/step - loss: 0.0203 - fn: 98.0000 - fp: 79.0000 - tn: 159125.0000 - tp: 189.0000 - precision: 0.7052 - recall: 0.6585 - val_loss: 0.0188 - val_fn: 13.0000 - val_fp: 14.0000 - val_tn: 39790.0000 - val_tp: 56.0000 - val_precision: 0.8000 - val_recall: 0.8116\n",
            "Epoch 34/300\n",
            "78/78 [==============================] - 1s 10ms/step - loss: 0.0202 - fn: 96.0000 - fp: 67.0000 - tn: 159137.0000 - tp: 191.0000 - precision: 0.7403 - recall: 0.6655 - val_loss: 0.0162 - val_fn: 14.0000 - val_fp: 14.0000 - val_tn: 39790.0000 - val_tp: 55.0000 - val_precision: 0.7971 - val_recall: 0.7971\n",
            "Epoch 35/300\n",
            "78/78 [==============================] - 1s 9ms/step - loss: 0.0163 - fn: 94.0000 - fp: 71.0000 - tn: 159133.0000 - tp: 193.0000 - precision: 0.7311 - recall: 0.6725 - val_loss: 0.0157 - val_fn: 13.0000 - val_fp: 14.0000 - val_tn: 39790.0000 - val_tp: 56.0000 - val_precision: 0.8000 - val_recall: 0.8116\n",
            "Epoch 36/300\n",
            "78/78 [==============================] - 1s 9ms/step - loss: 0.0181 - fn: 94.0000 - fp: 81.0000 - tn: 159123.0000 - tp: 193.0000 - precision: 0.7044 - recall: 0.6725 - val_loss: 0.0148 - val_fn: 13.0000 - val_fp: 14.0000 - val_tn: 39790.0000 - val_tp: 56.0000 - val_precision: 0.8000 - val_recall: 0.8116\n",
            "Epoch 37/300\n",
            "78/78 [==============================] - 1s 9ms/step - loss: 0.0163 - fn: 97.0000 - fp: 64.0000 - tn: 159140.0000 - tp: 190.0000 - precision: 0.7480 - recall: 0.6620 - val_loss: 0.0141 - val_fn: 13.0000 - val_fp: 14.0000 - val_tn: 39790.0000 - val_tp: 56.0000 - val_precision: 0.8000 - val_recall: 0.8116\n",
            "Epoch 38/300\n",
            "78/78 [==============================] - 1s 10ms/step - loss: 0.0156 - fn: 93.0000 - fp: 66.0000 - tn: 159138.0000 - tp: 194.0000 - precision: 0.7462 - recall: 0.6760 - val_loss: 0.0131 - val_fn: 14.0000 - val_fp: 14.0000 - val_tn: 39790.0000 - val_tp: 55.0000 - val_precision: 0.7971 - val_recall: 0.7971\n",
            "Epoch 39/300\n",
            "78/78 [==============================] - 1s 9ms/step - loss: 0.0144 - fn: 97.0000 - fp: 56.0000 - tn: 159148.0000 - tp: 190.0000 - precision: 0.7724 - recall: 0.6620 - val_loss: 0.0152 - val_fn: 13.0000 - val_fp: 14.0000 - val_tn: 39790.0000 - val_tp: 56.0000 - val_precision: 0.8000 - val_recall: 0.8116\n",
            "Epoch 40/300\n",
            "78/78 [==============================] - 1s 9ms/step - loss: 0.0144 - fn: 91.0000 - fp: 56.0000 - tn: 159148.0000 - tp: 196.0000 - precision: 0.7778 - recall: 0.6829 - val_loss: 0.0137 - val_fn: 13.0000 - val_fp: 14.0000 - val_tn: 39790.0000 - val_tp: 56.0000 - val_precision: 0.8000 - val_recall: 0.8116\n",
            "Epoch 41/300\n",
            "78/78 [==============================] - 1s 9ms/step - loss: 0.0140 - fn: 90.0000 - fp: 53.0000 - tn: 159151.0000 - tp: 197.0000 - precision: 0.7880 - recall: 0.6864 - val_loss: 0.0123 - val_fn: 13.0000 - val_fp: 14.0000 - val_tn: 39790.0000 - val_tp: 56.0000 - val_precision: 0.8000 - val_recall: 0.8116\n",
            "Epoch 42/300\n",
            "78/78 [==============================] - 1s 9ms/step - loss: 0.0129 - fn: 85.0000 - fp: 66.0000 - tn: 159138.0000 - tp: 202.0000 - precision: 0.7537 - recall: 0.7038 - val_loss: 0.0109 - val_fn: 13.0000 - val_fp: 14.0000 - val_tn: 39790.0000 - val_tp: 56.0000 - val_precision: 0.8000 - val_recall: 0.8116\n",
            "Epoch 43/300\n",
            "78/78 [==============================] - 1s 10ms/step - loss: 0.0112 - fn: 97.0000 - fp: 40.0000 - tn: 159164.0000 - tp: 190.0000 - precision: 0.8261 - recall: 0.6620 - val_loss: 0.0129 - val_fn: 13.0000 - val_fp: 14.0000 - val_tn: 39790.0000 - val_tp: 56.0000 - val_precision: 0.8000 - val_recall: 0.8116\n",
            "Epoch 44/300\n",
            "78/78 [==============================] - 1s 10ms/step - loss: 0.0113 - fn: 79.0000 - fp: 59.0000 - tn: 159145.0000 - tp: 208.0000 - precision: 0.7790 - recall: 0.7247 - val_loss: 0.0113 - val_fn: 13.0000 - val_fp: 14.0000 - val_tn: 39790.0000 - val_tp: 56.0000 - val_precision: 0.8000 - val_recall: 0.8116\n",
            "Epoch 45/300\n",
            "78/78 [==============================] - 1s 9ms/step - loss: 0.0105 - fn: 98.0000 - fp: 47.0000 - tn: 159157.0000 - tp: 189.0000 - precision: 0.8008 - recall: 0.6585 - val_loss: 0.0124 - val_fn: 13.0000 - val_fp: 14.0000 - val_tn: 39790.0000 - val_tp: 56.0000 - val_precision: 0.8000 - val_recall: 0.8116\n",
            "Epoch 46/300\n",
            "78/78 [==============================] - 1s 10ms/step - loss: 0.0120 - fn: 87.0000 - fp: 58.0000 - tn: 159146.0000 - tp: 200.0000 - precision: 0.7752 - recall: 0.6969 - val_loss: 0.0112 - val_fn: 13.0000 - val_fp: 14.0000 - val_tn: 39790.0000 - val_tp: 56.0000 - val_precision: 0.8000 - val_recall: 0.8116\n",
            "Epoch 47/300\n",
            "78/78 [==============================] - 1s 9ms/step - loss: 0.0118 - fn: 95.0000 - fp: 52.0000 - tn: 159152.0000 - tp: 192.0000 - precision: 0.7869 - recall: 0.6690 - val_loss: 0.0085 - val_fn: 13.0000 - val_fp: 13.0000 - val_tn: 39791.0000 - val_tp: 56.0000 - val_precision: 0.8116 - val_recall: 0.8116\n",
            "Epoch 48/300\n",
            "78/78 [==============================] - 1s 9ms/step - loss: 0.0111 - fn: 95.0000 - fp: 42.0000 - tn: 159162.0000 - tp: 192.0000 - precision: 0.8205 - recall: 0.6690 - val_loss: 0.0093 - val_fn: 13.0000 - val_fp: 13.0000 - val_tn: 39791.0000 - val_tp: 56.0000 - val_precision: 0.8116 - val_recall: 0.8116\n",
            "Epoch 49/300\n",
            "78/78 [==============================] - 1s 10ms/step - loss: 0.0106 - fn: 91.0000 - fp: 53.0000 - tn: 159151.0000 - tp: 196.0000 - precision: 0.7871 - recall: 0.6829 - val_loss: 0.0088 - val_fn: 13.0000 - val_fp: 13.0000 - val_tn: 39791.0000 - val_tp: 56.0000 - val_precision: 0.8116 - val_recall: 0.8116\n",
            "Epoch 50/300\n",
            "78/78 [==============================] - 1s 9ms/step - loss: 0.0096 - fn: 93.0000 - fp: 46.0000 - tn: 159158.0000 - tp: 194.0000 - precision: 0.8083 - recall: 0.6760 - val_loss: 0.0084 - val_fn: 13.0000 - val_fp: 13.0000 - val_tn: 39791.0000 - val_tp: 56.0000 - val_precision: 0.8116 - val_recall: 0.8116\n",
            "Epoch 51/300\n",
            "78/78 [==============================] - 1s 9ms/step - loss: 0.0101 - fn: 90.0000 - fp: 44.0000 - tn: 159160.0000 - tp: 197.0000 - precision: 0.8174 - recall: 0.6864 - val_loss: 0.0082 - val_fn: 13.0000 - val_fp: 13.0000 - val_tn: 39791.0000 - val_tp: 56.0000 - val_precision: 0.8116 - val_recall: 0.8116\n",
            "Epoch 52/300\n",
            "78/78 [==============================] - 1s 9ms/step - loss: 0.0102 - fn: 91.0000 - fp: 41.0000 - tn: 159163.0000 - tp: 196.0000 - precision: 0.8270 - recall: 0.6829 - val_loss: 0.0076 - val_fn: 13.0000 - val_fp: 13.0000 - val_tn: 39791.0000 - val_tp: 56.0000 - val_precision: 0.8116 - val_recall: 0.8116\n",
            "Epoch 53/300\n",
            "78/78 [==============================] - 1s 9ms/step - loss: 0.0085 - fn: 91.0000 - fp: 37.0000 - tn: 159167.0000 - tp: 196.0000 - precision: 0.8412 - recall: 0.6829 - val_loss: 0.0076 - val_fn: 13.0000 - val_fp: 13.0000 - val_tn: 39791.0000 - val_tp: 56.0000 - val_precision: 0.8116 - val_recall: 0.8116\n",
            "Epoch 54/300\n",
            "78/78 [==============================] - 1s 9ms/step - loss: 0.0083 - fn: 89.0000 - fp: 54.0000 - tn: 159150.0000 - tp: 198.0000 - precision: 0.7857 - recall: 0.6899 - val_loss: 0.0074 - val_fn: 13.0000 - val_fp: 13.0000 - val_tn: 39791.0000 - val_tp: 56.0000 - val_precision: 0.8116 - val_recall: 0.8116\n",
            "Epoch 55/300\n",
            "78/78 [==============================] - 1s 10ms/step - loss: 0.0083 - fn: 84.0000 - fp: 37.0000 - tn: 159167.0000 - tp: 203.0000 - precision: 0.8458 - recall: 0.7073 - val_loss: 0.0067 - val_fn: 13.0000 - val_fp: 12.0000 - val_tn: 39792.0000 - val_tp: 56.0000 - val_precision: 0.8235 - val_recall: 0.8116\n",
            "Epoch 56/300\n",
            "78/78 [==============================] - 1s 9ms/step - loss: 0.0078 - fn: 95.0000 - fp: 44.0000 - tn: 159160.0000 - tp: 192.0000 - precision: 0.8136 - recall: 0.6690 - val_loss: 0.0073 - val_fn: 13.0000 - val_fp: 13.0000 - val_tn: 39791.0000 - val_tp: 56.0000 - val_precision: 0.8116 - val_recall: 0.8116\n",
            "Epoch 57/300\n",
            "78/78 [==============================] - 1s 10ms/step - loss: 0.0078 - fn: 91.0000 - fp: 43.0000 - tn: 159161.0000 - tp: 196.0000 - precision: 0.8201 - recall: 0.6829 - val_loss: 0.0074 - val_fn: 13.0000 - val_fp: 13.0000 - val_tn: 39791.0000 - val_tp: 56.0000 - val_precision: 0.8116 - val_recall: 0.8116\n",
            "Epoch 58/300\n",
            "78/78 [==============================] - 1s 10ms/step - loss: 0.0079 - fn: 89.0000 - fp: 41.0000 - tn: 159163.0000 - tp: 198.0000 - precision: 0.8285 - recall: 0.6899 - val_loss: 0.0065 - val_fn: 13.0000 - val_fp: 12.0000 - val_tn: 39792.0000 - val_tp: 56.0000 - val_precision: 0.8235 - val_recall: 0.8116\n",
            "Epoch 59/300\n",
            "78/78 [==============================] - 1s 10ms/step - loss: 0.0070 - fn: 86.0000 - fp: 37.0000 - tn: 159167.0000 - tp: 201.0000 - precision: 0.8445 - recall: 0.7003 - val_loss: 0.0073 - val_fn: 13.0000 - val_fp: 12.0000 - val_tn: 39792.0000 - val_tp: 56.0000 - val_precision: 0.8235 - val_recall: 0.8116\n",
            "Epoch 60/300\n",
            "78/78 [==============================] - 1s 9ms/step - loss: 0.0070 - fn: 92.0000 - fp: 31.0000 - tn: 159173.0000 - tp: 195.0000 - precision: 0.8628 - recall: 0.6794 - val_loss: 0.0064 - val_fn: 13.0000 - val_fp: 12.0000 - val_tn: 39792.0000 - val_tp: 56.0000 - val_precision: 0.8235 - val_recall: 0.8116\n",
            "Epoch 61/300\n",
            "78/78 [==============================] - 1s 10ms/step - loss: 0.0070 - fn: 82.0000 - fp: 36.0000 - tn: 159168.0000 - tp: 205.0000 - precision: 0.8506 - recall: 0.7143 - val_loss: 0.0064 - val_fn: 13.0000 - val_fp: 12.0000 - val_tn: 39792.0000 - val_tp: 56.0000 - val_precision: 0.8235 - val_recall: 0.8116\n",
            "Epoch 62/300\n",
            "78/78 [==============================] - 1s 10ms/step - loss: 0.0062 - fn: 89.0000 - fp: 35.0000 - tn: 159169.0000 - tp: 198.0000 - precision: 0.8498 - recall: 0.6899 - val_loss: 0.0069 - val_fn: 13.0000 - val_fp: 15.0000 - val_tn: 39789.0000 - val_tp: 56.0000 - val_precision: 0.7887 - val_recall: 0.8116\n",
            "Epoch 63/300\n",
            "78/78 [==============================] - 1s 9ms/step - loss: 0.0068 - fn: 82.0000 - fp: 38.0000 - tn: 159166.0000 - tp: 205.0000 - precision: 0.8436 - recall: 0.7143 - val_loss: 0.0049 - val_fn: 17.0000 - val_fp: 7.0000 - val_tn: 39797.0000 - val_tp: 52.0000 - val_precision: 0.8814 - val_recall: 0.7536\n",
            "Epoch 64/300\n",
            "78/78 [==============================] - 1s 9ms/step - loss: 0.0062 - fn: 93.0000 - fp: 36.0000 - tn: 159168.0000 - tp: 194.0000 - precision: 0.8435 - recall: 0.6760 - val_loss: 0.0057 - val_fn: 13.0000 - val_fp: 11.0000 - val_tn: 39793.0000 - val_tp: 56.0000 - val_precision: 0.8358 - val_recall: 0.8116\n",
            "Epoch 65/300\n",
            "78/78 [==============================] - 1s 10ms/step - loss: 0.0058 - fn: 82.0000 - fp: 27.0000 - tn: 159177.0000 - tp: 205.0000 - precision: 0.8836 - recall: 0.7143 - val_loss: 0.0052 - val_fn: 16.0000 - val_fp: 13.0000 - val_tn: 39791.0000 - val_tp: 53.0000 - val_precision: 0.8030 - val_recall: 0.7681\n",
            "Epoch 66/300\n",
            "78/78 [==============================] - 1s 9ms/step - loss: 0.0059 - fn: 93.0000 - fp: 37.0000 - tn: 159167.0000 - tp: 194.0000 - precision: 0.8398 - recall: 0.6760 - val_loss: 0.0052 - val_fn: 14.0000 - val_fp: 11.0000 - val_tn: 39793.0000 - val_tp: 55.0000 - val_precision: 0.8333 - val_recall: 0.7971\n",
            "Epoch 67/300\n",
            "78/78 [==============================] - 1s 9ms/step - loss: 0.0056 - fn: 85.0000 - fp: 36.0000 - tn: 159168.0000 - tp: 202.0000 - precision: 0.8487 - recall: 0.7038 - val_loss: 0.0049 - val_fn: 16.0000 - val_fp: 8.0000 - val_tn: 39796.0000 - val_tp: 53.0000 - val_precision: 0.8689 - val_recall: 0.7681\n",
            "Epoch 68/300\n",
            "78/78 [==============================] - 1s 9ms/step - loss: 0.0059 - fn: 88.0000 - fp: 43.0000 - tn: 159161.0000 - tp: 199.0000 - precision: 0.8223 - recall: 0.6934 - val_loss: 0.0052 - val_fn: 16.0000 - val_fp: 10.0000 - val_tn: 39794.0000 - val_tp: 53.0000 - val_precision: 0.8413 - val_recall: 0.7681\n",
            "Epoch 69/300\n",
            "78/78 [==============================] - 1s 10ms/step - loss: 0.0056 - fn: 86.0000 - fp: 27.0000 - tn: 159177.0000 - tp: 201.0000 - precision: 0.8816 - recall: 0.7003 - val_loss: 0.0057 - val_fn: 14.0000 - val_fp: 11.0000 - val_tn: 39793.0000 - val_tp: 55.0000 - val_precision: 0.8333 - val_recall: 0.7971\n",
            "Epoch 70/300\n",
            "78/78 [==============================] - 1s 10ms/step - loss: 0.0059 - fn: 86.0000 - fp: 39.0000 - tn: 159165.0000 - tp: 201.0000 - precision: 0.8375 - recall: 0.7003 - val_loss: 0.0049 - val_fn: 16.0000 - val_fp: 8.0000 - val_tn: 39796.0000 - val_tp: 53.0000 - val_precision: 0.8689 - val_recall: 0.7681\n",
            "Epoch 71/300\n",
            "78/78 [==============================] - 1s 10ms/step - loss: 0.0051 - fn: 100.0000 - fp: 25.0000 - tn: 159179.0000 - tp: 187.0000 - precision: 0.8821 - recall: 0.6516 - val_loss: 0.0055 - val_fn: 14.0000 - val_fp: 11.0000 - val_tn: 39793.0000 - val_tp: 55.0000 - val_precision: 0.8333 - val_recall: 0.7971\n",
            "Epoch 72/300\n",
            "78/78 [==============================] - 1s 10ms/step - loss: 0.0054 - fn: 93.0000 - fp: 33.0000 - tn: 159171.0000 - tp: 194.0000 - precision: 0.8546 - recall: 0.6760 - val_loss: 0.0051 - val_fn: 16.0000 - val_fp: 9.0000 - val_tn: 39795.0000 - val_tp: 53.0000 - val_precision: 0.8548 - val_recall: 0.7681\n",
            "Epoch 73/300\n",
            "78/78 [==============================] - 1s 10ms/step - loss: 0.0049 - fn: 80.0000 - fp: 32.0000 - tn: 159172.0000 - tp: 207.0000 - precision: 0.8661 - recall: 0.7213 - val_loss: 0.0046 - val_fn: 16.0000 - val_fp: 7.0000 - val_tn: 39797.0000 - val_tp: 53.0000 - val_precision: 0.8833 - val_recall: 0.7681\n",
            "Epoch 74/300\n",
            "78/78 [==============================] - 1s 10ms/step - loss: 0.0057 - fn: 89.0000 - fp: 26.0000 - tn: 159178.0000 - tp: 198.0000 - precision: 0.8839 - recall: 0.6899 - val_loss: 0.0048 - val_fn: 16.0000 - val_fp: 8.0000 - val_tn: 39796.0000 - val_tp: 53.0000 - val_precision: 0.8689 - val_recall: 0.7681\n",
            "Epoch 75/300\n",
            "78/78 [==============================] - 1s 9ms/step - loss: 0.0049 - fn: 88.0000 - fp: 32.0000 - tn: 159172.0000 - tp: 199.0000 - precision: 0.8615 - recall: 0.6934 - val_loss: 0.0048 - val_fn: 16.0000 - val_fp: 8.0000 - val_tn: 39796.0000 - val_tp: 53.0000 - val_precision: 0.8689 - val_recall: 0.7681\n",
            "Epoch 76/300\n",
            "78/78 [==============================] - 1s 10ms/step - loss: 0.0054 - fn: 92.0000 - fp: 28.0000 - tn: 159176.0000 - tp: 195.0000 - precision: 0.8744 - recall: 0.6794 - val_loss: 0.0047 - val_fn: 16.0000 - val_fp: 7.0000 - val_tn: 39797.0000 - val_tp: 53.0000 - val_precision: 0.8833 - val_recall: 0.7681\n",
            "Epoch 77/300\n",
            "78/78 [==============================] - 1s 10ms/step - loss: 0.0047 - fn: 95.0000 - fp: 29.0000 - tn: 159175.0000 - tp: 192.0000 - precision: 0.8688 - recall: 0.6690 - val_loss: 0.0049 - val_fn: 16.0000 - val_fp: 9.0000 - val_tn: 39795.0000 - val_tp: 53.0000 - val_precision: 0.8548 - val_recall: 0.7681\n",
            "Epoch 78/300\n",
            "78/78 [==============================] - 1s 10ms/step - loss: 0.0046 - fn: 88.0000 - fp: 28.0000 - tn: 159176.0000 - tp: 199.0000 - precision: 0.8767 - recall: 0.6934 - val_loss: 0.0048 - val_fn: 16.0000 - val_fp: 8.0000 - val_tn: 39796.0000 - val_tp: 53.0000 - val_precision: 0.8689 - val_recall: 0.7681\n",
            "Epoch 79/300\n",
            "78/78 [==============================] - 1s 9ms/step - loss: 0.0043 - fn: 80.0000 - fp: 25.0000 - tn: 159179.0000 - tp: 207.0000 - precision: 0.8922 - recall: 0.7213 - val_loss: 0.0048 - val_fn: 16.0000 - val_fp: 9.0000 - val_tn: 39795.0000 - val_tp: 53.0000 - val_precision: 0.8548 - val_recall: 0.7681\n",
            "Epoch 80/300\n",
            "78/78 [==============================] - 1s 9ms/step - loss: 0.0044 - fn: 82.0000 - fp: 28.0000 - tn: 159176.0000 - tp: 205.0000 - precision: 0.8798 - recall: 0.7143 - val_loss: 0.0047 - val_fn: 16.0000 - val_fp: 8.0000 - val_tn: 39796.0000 - val_tp: 53.0000 - val_precision: 0.8689 - val_recall: 0.7681\n",
            "Epoch 81/300\n",
            "78/78 [==============================] - 1s 9ms/step - loss: 0.0045 - fn: 80.0000 - fp: 25.0000 - tn: 159179.0000 - tp: 207.0000 - precision: 0.8922 - recall: 0.7213 - val_loss: 0.0044 - val_fn: 16.0000 - val_fp: 7.0000 - val_tn: 39797.0000 - val_tp: 53.0000 - val_precision: 0.8833 - val_recall: 0.7681\n",
            "Epoch 82/300\n",
            "78/78 [==============================] - 1s 10ms/step - loss: 0.0044 - fn: 85.0000 - fp: 24.0000 - tn: 159180.0000 - tp: 202.0000 - precision: 0.8938 - recall: 0.7038 - val_loss: 0.0045 - val_fn: 16.0000 - val_fp: 7.0000 - val_tn: 39797.0000 - val_tp: 53.0000 - val_precision: 0.8833 - val_recall: 0.7681\n",
            "Epoch 83/300\n",
            "78/78 [==============================] - 1s 9ms/step - loss: 0.0041 - fn: 87.0000 - fp: 22.0000 - tn: 159182.0000 - tp: 200.0000 - precision: 0.9009 - recall: 0.6969 - val_loss: 0.0047 - val_fn: 16.0000 - val_fp: 8.0000 - val_tn: 39796.0000 - val_tp: 53.0000 - val_precision: 0.8689 - val_recall: 0.7681\n",
            "Epoch 84/300\n",
            "78/78 [==============================] - 1s 10ms/step - loss: 0.0044 - fn: 80.0000 - fp: 24.0000 - tn: 159180.0000 - tp: 207.0000 - precision: 0.8961 - recall: 0.7213 - val_loss: 0.0045 - val_fn: 16.0000 - val_fp: 7.0000 - val_tn: 39797.0000 - val_tp: 53.0000 - val_precision: 0.8833 - val_recall: 0.7681\n",
            "Epoch 85/300\n",
            "78/78 [==============================] - 1s 10ms/step - loss: 0.0043 - fn: 86.0000 - fp: 19.0000 - tn: 159185.0000 - tp: 201.0000 - precision: 0.9136 - recall: 0.7003 - val_loss: 0.0046 - val_fn: 16.0000 - val_fp: 8.0000 - val_tn: 39796.0000 - val_tp: 53.0000 - val_precision: 0.8689 - val_recall: 0.7681\n",
            "Epoch 86/300\n",
            "78/78 [==============================] - 1s 10ms/step - loss: 0.0039 - fn: 82.0000 - fp: 19.0000 - tn: 159185.0000 - tp: 205.0000 - precision: 0.9152 - recall: 0.7143 - val_loss: 0.0043 - val_fn: 16.0000 - val_fp: 7.0000 - val_tn: 39797.0000 - val_tp: 53.0000 - val_precision: 0.8833 - val_recall: 0.7681\n",
            "Epoch 87/300\n",
            "78/78 [==============================] - 1s 9ms/step - loss: 0.0038 - fn: 77.0000 - fp: 25.0000 - tn: 159179.0000 - tp: 210.0000 - precision: 0.8936 - recall: 0.7317 - val_loss: 0.0043 - val_fn: 16.0000 - val_fp: 6.0000 - val_tn: 39798.0000 - val_tp: 53.0000 - val_precision: 0.8983 - val_recall: 0.7681\n",
            "Epoch 88/300\n",
            "78/78 [==============================] - 1s 10ms/step - loss: 0.0041 - fn: 93.0000 - fp: 24.0000 - tn: 159180.0000 - tp: 194.0000 - precision: 0.8899 - recall: 0.6760 - val_loss: 0.0045 - val_fn: 16.0000 - val_fp: 8.0000 - val_tn: 39796.0000 - val_tp: 53.0000 - val_precision: 0.8689 - val_recall: 0.7681\n",
            "Epoch 89/300\n",
            "78/78 [==============================] - 1s 10ms/step - loss: 0.0039 - fn: 75.0000 - fp: 29.0000 - tn: 159175.0000 - tp: 212.0000 - precision: 0.8797 - recall: 0.7387 - val_loss: 0.0042 - val_fn: 16.0000 - val_fp: 6.0000 - val_tn: 39798.0000 - val_tp: 53.0000 - val_precision: 0.8983 - val_recall: 0.7681\n",
            "Epoch 90/300\n",
            "78/78 [==============================] - 1s 10ms/step - loss: 0.0041 - fn: 83.0000 - fp: 23.0000 - tn: 159181.0000 - tp: 204.0000 - precision: 0.8987 - recall: 0.7108 - val_loss: 0.0045 - val_fn: 16.0000 - val_fp: 8.0000 - val_tn: 39796.0000 - val_tp: 53.0000 - val_precision: 0.8689 - val_recall: 0.7681\n",
            "Epoch 91/300\n",
            "78/78 [==============================] - 1s 10ms/step - loss: 0.0037 - fn: 76.0000 - fp: 26.0000 - tn: 159178.0000 - tp: 211.0000 - precision: 0.8903 - recall: 0.7352 - val_loss: 0.0043 - val_fn: 16.0000 - val_fp: 7.0000 - val_tn: 39797.0000 - val_tp: 53.0000 - val_precision: 0.8833 - val_recall: 0.7681\n",
            "Epoch 92/300\n",
            "78/78 [==============================] - 1s 10ms/step - loss: 0.0037 - fn: 81.0000 - fp: 26.0000 - tn: 159178.0000 - tp: 206.0000 - precision: 0.8879 - recall: 0.7178 - val_loss: 0.0044 - val_fn: 16.0000 - val_fp: 9.0000 - val_tn: 39795.0000 - val_tp: 53.0000 - val_precision: 0.8548 - val_recall: 0.7681\n",
            "Epoch 93/300\n",
            "78/78 [==============================] - 1s 10ms/step - loss: 0.0038 - fn: 73.0000 - fp: 29.0000 - tn: 159175.0000 - tp: 214.0000 - precision: 0.8807 - recall: 0.7456 - val_loss: 0.0043 - val_fn: 17.0000 - val_fp: 5.0000 - val_tn: 39799.0000 - val_tp: 52.0000 - val_precision: 0.9123 - val_recall: 0.7536\n",
            "Epoch 94/300\n",
            "78/78 [==============================] - 1s 10ms/step - loss: 0.0038 - fn: 79.0000 - fp: 20.0000 - tn: 159184.0000 - tp: 208.0000 - precision: 0.9123 - recall: 0.7247 - val_loss: 0.0043 - val_fn: 16.0000 - val_fp: 5.0000 - val_tn: 39799.0000 - val_tp: 53.0000 - val_precision: 0.9138 - val_recall: 0.7681\n",
            "Epoch 95/300\n",
            "78/78 [==============================] - 1s 10ms/step - loss: 0.0035 - fn: 83.0000 - fp: 22.0000 - tn: 159182.0000 - tp: 204.0000 - precision: 0.9027 - recall: 0.7108 - val_loss: 0.0042 - val_fn: 16.0000 - val_fp: 5.0000 - val_tn: 39799.0000 - val_tp: 53.0000 - val_precision: 0.9138 - val_recall: 0.7681\n",
            "Epoch 96/300\n",
            "78/78 [==============================] - 1s 10ms/step - loss: 0.0033 - fn: 75.0000 - fp: 19.0000 - tn: 159185.0000 - tp: 212.0000 - precision: 0.9177 - recall: 0.7387 - val_loss: 0.0044 - val_fn: 16.0000 - val_fp: 8.0000 - val_tn: 39796.0000 - val_tp: 53.0000 - val_precision: 0.8689 - val_recall: 0.7681\n",
            "Epoch 97/300\n",
            "78/78 [==============================] - 1s 10ms/step - loss: 0.0032 - fn: 75.0000 - fp: 21.0000 - tn: 159183.0000 - tp: 212.0000 - precision: 0.9099 - recall: 0.7387 - val_loss: 0.0044 - val_fn: 16.0000 - val_fp: 8.0000 - val_tn: 39796.0000 - val_tp: 53.0000 - val_precision: 0.8689 - val_recall: 0.7681\n",
            "Epoch 98/300\n",
            "78/78 [==============================] - 1s 10ms/step - loss: 0.0038 - fn: 82.0000 - fp: 16.0000 - tn: 159188.0000 - tp: 205.0000 - precision: 0.9276 - recall: 0.7143 - val_loss: 0.0043 - val_fn: 16.0000 - val_fp: 8.0000 - val_tn: 39796.0000 - val_tp: 53.0000 - val_precision: 0.8689 - val_recall: 0.7681\n",
            "Epoch 99/300\n",
            "78/78 [==============================] - 1s 10ms/step - loss: 0.0033 - fn: 71.0000 - fp: 20.0000 - tn: 159184.0000 - tp: 216.0000 - precision: 0.9153 - recall: 0.7526 - val_loss: 0.0043 - val_fn: 16.0000 - val_fp: 5.0000 - val_tn: 39799.0000 - val_tp: 53.0000 - val_precision: 0.9138 - val_recall: 0.7681\n",
            "Epoch 100/300\n",
            "78/78 [==============================] - 1s 10ms/step - loss: 0.0033 - fn: 74.0000 - fp: 23.0000 - tn: 159181.0000 - tp: 213.0000 - precision: 0.9025 - recall: 0.7422 - val_loss: 0.0041 - val_fn: 17.0000 - val_fp: 5.0000 - val_tn: 39799.0000 - val_tp: 52.0000 - val_precision: 0.9123 - val_recall: 0.7536\n",
            "Epoch 101/300\n",
            "78/78 [==============================] - 1s 10ms/step - loss: 0.0033 - fn: 73.0000 - fp: 21.0000 - tn: 159183.0000 - tp: 214.0000 - precision: 0.9106 - recall: 0.7456 - val_loss: 0.0042 - val_fn: 17.0000 - val_fp: 5.0000 - val_tn: 39799.0000 - val_tp: 52.0000 - val_precision: 0.9123 - val_recall: 0.7536\n",
            "Epoch 102/300\n",
            "78/78 [==============================] - 1s 10ms/step - loss: 0.0034 - fn: 70.0000 - fp: 21.0000 - tn: 159183.0000 - tp: 217.0000 - precision: 0.9118 - recall: 0.7561 - val_loss: 0.0043 - val_fn: 15.0000 - val_fp: 9.0000 - val_tn: 39795.0000 - val_tp: 54.0000 - val_precision: 0.8571 - val_recall: 0.7826\n",
            "Epoch 103/300\n",
            "78/78 [==============================] - 1s 9ms/step - loss: 0.0033 - fn: 71.0000 - fp: 22.0000 - tn: 159182.0000 - tp: 216.0000 - precision: 0.9076 - recall: 0.7526 - val_loss: 0.0042 - val_fn: 16.0000 - val_fp: 5.0000 - val_tn: 39799.0000 - val_tp: 53.0000 - val_precision: 0.9138 - val_recall: 0.7681\n",
            "Epoch 104/300\n",
            "78/78 [==============================] - 1s 10ms/step - loss: 0.0032 - fn: 73.0000 - fp: 20.0000 - tn: 159184.0000 - tp: 214.0000 - precision: 0.9145 - recall: 0.7456 - val_loss: 0.0043 - val_fn: 16.0000 - val_fp: 8.0000 - val_tn: 39796.0000 - val_tp: 53.0000 - val_precision: 0.8689 - val_recall: 0.7681\n",
            "Epoch 105/300\n",
            "78/78 [==============================] - 1s 10ms/step - loss: 0.0033 - fn: 77.0000 - fp: 22.0000 - tn: 159182.0000 - tp: 210.0000 - precision: 0.9052 - recall: 0.7317 - val_loss: 0.0044 - val_fn: 15.0000 - val_fp: 10.0000 - val_tn: 39794.0000 - val_tp: 54.0000 - val_precision: 0.8438 - val_recall: 0.7826\n",
            "Epoch 106/300\n",
            "78/78 [==============================] - 1s 10ms/step - loss: 0.0035 - fn: 68.0000 - fp: 25.0000 - tn: 159179.0000 - tp: 219.0000 - precision: 0.8975 - recall: 0.7631 - val_loss: 0.0042 - val_fn: 16.0000 - val_fp: 7.0000 - val_tn: 39797.0000 - val_tp: 53.0000 - val_precision: 0.8833 - val_recall: 0.7681\n",
            "Epoch 107/300\n",
            "78/78 [==============================] - 1s 10ms/step - loss: 0.0030 - fn: 72.0000 - fp: 18.0000 - tn: 159186.0000 - tp: 215.0000 - precision: 0.9227 - recall: 0.7491 - val_loss: 0.0041 - val_fn: 16.0000 - val_fp: 6.0000 - val_tn: 39798.0000 - val_tp: 53.0000 - val_precision: 0.8983 - val_recall: 0.7681\n",
            "Epoch 108/300\n",
            "78/78 [==============================] - 1s 9ms/step - loss: 0.0033 - fn: 71.0000 - fp: 20.0000 - tn: 159184.0000 - tp: 216.0000 - precision: 0.9153 - recall: 0.7526 - val_loss: 0.0042 - val_fn: 16.0000 - val_fp: 5.0000 - val_tn: 39799.0000 - val_tp: 53.0000 - val_precision: 0.9138 - val_recall: 0.7681\n",
            "Epoch 109/300\n",
            "78/78 [==============================] - 1s 10ms/step - loss: 0.0033 - fn: 74.0000 - fp: 21.0000 - tn: 159183.0000 - tp: 213.0000 - precision: 0.9103 - recall: 0.7422 - val_loss: 0.0043 - val_fn: 16.0000 - val_fp: 7.0000 - val_tn: 39797.0000 - val_tp: 53.0000 - val_precision: 0.8833 - val_recall: 0.7681\n",
            "Epoch 110/300\n",
            "78/78 [==============================] - 1s 10ms/step - loss: 0.0030 - fn: 66.0000 - fp: 21.0000 - tn: 159183.0000 - tp: 221.0000 - precision: 0.9132 - recall: 0.7700 - val_loss: 0.0042 - val_fn: 15.0000 - val_fp: 8.0000 - val_tn: 39796.0000 - val_tp: 54.0000 - val_precision: 0.8710 - val_recall: 0.7826\n",
            "Epoch 111/300\n",
            "78/78 [==============================] - 1s 10ms/step - loss: 0.0031 - fn: 68.0000 - fp: 16.0000 - tn: 159188.0000 - tp: 219.0000 - precision: 0.9319 - recall: 0.7631 - val_loss: 0.0041 - val_fn: 16.0000 - val_fp: 6.0000 - val_tn: 39798.0000 - val_tp: 53.0000 - val_precision: 0.8983 - val_recall: 0.7681\n",
            "Epoch 112/300\n",
            "78/78 [==============================] - 1s 10ms/step - loss: 0.0029 - fn: 67.0000 - fp: 18.0000 - tn: 159186.0000 - tp: 220.0000 - precision: 0.9244 - recall: 0.7666 - val_loss: 0.0039 - val_fn: 16.0000 - val_fp: 5.0000 - val_tn: 39799.0000 - val_tp: 53.0000 - val_precision: 0.9138 - val_recall: 0.7681\n",
            "Epoch 113/300\n",
            "78/78 [==============================] - 1s 10ms/step - loss: 0.0031 - fn: 70.0000 - fp: 20.0000 - tn: 159184.0000 - tp: 217.0000 - precision: 0.9156 - recall: 0.7561 - val_loss: 0.0042 - val_fn: 15.0000 - val_fp: 9.0000 - val_tn: 39795.0000 - val_tp: 54.0000 - val_precision: 0.8571 - val_recall: 0.7826\n",
            "Epoch 114/300\n",
            "78/78 [==============================] - 1s 10ms/step - loss: 0.0028 - fn: 65.0000 - fp: 17.0000 - tn: 159187.0000 - tp: 222.0000 - precision: 0.9289 - recall: 0.7735 - val_loss: 0.0040 - val_fn: 15.0000 - val_fp: 6.0000 - val_tn: 39798.0000 - val_tp: 54.0000 - val_precision: 0.9000 - val_recall: 0.7826\n",
            "Epoch 115/300\n",
            "78/78 [==============================] - 1s 10ms/step - loss: 0.0029 - fn: 69.0000 - fp: 23.0000 - tn: 159181.0000 - tp: 218.0000 - precision: 0.9046 - recall: 0.7596 - val_loss: 0.0040 - val_fn: 16.0000 - val_fp: 6.0000 - val_tn: 39798.0000 - val_tp: 53.0000 - val_precision: 0.8983 - val_recall: 0.7681\n",
            "Epoch 116/300\n",
            "78/78 [==============================] - 1s 10ms/step - loss: 0.0031 - fn: 70.0000 - fp: 21.0000 - tn: 159183.0000 - tp: 217.0000 - precision: 0.9118 - recall: 0.7561 - val_loss: 0.0042 - val_fn: 15.0000 - val_fp: 8.0000 - val_tn: 39796.0000 - val_tp: 54.0000 - val_precision: 0.8710 - val_recall: 0.7826\n",
            "Epoch 117/300\n",
            "78/78 [==============================] - 1s 10ms/step - loss: 0.0027 - fn: 66.0000 - fp: 20.0000 - tn: 159184.0000 - tp: 221.0000 - precision: 0.9170 - recall: 0.7700 - val_loss: 0.0041 - val_fn: 16.0000 - val_fp: 7.0000 - val_tn: 39797.0000 - val_tp: 53.0000 - val_precision: 0.8833 - val_recall: 0.7681\n",
            "Epoch 118/300\n",
            "78/78 [==============================] - 1s 10ms/step - loss: 0.0028 - fn: 67.0000 - fp: 21.0000 - tn: 159183.0000 - tp: 220.0000 - precision: 0.9129 - recall: 0.7666 - val_loss: 0.0043 - val_fn: 15.0000 - val_fp: 8.0000 - val_tn: 39796.0000 - val_tp: 54.0000 - val_precision: 0.8710 - val_recall: 0.7826\n",
            "Epoch 119/300\n",
            "78/78 [==============================] - 1s 10ms/step - loss: 0.0027 - fn: 63.0000 - fp: 16.0000 - tn: 159188.0000 - tp: 224.0000 - precision: 0.9333 - recall: 0.7805 - val_loss: 0.0042 - val_fn: 15.0000 - val_fp: 6.0000 - val_tn: 39798.0000 - val_tp: 54.0000 - val_precision: 0.9000 - val_recall: 0.7826\n",
            "Epoch 120/300\n",
            "78/78 [==============================] - 1s 10ms/step - loss: 0.0030 - fn: 71.0000 - fp: 21.0000 - tn: 159183.0000 - tp: 216.0000 - precision: 0.9114 - recall: 0.7526 - val_loss: 0.0042 - val_fn: 15.0000 - val_fp: 7.0000 - val_tn: 39797.0000 - val_tp: 54.0000 - val_precision: 0.8852 - val_recall: 0.7826\n",
            "Epoch 121/300\n",
            "78/78 [==============================] - 1s 10ms/step - loss: 0.0028 - fn: 65.0000 - fp: 16.0000 - tn: 159188.0000 - tp: 222.0000 - precision: 0.9328 - recall: 0.7735 - val_loss: 0.0045 - val_fn: 14.0000 - val_fp: 9.0000 - val_tn: 39795.0000 - val_tp: 55.0000 - val_precision: 0.8594 - val_recall: 0.7971\n",
            "Epoch 122/300\n",
            "78/78 [==============================] - 1s 10ms/step - loss: 0.0026 - fn: 59.0000 - fp: 20.0000 - tn: 159184.0000 - tp: 228.0000 - precision: 0.9194 - recall: 0.7944 - val_loss: 0.0044 - val_fn: 15.0000 - val_fp: 8.0000 - val_tn: 39796.0000 - val_tp: 54.0000 - val_precision: 0.8710 - val_recall: 0.7826\n",
            "Epoch 123/300\n",
            "78/78 [==============================] - 1s 10ms/step - loss: 0.0027 - fn: 61.0000 - fp: 22.0000 - tn: 159182.0000 - tp: 226.0000 - precision: 0.9113 - recall: 0.7875 - val_loss: 0.0041 - val_fn: 16.0000 - val_fp: 6.0000 - val_tn: 39798.0000 - val_tp: 53.0000 - val_precision: 0.8983 - val_recall: 0.7681\n",
            "Epoch 124/300\n",
            "78/78 [==============================] - 1s 10ms/step - loss: 0.0028 - fn: 65.0000 - fp: 15.0000 - tn: 159189.0000 - tp: 222.0000 - precision: 0.9367 - recall: 0.7735 - val_loss: 0.0043 - val_fn: 16.0000 - val_fp: 6.0000 - val_tn: 39798.0000 - val_tp: 53.0000 - val_precision: 0.8983 - val_recall: 0.7681\n",
            "Epoch 125/300\n",
            "78/78 [==============================] - 1s 11ms/step - loss: 0.0026 - fn: 70.0000 - fp: 17.0000 - tn: 159187.0000 - tp: 217.0000 - precision: 0.9274 - recall: 0.7561 - val_loss: 0.0045 - val_fn: 15.0000 - val_fp: 8.0000 - val_tn: 39796.0000 - val_tp: 54.0000 - val_precision: 0.8710 - val_recall: 0.7826\n",
            "Epoch 126/300\n",
            "78/78 [==============================] - 1s 10ms/step - loss: 0.0027 - fn: 57.0000 - fp: 14.0000 - tn: 159190.0000 - tp: 230.0000 - precision: 0.9426 - recall: 0.8014 - val_loss: 0.0042 - val_fn: 15.0000 - val_fp: 8.0000 - val_tn: 39796.0000 - val_tp: 54.0000 - val_precision: 0.8710 - val_recall: 0.7826\n",
            "Epoch 127/300\n",
            "78/78 [==============================] - 1s 10ms/step - loss: 0.0025 - fn: 65.0000 - fp: 18.0000 - tn: 159186.0000 - tp: 222.0000 - precision: 0.9250 - recall: 0.7735 - val_loss: 0.0044 - val_fn: 15.0000 - val_fp: 6.0000 - val_tn: 39798.0000 - val_tp: 54.0000 - val_precision: 0.9000 - val_recall: 0.7826\n",
            "Epoch 128/300\n",
            "78/78 [==============================] - 1s 10ms/step - loss: 0.0028 - fn: 71.0000 - fp: 23.0000 - tn: 159181.0000 - tp: 216.0000 - precision: 0.9038 - recall: 0.7526 - val_loss: 0.0044 - val_fn: 16.0000 - val_fp: 6.0000 - val_tn: 39798.0000 - val_tp: 53.0000 - val_precision: 0.8983 - val_recall: 0.7681\n",
            "Epoch 129/300\n",
            "78/78 [==============================] - 1s 10ms/step - loss: 0.0028 - fn: 63.0000 - fp: 14.0000 - tn: 159190.0000 - tp: 224.0000 - precision: 0.9412 - recall: 0.7805 - val_loss: 0.0044 - val_fn: 15.0000 - val_fp: 6.0000 - val_tn: 39798.0000 - val_tp: 54.0000 - val_precision: 0.9000 - val_recall: 0.7826\n",
            "Epoch 130/300\n",
            "78/78 [==============================] - 1s 10ms/step - loss: 0.0027 - fn: 63.0000 - fp: 13.0000 - tn: 159191.0000 - tp: 224.0000 - precision: 0.9451 - recall: 0.7805 - val_loss: 0.0044 - val_fn: 15.0000 - val_fp: 8.0000 - val_tn: 39796.0000 - val_tp: 54.0000 - val_precision: 0.8710 - val_recall: 0.7826\n",
            "Epoch 131/300\n",
            "78/78 [==============================] - 1s 10ms/step - loss: 0.0026 - fn: 68.0000 - fp: 17.0000 - tn: 159187.0000 - tp: 219.0000 - precision: 0.9280 - recall: 0.7631 - val_loss: 0.0044 - val_fn: 15.0000 - val_fp: 7.0000 - val_tn: 39797.0000 - val_tp: 54.0000 - val_precision: 0.8852 - val_recall: 0.7826\n",
            "Epoch 132/300\n",
            "78/78 [==============================] - 1s 10ms/step - loss: 0.0025 - fn: 68.0000 - fp: 16.0000 - tn: 159188.0000 - tp: 219.0000 - precision: 0.9319 - recall: 0.7631 - val_loss: 0.0043 - val_fn: 15.0000 - val_fp: 8.0000 - val_tn: 39796.0000 - val_tp: 54.0000 - val_precision: 0.8710 - val_recall: 0.7826\n",
            "Epoch 133/300\n",
            "78/78 [==============================] - 1s 10ms/step - loss: 0.0025 - fn: 62.0000 - fp: 23.0000 - tn: 159181.0000 - tp: 225.0000 - precision: 0.9073 - recall: 0.7840 - val_loss: 0.0045 - val_fn: 15.0000 - val_fp: 8.0000 - val_tn: 39796.0000 - val_tp: 54.0000 - val_precision: 0.8710 - val_recall: 0.7826\n",
            "Epoch 134/300\n",
            "78/78 [==============================] - 1s 10ms/step - loss: 0.0025 - fn: 58.0000 - fp: 16.0000 - tn: 159188.0000 - tp: 229.0000 - precision: 0.9347 - recall: 0.7979 - val_loss: 0.0043 - val_fn: 15.0000 - val_fp: 7.0000 - val_tn: 39797.0000 - val_tp: 54.0000 - val_precision: 0.8852 - val_recall: 0.7826\n",
            "Epoch 135/300\n",
            "78/78 [==============================] - 1s 10ms/step - loss: 0.0024 - fn: 61.0000 - fp: 13.0000 - tn: 159191.0000 - tp: 226.0000 - precision: 0.9456 - recall: 0.7875 - val_loss: 0.0042 - val_fn: 15.0000 - val_fp: 6.0000 - val_tn: 39798.0000 - val_tp: 54.0000 - val_precision: 0.9000 - val_recall: 0.7826\n",
            "Epoch 136/300\n",
            "78/78 [==============================] - 1s 10ms/step - loss: 0.0026 - fn: 61.0000 - fp: 9.0000 - tn: 159195.0000 - tp: 226.0000 - precision: 0.9617 - recall: 0.7875 - val_loss: 0.0043 - val_fn: 15.0000 - val_fp: 8.0000 - val_tn: 39796.0000 - val_tp: 54.0000 - val_precision: 0.8710 - val_recall: 0.7826\n",
            "Epoch 137/300\n",
            "78/78 [==============================] - 1s 10ms/step - loss: 0.0023 - fn: 58.0000 - fp: 18.0000 - tn: 159186.0000 - tp: 229.0000 - precision: 0.9271 - recall: 0.7979 - val_loss: 0.0044 - val_fn: 15.0000 - val_fp: 8.0000 - val_tn: 39796.0000 - val_tp: 54.0000 - val_precision: 0.8710 - val_recall: 0.7826\n",
            "Epoch 138/300\n",
            "78/78 [==============================] - 1s 10ms/step - loss: 0.0022 - fn: 61.0000 - fp: 15.0000 - tn: 159189.0000 - tp: 226.0000 - precision: 0.9378 - recall: 0.7875 - val_loss: 0.0043 - val_fn: 15.0000 - val_fp: 7.0000 - val_tn: 39797.0000 - val_tp: 54.0000 - val_precision: 0.8852 - val_recall: 0.7826\n",
            "Epoch 139/300\n",
            "78/78 [==============================] - 1s 10ms/step - loss: 0.0023 - fn: 63.0000 - fp: 17.0000 - tn: 159187.0000 - tp: 224.0000 - precision: 0.9295 - recall: 0.7805 - val_loss: 0.0042 - val_fn: 15.0000 - val_fp: 6.0000 - val_tn: 39798.0000 - val_tp: 54.0000 - val_precision: 0.9000 - val_recall: 0.7826\n",
            "Epoch 140/300\n",
            "78/78 [==============================] - 1s 10ms/step - loss: 0.0023 - fn: 60.0000 - fp: 15.0000 - tn: 159189.0000 - tp: 227.0000 - precision: 0.9380 - recall: 0.7909 - val_loss: 0.0044 - val_fn: 15.0000 - val_fp: 6.0000 - val_tn: 39798.0000 - val_tp: 54.0000 - val_precision: 0.9000 - val_recall: 0.7826\n",
            "Epoch 141/300\n",
            "78/78 [==============================] - 1s 10ms/step - loss: 0.0023 - fn: 58.0000 - fp: 20.0000 - tn: 159184.0000 - tp: 229.0000 - precision: 0.9197 - recall: 0.7979 - val_loss: 0.0043 - val_fn: 15.0000 - val_fp: 6.0000 - val_tn: 39798.0000 - val_tp: 54.0000 - val_precision: 0.9000 - val_recall: 0.7826\n",
            "Epoch 142/300\n",
            "78/78 [==============================] - 1s 10ms/step - loss: 0.0024 - fn: 58.0000 - fp: 20.0000 - tn: 159184.0000 - tp: 229.0000 - precision: 0.9197 - recall: 0.7979 - val_loss: 0.0043 - val_fn: 14.0000 - val_fp: 8.0000 - val_tn: 39796.0000 - val_tp: 55.0000 - val_precision: 0.8730 - val_recall: 0.7971\n",
            "Epoch 143/300\n",
            "78/78 [==============================] - 1s 10ms/step - loss: 0.0024 - fn: 63.0000 - fp: 21.0000 - tn: 159183.0000 - tp: 224.0000 - precision: 0.9143 - recall: 0.7805 - val_loss: 0.0043 - val_fn: 15.0000 - val_fp: 6.0000 - val_tn: 39798.0000 - val_tp: 54.0000 - val_precision: 0.9000 - val_recall: 0.7826\n",
            "Epoch 144/300\n",
            "78/78 [==============================] - 1s 10ms/step - loss: 0.0023 - fn: 62.0000 - fp: 25.0000 - tn: 159179.0000 - tp: 225.0000 - precision: 0.9000 - recall: 0.7840 - val_loss: 0.0044 - val_fn: 15.0000 - val_fp: 8.0000 - val_tn: 39796.0000 - val_tp: 54.0000 - val_precision: 0.8710 - val_recall: 0.7826\n",
            "Epoch 145/300\n",
            "78/78 [==============================] - 1s 10ms/step - loss: 0.0024 - fn: 61.0000 - fp: 14.0000 - tn: 159190.0000 - tp: 226.0000 - precision: 0.9417 - recall: 0.7875 - val_loss: 0.0043 - val_fn: 15.0000 - val_fp: 6.0000 - val_tn: 39798.0000 - val_tp: 54.0000 - val_precision: 0.9000 - val_recall: 0.7826\n",
            "Epoch 146/300\n",
            "78/78 [==============================] - 1s 10ms/step - loss: 0.0026 - fn: 62.0000 - fp: 17.0000 - tn: 159187.0000 - tp: 225.0000 - precision: 0.9298 - recall: 0.7840 - val_loss: 0.0043 - val_fn: 15.0000 - val_fp: 6.0000 - val_tn: 39798.0000 - val_tp: 54.0000 - val_precision: 0.9000 - val_recall: 0.7826\n",
            "Epoch 147/300\n",
            "78/78 [==============================] - 1s 10ms/step - loss: 0.0021 - fn: 60.0000 - fp: 13.0000 - tn: 159191.0000 - tp: 227.0000 - precision: 0.9458 - recall: 0.7909 - val_loss: 0.0045 - val_fn: 13.0000 - val_fp: 8.0000 - val_tn: 39796.0000 - val_tp: 56.0000 - val_precision: 0.8750 - val_recall: 0.8116\n",
            "Epoch 148/300\n",
            "78/78 [==============================] - 1s 10ms/step - loss: 0.0023 - fn: 61.0000 - fp: 21.0000 - tn: 159183.0000 - tp: 226.0000 - precision: 0.9150 - recall: 0.7875 - val_loss: 0.0045 - val_fn: 13.0000 - val_fp: 7.0000 - val_tn: 39797.0000 - val_tp: 56.0000 - val_precision: 0.8889 - val_recall: 0.8116\n",
            "Epoch 149/300\n",
            "78/78 [==============================] - 1s 10ms/step - loss: 0.0024 - fn: 62.0000 - fp: 22.0000 - tn: 159182.0000 - tp: 225.0000 - precision: 0.9109 - recall: 0.7840 - val_loss: 0.0045 - val_fn: 15.0000 - val_fp: 7.0000 - val_tn: 39797.0000 - val_tp: 54.0000 - val_precision: 0.8852 - val_recall: 0.7826\n",
            "Epoch 150/300\n",
            "78/78 [==============================] - 1s 10ms/step - loss: 0.0021 - fn: 58.0000 - fp: 17.0000 - tn: 159187.0000 - tp: 229.0000 - precision: 0.9309 - recall: 0.7979 - val_loss: 0.0046 - val_fn: 15.0000 - val_fp: 6.0000 - val_tn: 39798.0000 - val_tp: 54.0000 - val_precision: 0.9000 - val_recall: 0.7826\n",
            "Epoch 151/300\n",
            "78/78 [==============================] - 1s 10ms/step - loss: 0.0020 - fn: 54.0000 - fp: 15.0000 - tn: 159189.0000 - tp: 233.0000 - precision: 0.9395 - recall: 0.8118 - val_loss: 0.0046 - val_fn: 15.0000 - val_fp: 6.0000 - val_tn: 39798.0000 - val_tp: 54.0000 - val_precision: 0.9000 - val_recall: 0.7826\n",
            "Epoch 152/300\n",
            "78/78 [==============================] - 1s 10ms/step - loss: 0.0020 - fn: 57.0000 - fp: 20.0000 - tn: 159184.0000 - tp: 230.0000 - precision: 0.9200 - recall: 0.8014 - val_loss: 0.0045 - val_fn: 15.0000 - val_fp: 6.0000 - val_tn: 39798.0000 - val_tp: 54.0000 - val_precision: 0.9000 - val_recall: 0.7826\n",
            "Epoch 153/300\n",
            "78/78 [==============================] - 1s 10ms/step - loss: 0.0020 - fn: 57.0000 - fp: 11.0000 - tn: 159193.0000 - tp: 230.0000 - precision: 0.9544 - recall: 0.8014 - val_loss: 0.0046 - val_fn: 13.0000 - val_fp: 6.0000 - val_tn: 39798.0000 - val_tp: 56.0000 - val_precision: 0.9032 - val_recall: 0.8116\n",
            "Epoch 154/300\n",
            "78/78 [==============================] - 1s 10ms/step - loss: 0.0021 - fn: 59.0000 - fp: 14.0000 - tn: 159190.0000 - tp: 228.0000 - precision: 0.9421 - recall: 0.7944 - val_loss: 0.0046 - val_fn: 15.0000 - val_fp: 6.0000 - val_tn: 39798.0000 - val_tp: 54.0000 - val_precision: 0.9000 - val_recall: 0.7826\n",
            "Epoch 155/300\n",
            "78/78 [==============================] - 1s 10ms/step - loss: 0.0021 - fn: 57.0000 - fp: 15.0000 - tn: 159189.0000 - tp: 230.0000 - precision: 0.9388 - recall: 0.8014 - val_loss: 0.0045 - val_fn: 13.0000 - val_fp: 7.0000 - val_tn: 39797.0000 - val_tp: 56.0000 - val_precision: 0.8889 - val_recall: 0.8116\n",
            "Epoch 156/300\n",
            "78/78 [==============================] - 1s 10ms/step - loss: 0.0020 - fn: 60.0000 - fp: 17.0000 - tn: 159187.0000 - tp: 227.0000 - precision: 0.9303 - recall: 0.7909 - val_loss: 0.0044 - val_fn: 14.0000 - val_fp: 6.0000 - val_tn: 39798.0000 - val_tp: 55.0000 - val_precision: 0.9016 - val_recall: 0.7971\n",
            "Epoch 157/300\n",
            "78/78 [==============================] - 1s 10ms/step - loss: 0.0020 - fn: 53.0000 - fp: 18.0000 - tn: 159186.0000 - tp: 234.0000 - precision: 0.9286 - recall: 0.8153 - val_loss: 0.0045 - val_fn: 15.0000 - val_fp: 6.0000 - val_tn: 39798.0000 - val_tp: 54.0000 - val_precision: 0.9000 - val_recall: 0.7826\n",
            "Epoch 158/300\n",
            "78/78 [==============================] - 1s 10ms/step - loss: 0.0019 - fn: 54.0000 - fp: 14.0000 - tn: 159190.0000 - tp: 233.0000 - precision: 0.9433 - recall: 0.8118 - val_loss: 0.0046 - val_fn: 14.0000 - val_fp: 6.0000 - val_tn: 39798.0000 - val_tp: 55.0000 - val_precision: 0.9016 - val_recall: 0.7971\n",
            "Epoch 159/300\n",
            "78/78 [==============================] - 1s 10ms/step - loss: 0.0020 - fn: 58.0000 - fp: 11.0000 - tn: 159193.0000 - tp: 229.0000 - precision: 0.9542 - recall: 0.7979 - val_loss: 0.0047 - val_fn: 13.0000 - val_fp: 9.0000 - val_tn: 39795.0000 - val_tp: 56.0000 - val_precision: 0.8615 - val_recall: 0.8116\n",
            "Epoch 160/300\n",
            "78/78 [==============================] - 1s 10ms/step - loss: 0.0020 - fn: 53.0000 - fp: 20.0000 - tn: 159184.0000 - tp: 234.0000 - precision: 0.9213 - recall: 0.8153 - val_loss: 0.0049 - val_fn: 13.0000 - val_fp: 8.0000 - val_tn: 39796.0000 - val_tp: 56.0000 - val_precision: 0.8750 - val_recall: 0.8116\n",
            "Epoch 161/300\n",
            "78/78 [==============================] - 1s 10ms/step - loss: 0.0020 - fn: 54.0000 - fp: 13.0000 - tn: 159191.0000 - tp: 233.0000 - precision: 0.9472 - recall: 0.8118 - val_loss: 0.0047 - val_fn: 15.0000 - val_fp: 6.0000 - val_tn: 39798.0000 - val_tp: 54.0000 - val_precision: 0.9000 - val_recall: 0.7826\n",
            "Epoch 162/300\n",
            "78/78 [==============================] - 1s 10ms/step - loss: 0.0018 - fn: 50.0000 - fp: 14.0000 - tn: 159190.0000 - tp: 237.0000 - precision: 0.9442 - recall: 0.8258 - val_loss: 0.0046 - val_fn: 14.0000 - val_fp: 6.0000 - val_tn: 39798.0000 - val_tp: 55.0000 - val_precision: 0.9016 - val_recall: 0.7971\n",
            "Epoch 163/300\n",
            "78/78 [==============================] - 1s 10ms/step - loss: 0.0019 - fn: 53.0000 - fp: 12.0000 - tn: 159192.0000 - tp: 234.0000 - precision: 0.9512 - recall: 0.8153 - val_loss: 0.0046 - val_fn: 14.0000 - val_fp: 6.0000 - val_tn: 39798.0000 - val_tp: 55.0000 - val_precision: 0.9016 - val_recall: 0.7971\n",
            "Epoch 164/300\n",
            "78/78 [==============================] - 1s 10ms/step - loss: 0.0020 - fn: 50.0000 - fp: 17.0000 - tn: 159187.0000 - tp: 237.0000 - precision: 0.9331 - recall: 0.8258 - val_loss: 0.0046 - val_fn: 14.0000 - val_fp: 6.0000 - val_tn: 39798.0000 - val_tp: 55.0000 - val_precision: 0.9016 - val_recall: 0.7971\n",
            "Epoch 165/300\n",
            "78/78 [==============================] - 1s 10ms/step - loss: 0.0020 - fn: 56.0000 - fp: 10.0000 - tn: 159194.0000 - tp: 231.0000 - precision: 0.9585 - recall: 0.8049 - val_loss: 0.0048 - val_fn: 13.0000 - val_fp: 8.0000 - val_tn: 39796.0000 - val_tp: 56.0000 - val_precision: 0.8750 - val_recall: 0.8116\n",
            "Epoch 166/300\n",
            "78/78 [==============================] - 1s 11ms/step - loss: 0.0018 - fn: 55.0000 - fp: 19.0000 - tn: 159185.0000 - tp: 232.0000 - precision: 0.9243 - recall: 0.8084 - val_loss: 0.0045 - val_fn: 15.0000 - val_fp: 6.0000 - val_tn: 39798.0000 - val_tp: 54.0000 - val_precision: 0.9000 - val_recall: 0.7826\n",
            "Epoch 167/300\n",
            "78/78 [==============================] - 1s 10ms/step - loss: 0.0018 - fn: 55.0000 - fp: 13.0000 - tn: 159191.0000 - tp: 232.0000 - precision: 0.9469 - recall: 0.8084 - val_loss: 0.0045 - val_fn: 14.0000 - val_fp: 6.0000 - val_tn: 39798.0000 - val_tp: 55.0000 - val_precision: 0.9016 - val_recall: 0.7971\n",
            "Epoch 168/300\n",
            "78/78 [==============================] - 1s 10ms/step - loss: 0.0019 - fn: 49.0000 - fp: 10.0000 - tn: 159194.0000 - tp: 238.0000 - precision: 0.9597 - recall: 0.8293 - val_loss: 0.0047 - val_fn: 13.0000 - val_fp: 7.0000 - val_tn: 39797.0000 - val_tp: 56.0000 - val_precision: 0.8889 - val_recall: 0.8116\n",
            "Epoch 169/300\n",
            "78/78 [==============================] - 1s 10ms/step - loss: 0.0021 - fn: 51.0000 - fp: 17.0000 - tn: 159187.0000 - tp: 236.0000 - precision: 0.9328 - recall: 0.8223 - val_loss: 0.0046 - val_fn: 15.0000 - val_fp: 6.0000 - val_tn: 39798.0000 - val_tp: 54.0000 - val_precision: 0.9000 - val_recall: 0.7826\n",
            "Epoch 170/300\n",
            "78/78 [==============================] - 1s 10ms/step - loss: 0.0018 - fn: 54.0000 - fp: 11.0000 - tn: 159193.0000 - tp: 233.0000 - precision: 0.9549 - recall: 0.8118 - val_loss: 0.0047 - val_fn: 14.0000 - val_fp: 6.0000 - val_tn: 39798.0000 - val_tp: 55.0000 - val_precision: 0.9016 - val_recall: 0.7971\n",
            "Epoch 171/300\n",
            "78/78 [==============================] - 1s 10ms/step - loss: 0.0018 - fn: 45.0000 - fp: 17.0000 - tn: 159187.0000 - tp: 242.0000 - precision: 0.9344 - recall: 0.8432 - val_loss: 0.0048 - val_fn: 14.0000 - val_fp: 7.0000 - val_tn: 39797.0000 - val_tp: 55.0000 - val_precision: 0.8871 - val_recall: 0.7971\n",
            "Epoch 172/300\n",
            "78/78 [==============================] - 1s 10ms/step - loss: 0.0019 - fn: 56.0000 - fp: 11.0000 - tn: 159193.0000 - tp: 231.0000 - precision: 0.9545 - recall: 0.8049 - val_loss: 0.0047 - val_fn: 14.0000 - val_fp: 6.0000 - val_tn: 39798.0000 - val_tp: 55.0000 - val_precision: 0.9016 - val_recall: 0.7971\n",
            "Epoch 173/300\n",
            "78/78 [==============================] - 1s 10ms/step - loss: 0.0018 - fn: 46.0000 - fp: 14.0000 - tn: 159190.0000 - tp: 241.0000 - precision: 0.9451 - recall: 0.8397 - val_loss: 0.0046 - val_fn: 15.0000 - val_fp: 6.0000 - val_tn: 39798.0000 - val_tp: 54.0000 - val_precision: 0.9000 - val_recall: 0.7826\n",
            "Epoch 174/300\n",
            "78/78 [==============================] - 1s 10ms/step - loss: 0.0019 - fn: 49.0000 - fp: 17.0000 - tn: 159187.0000 - tp: 238.0000 - precision: 0.9333 - recall: 0.8293 - val_loss: 0.0046 - val_fn: 15.0000 - val_fp: 6.0000 - val_tn: 39798.0000 - val_tp: 54.0000 - val_precision: 0.9000 - val_recall: 0.7826\n",
            "Epoch 175/300\n",
            "78/78 [==============================] - 1s 10ms/step - loss: 0.0019 - fn: 51.0000 - fp: 12.0000 - tn: 159192.0000 - tp: 236.0000 - precision: 0.9516 - recall: 0.8223 - val_loss: 0.0047 - val_fn: 13.0000 - val_fp: 7.0000 - val_tn: 39797.0000 - val_tp: 56.0000 - val_precision: 0.8889 - val_recall: 0.8116\n",
            "Epoch 176/300\n",
            "78/78 [==============================] - 1s 10ms/step - loss: 0.0017 - fn: 48.0000 - fp: 16.0000 - tn: 159188.0000 - tp: 239.0000 - precision: 0.9373 - recall: 0.8328 - val_loss: 0.0048 - val_fn: 13.0000 - val_fp: 7.0000 - val_tn: 39797.0000 - val_tp: 56.0000 - val_precision: 0.8889 - val_recall: 0.8116\n",
            "Epoch 177/300\n",
            "78/78 [==============================] - 1s 10ms/step - loss: 0.0017 - fn: 51.0000 - fp: 17.0000 - tn: 159187.0000 - tp: 236.0000 - precision: 0.9328 - recall: 0.8223 - val_loss: 0.0047 - val_fn: 14.0000 - val_fp: 6.0000 - val_tn: 39798.0000 - val_tp: 55.0000 - val_precision: 0.9016 - val_recall: 0.7971\n",
            "Epoch 178/300\n",
            "78/78 [==============================] - 1s 11ms/step - loss: 0.0018 - fn: 52.0000 - fp: 8.0000 - tn: 159196.0000 - tp: 235.0000 - precision: 0.9671 - recall: 0.8188 - val_loss: 0.0048 - val_fn: 13.0000 - val_fp: 6.0000 - val_tn: 39798.0000 - val_tp: 56.0000 - val_precision: 0.9032 - val_recall: 0.8116\n",
            "Epoch 179/300\n",
            "78/78 [==============================] - 1s 10ms/step - loss: 0.0019 - fn: 50.0000 - fp: 15.0000 - tn: 159189.0000 - tp: 237.0000 - precision: 0.9405 - recall: 0.8258 - val_loss: 0.0049 - val_fn: 13.0000 - val_fp: 6.0000 - val_tn: 39798.0000 - val_tp: 56.0000 - val_precision: 0.9032 - val_recall: 0.8116\n",
            "Epoch 180/300\n",
            "78/78 [==============================] - 1s 10ms/step - loss: 0.0018 - fn: 44.0000 - fp: 15.0000 - tn: 159189.0000 - tp: 243.0000 - precision: 0.9419 - recall: 0.8467 - val_loss: 0.0048 - val_fn: 13.0000 - val_fp: 6.0000 - val_tn: 39798.0000 - val_tp: 56.0000 - val_precision: 0.9032 - val_recall: 0.8116\n",
            "Epoch 181/300\n",
            "78/78 [==============================] - 1s 10ms/step - loss: 0.0018 - fn: 53.0000 - fp: 13.0000 - tn: 159191.0000 - tp: 234.0000 - precision: 0.9474 - recall: 0.8153 - val_loss: 0.0050 - val_fn: 13.0000 - val_fp: 7.0000 - val_tn: 39797.0000 - val_tp: 56.0000 - val_precision: 0.8889 - val_recall: 0.8116\n",
            "Epoch 182/300\n",
            "78/78 [==============================] - 1s 10ms/step - loss: 0.0016 - fn: 49.0000 - fp: 13.0000 - tn: 159191.0000 - tp: 238.0000 - precision: 0.9482 - recall: 0.8293 - val_loss: 0.0049 - val_fn: 13.0000 - val_fp: 7.0000 - val_tn: 39797.0000 - val_tp: 56.0000 - val_precision: 0.8889 - val_recall: 0.8116\n",
            "Epoch 183/300\n",
            "78/78 [==============================] - 1s 10ms/step - loss: 0.0015 - fn: 49.0000 - fp: 14.0000 - tn: 159190.0000 - tp: 238.0000 - precision: 0.9444 - recall: 0.8293 - val_loss: 0.0049 - val_fn: 13.0000 - val_fp: 7.0000 - val_tn: 39797.0000 - val_tp: 56.0000 - val_precision: 0.8889 - val_recall: 0.8116\n",
            "Epoch 184/300\n",
            "78/78 [==============================] - 1s 10ms/step - loss: 0.0016 - fn: 44.0000 - fp: 16.0000 - tn: 159188.0000 - tp: 243.0000 - precision: 0.9382 - recall: 0.8467 - val_loss: 0.0048 - val_fn: 13.0000 - val_fp: 7.0000 - val_tn: 39797.0000 - val_tp: 56.0000 - val_precision: 0.8889 - val_recall: 0.8116\n",
            "Epoch 185/300\n",
            "78/78 [==============================] - 1s 10ms/step - loss: 0.0018 - fn: 48.0000 - fp: 18.0000 - tn: 159186.0000 - tp: 239.0000 - precision: 0.9300 - recall: 0.8328 - val_loss: 0.0048 - val_fn: 15.0000 - val_fp: 6.0000 - val_tn: 39798.0000 - val_tp: 54.0000 - val_precision: 0.9000 - val_recall: 0.7826\n",
            "Epoch 186/300\n",
            "78/78 [==============================] - 1s 10ms/step - loss: 0.0017 - fn: 49.0000 - fp: 17.0000 - tn: 159187.0000 - tp: 238.0000 - precision: 0.9333 - recall: 0.8293 - val_loss: 0.0049 - val_fn: 15.0000 - val_fp: 7.0000 - val_tn: 39797.0000 - val_tp: 54.0000 - val_precision: 0.8852 - val_recall: 0.7826\n",
            "Epoch 187/300\n",
            "78/78 [==============================] - 1s 10ms/step - loss: 0.0017 - fn: 51.0000 - fp: 15.0000 - tn: 159189.0000 - tp: 236.0000 - precision: 0.9402 - recall: 0.8223 - val_loss: 0.0048 - val_fn: 14.0000 - val_fp: 7.0000 - val_tn: 39797.0000 - val_tp: 55.0000 - val_precision: 0.8871 - val_recall: 0.7971\n",
            "Epoch 188/300\n",
            "78/78 [==============================] - 1s 11ms/step - loss: 0.0017 - fn: 60.0000 - fp: 14.0000 - tn: 159190.0000 - tp: 227.0000 - precision: 0.9419 - recall: 0.7909 - val_loss: 0.0047 - val_fn: 13.0000 - val_fp: 8.0000 - val_tn: 39796.0000 - val_tp: 56.0000 - val_precision: 0.8750 - val_recall: 0.8116\n",
            "Epoch 189/300\n",
            "78/78 [==============================] - 1s 10ms/step - loss: 0.0017 - fn: 47.0000 - fp: 21.0000 - tn: 159183.0000 - tp: 240.0000 - precision: 0.9195 - recall: 0.8362 - val_loss: 0.0048 - val_fn: 14.0000 - val_fp: 7.0000 - val_tn: 39797.0000 - val_tp: 55.0000 - val_precision: 0.8871 - val_recall: 0.7971\n",
            "Epoch 190/300\n",
            "78/78 [==============================] - 1s 10ms/step - loss: 0.0017 - fn: 42.0000 - fp: 11.0000 - tn: 159193.0000 - tp: 245.0000 - precision: 0.9570 - recall: 0.8537 - val_loss: 0.0049 - val_fn: 14.0000 - val_fp: 6.0000 - val_tn: 39798.0000 - val_tp: 55.0000 - val_precision: 0.9016 - val_recall: 0.7971\n",
            "Epoch 191/300\n",
            "78/78 [==============================] - 1s 11ms/step - loss: 0.0016 - fn: 41.0000 - fp: 13.0000 - tn: 159191.0000 - tp: 246.0000 - precision: 0.9498 - recall: 0.8571 - val_loss: 0.0048 - val_fn: 15.0000 - val_fp: 6.0000 - val_tn: 39798.0000 - val_tp: 54.0000 - val_precision: 0.9000 - val_recall: 0.7826\n",
            "Epoch 192/300\n",
            "78/78 [==============================] - 1s 10ms/step - loss: 0.0016 - fn: 46.0000 - fp: 13.0000 - tn: 159191.0000 - tp: 241.0000 - precision: 0.9488 - recall: 0.8397 - val_loss: 0.0048 - val_fn: 13.0000 - val_fp: 8.0000 - val_tn: 39796.0000 - val_tp: 56.0000 - val_precision: 0.8750 - val_recall: 0.8116\n",
            "Epoch 193/300\n",
            "78/78 [==============================] - 1s 10ms/step - loss: 0.0016 - fn: 47.0000 - fp: 14.0000 - tn: 159190.0000 - tp: 240.0000 - precision: 0.9449 - recall: 0.8362 - val_loss: 0.0047 - val_fn: 13.0000 - val_fp: 8.0000 - val_tn: 39796.0000 - val_tp: 56.0000 - val_precision: 0.8750 - val_recall: 0.8116\n",
            "Epoch 194/300\n",
            "78/78 [==============================] - 1s 10ms/step - loss: 0.0017 - fn: 45.0000 - fp: 15.0000 - tn: 159189.0000 - tp: 242.0000 - precision: 0.9416 - recall: 0.8432 - val_loss: 0.0047 - val_fn: 13.0000 - val_fp: 7.0000 - val_tn: 39797.0000 - val_tp: 56.0000 - val_precision: 0.8889 - val_recall: 0.8116\n",
            "Epoch 195/300\n",
            "78/78 [==============================] - 1s 10ms/step - loss: 0.0014 - fn: 39.0000 - fp: 12.0000 - tn: 159192.0000 - tp: 248.0000 - precision: 0.9538 - recall: 0.8641 - val_loss: 0.0049 - val_fn: 13.0000 - val_fp: 8.0000 - val_tn: 39796.0000 - val_tp: 56.0000 - val_precision: 0.8750 - val_recall: 0.8116\n",
            "Epoch 196/300\n",
            "78/78 [==============================] - 1s 11ms/step - loss: 0.0016 - fn: 54.0000 - fp: 16.0000 - tn: 159188.0000 - tp: 233.0000 - precision: 0.9357 - recall: 0.8118 - val_loss: 0.0049 - val_fn: 13.0000 - val_fp: 8.0000 - val_tn: 39796.0000 - val_tp: 56.0000 - val_precision: 0.8750 - val_recall: 0.8116\n",
            "Epoch 197/300\n",
            "78/78 [==============================] - 1s 10ms/step - loss: 0.0016 - fn: 43.0000 - fp: 16.0000 - tn: 159188.0000 - tp: 244.0000 - precision: 0.9385 - recall: 0.8502 - val_loss: 0.0047 - val_fn: 14.0000 - val_fp: 6.0000 - val_tn: 39798.0000 - val_tp: 55.0000 - val_precision: 0.9016 - val_recall: 0.7971\n",
            "Epoch 198/300\n",
            "78/78 [==============================] - 1s 10ms/step - loss: 0.0016 - fn: 45.0000 - fp: 10.0000 - tn: 159194.0000 - tp: 242.0000 - precision: 0.9603 - recall: 0.8432 - val_loss: 0.0049 - val_fn: 13.0000 - val_fp: 7.0000 - val_tn: 39797.0000 - val_tp: 56.0000 - val_precision: 0.8889 - val_recall: 0.8116\n",
            "Epoch 199/300\n",
            "78/78 [==============================] - 1s 11ms/step - loss: 0.0014 - fn: 44.0000 - fp: 13.0000 - tn: 159191.0000 - tp: 243.0000 - precision: 0.9492 - recall: 0.8467 - val_loss: 0.0048 - val_fn: 13.0000 - val_fp: 8.0000 - val_tn: 39796.0000 - val_tp: 56.0000 - val_precision: 0.8750 - val_recall: 0.8116\n",
            "Epoch 200/300\n",
            "78/78 [==============================] - 1s 10ms/step - loss: 0.0014 - fn: 43.0000 - fp: 10.0000 - tn: 159194.0000 - tp: 244.0000 - precision: 0.9606 - recall: 0.8502 - val_loss: 0.0049 - val_fn: 15.0000 - val_fp: 6.0000 - val_tn: 39798.0000 - val_tp: 54.0000 - val_precision: 0.9000 - val_recall: 0.7826\n",
            "Epoch 201/300\n",
            "78/78 [==============================] - 1s 10ms/step - loss: 0.0014 - fn: 43.0000 - fp: 16.0000 - tn: 159188.0000 - tp: 244.0000 - precision: 0.9385 - recall: 0.8502 - val_loss: 0.0049 - val_fn: 15.0000 - val_fp: 6.0000 - val_tn: 39798.0000 - val_tp: 54.0000 - val_precision: 0.9000 - val_recall: 0.7826\n",
            "Epoch 202/300\n",
            "78/78 [==============================] - 1s 10ms/step - loss: 0.0013 - fn: 44.0000 - fp: 11.0000 - tn: 159193.0000 - tp: 243.0000 - precision: 0.9567 - recall: 0.8467 - val_loss: 0.0049 - val_fn: 14.0000 - val_fp: 7.0000 - val_tn: 39797.0000 - val_tp: 55.0000 - val_precision: 0.8871 - val_recall: 0.7971\n",
            "Epoch 203/300\n",
            "78/78 [==============================] - 1s 10ms/step - loss: 0.0016 - fn: 47.0000 - fp: 13.0000 - tn: 159191.0000 - tp: 240.0000 - precision: 0.9486 - recall: 0.8362 - val_loss: 0.0049 - val_fn: 15.0000 - val_fp: 7.0000 - val_tn: 39797.0000 - val_tp: 54.0000 - val_precision: 0.8852 - val_recall: 0.7826\n",
            "Epoch 204/300\n",
            "78/78 [==============================] - 1s 11ms/step - loss: 0.0014 - fn: 44.0000 - fp: 11.0000 - tn: 159193.0000 - tp: 243.0000 - precision: 0.9567 - recall: 0.8467 - val_loss: 0.0049 - val_fn: 15.0000 - val_fp: 6.0000 - val_tn: 39798.0000 - val_tp: 54.0000 - val_precision: 0.9000 - val_recall: 0.7826\n",
            "Epoch 205/300\n",
            "78/78 [==============================] - 1s 10ms/step - loss: 0.0014 - fn: 44.0000 - fp: 17.0000 - tn: 159187.0000 - tp: 243.0000 - precision: 0.9346 - recall: 0.8467 - val_loss: 0.0048 - val_fn: 15.0000 - val_fp: 4.0000 - val_tn: 39800.0000 - val_tp: 54.0000 - val_precision: 0.9310 - val_recall: 0.7826\n",
            "Epoch 206/300\n",
            "78/78 [==============================] - 1s 10ms/step - loss: 0.0013 - fn: 42.0000 - fp: 16.0000 - tn: 159188.0000 - tp: 245.0000 - precision: 0.9387 - recall: 0.8537 - val_loss: 0.0050 - val_fn: 13.0000 - val_fp: 7.0000 - val_tn: 39797.0000 - val_tp: 56.0000 - val_precision: 0.8889 - val_recall: 0.8116\n",
            "Epoch 207/300\n",
            "78/78 [==============================] - 1s 11ms/step - loss: 0.0016 - fn: 47.0000 - fp: 15.0000 - tn: 159189.0000 - tp: 240.0000 - precision: 0.9412 - recall: 0.8362 - val_loss: 0.0051 - val_fn: 14.0000 - val_fp: 6.0000 - val_tn: 39798.0000 - val_tp: 55.0000 - val_precision: 0.9016 - val_recall: 0.7971\n",
            "Epoch 208/300\n",
            "78/78 [==============================] - 1s 10ms/step - loss: 0.0013 - fn: 38.0000 - fp: 12.0000 - tn: 159192.0000 - tp: 249.0000 - precision: 0.9540 - recall: 0.8676 - val_loss: 0.0051 - val_fn: 14.0000 - val_fp: 6.0000 - val_tn: 39798.0000 - val_tp: 55.0000 - val_precision: 0.9016 - val_recall: 0.7971\n",
            "Epoch 209/300\n",
            "78/78 [==============================] - 1s 10ms/step - loss: 0.0013 - fn: 44.0000 - fp: 12.0000 - tn: 159192.0000 - tp: 243.0000 - precision: 0.9529 - recall: 0.8467 - val_loss: 0.0052 - val_fn: 13.0000 - val_fp: 7.0000 - val_tn: 39797.0000 - val_tp: 56.0000 - val_precision: 0.8889 - val_recall: 0.8116\n",
            "Epoch 210/300\n",
            "78/78 [==============================] - 1s 11ms/step - loss: 0.0013 - fn: 39.0000 - fp: 13.0000 - tn: 159191.0000 - tp: 248.0000 - precision: 0.9502 - recall: 0.8641 - val_loss: 0.0050 - val_fn: 14.0000 - val_fp: 6.0000 - val_tn: 39798.0000 - val_tp: 55.0000 - val_precision: 0.9016 - val_recall: 0.7971\n",
            "Epoch 211/300\n",
            "78/78 [==============================] - 1s 11ms/step - loss: 0.0016 - fn: 45.0000 - fp: 13.0000 - tn: 159191.0000 - tp: 242.0000 - precision: 0.9490 - recall: 0.8432 - val_loss: 0.0051 - val_fn: 13.0000 - val_fp: 6.0000 - val_tn: 39798.0000 - val_tp: 56.0000 - val_precision: 0.9032 - val_recall: 0.8116\n",
            "Epoch 212/300\n",
            "78/78 [==============================] - 1s 10ms/step - loss: 0.0013 - fn: 42.0000 - fp: 11.0000 - tn: 159193.0000 - tp: 245.0000 - precision: 0.9570 - recall: 0.8537 - val_loss: 0.0050 - val_fn: 13.0000 - val_fp: 7.0000 - val_tn: 39797.0000 - val_tp: 56.0000 - val_precision: 0.8889 - val_recall: 0.8116\n",
            "Epoch 213/300\n",
            "78/78 [==============================] - 1s 11ms/step - loss: 0.0014 - fn: 43.0000 - fp: 14.0000 - tn: 159190.0000 - tp: 244.0000 - precision: 0.9457 - recall: 0.8502 - val_loss: 0.0048 - val_fn: 15.0000 - val_fp: 4.0000 - val_tn: 39800.0000 - val_tp: 54.0000 - val_precision: 0.9310 - val_recall: 0.7826\n",
            "Epoch 214/300\n",
            "78/78 [==============================] - 1s 10ms/step - loss: 0.0014 - fn: 43.0000 - fp: 14.0000 - tn: 159190.0000 - tp: 244.0000 - precision: 0.9457 - recall: 0.8502 - val_loss: 0.0048 - val_fn: 15.0000 - val_fp: 5.0000 - val_tn: 39799.0000 - val_tp: 54.0000 - val_precision: 0.9153 - val_recall: 0.7826\n",
            "Epoch 215/300\n",
            "78/78 [==============================] - 1s 10ms/step - loss: 0.0014 - fn: 44.0000 - fp: 15.0000 - tn: 159189.0000 - tp: 243.0000 - precision: 0.9419 - recall: 0.8467 - val_loss: 0.0050 - val_fn: 13.0000 - val_fp: 8.0000 - val_tn: 39796.0000 - val_tp: 56.0000 - val_precision: 0.8750 - val_recall: 0.8116\n",
            "Epoch 216/300\n",
            "78/78 [==============================] - 1s 11ms/step - loss: 0.0013 - fn: 43.0000 - fp: 8.0000 - tn: 159196.0000 - tp: 244.0000 - precision: 0.9683 - recall: 0.8502 - val_loss: 0.0053 - val_fn: 13.0000 - val_fp: 8.0000 - val_tn: 39796.0000 - val_tp: 56.0000 - val_precision: 0.8750 - val_recall: 0.8116\n",
            "Epoch 217/300\n",
            "78/78 [==============================] - 1s 10ms/step - loss: 0.0014 - fn: 43.0000 - fp: 16.0000 - tn: 159188.0000 - tp: 244.0000 - precision: 0.9385 - recall: 0.8502 - val_loss: 0.0050 - val_fn: 15.0000 - val_fp: 8.0000 - val_tn: 39796.0000 - val_tp: 54.0000 - val_precision: 0.8710 - val_recall: 0.7826\n",
            "Epoch 218/300\n",
            "78/78 [==============================] - 1s 11ms/step - loss: 0.0014 - fn: 42.0000 - fp: 13.0000 - tn: 159191.0000 - tp: 245.0000 - precision: 0.9496 - recall: 0.8537 - val_loss: 0.0052 - val_fn: 14.0000 - val_fp: 8.0000 - val_tn: 39796.0000 - val_tp: 55.0000 - val_precision: 0.8730 - val_recall: 0.7971\n",
            "Epoch 219/300\n",
            "78/78 [==============================] - 1s 10ms/step - loss: 0.0013 - fn: 41.0000 - fp: 12.0000 - tn: 159192.0000 - tp: 246.0000 - precision: 0.9535 - recall: 0.8571 - val_loss: 0.0053 - val_fn: 14.0000 - val_fp: 7.0000 - val_tn: 39797.0000 - val_tp: 55.0000 - val_precision: 0.8871 - val_recall: 0.7971\n",
            "Epoch 220/300\n",
            "78/78 [==============================] - 1s 10ms/step - loss: 0.0014 - fn: 38.0000 - fp: 12.0000 - tn: 159192.0000 - tp: 249.0000 - precision: 0.9540 - recall: 0.8676 - val_loss: 0.0053 - val_fn: 14.0000 - val_fp: 8.0000 - val_tn: 39796.0000 - val_tp: 55.0000 - val_precision: 0.8730 - val_recall: 0.7971\n",
            "Epoch 221/300\n",
            "78/78 [==============================] - 1s 11ms/step - loss: 0.0012 - fn: 39.0000 - fp: 8.0000 - tn: 159196.0000 - tp: 248.0000 - precision: 0.9688 - recall: 0.8641 - val_loss: 0.0051 - val_fn: 15.0000 - val_fp: 7.0000 - val_tn: 39797.0000 - val_tp: 54.0000 - val_precision: 0.8852 - val_recall: 0.7826\n",
            "Epoch 222/300\n",
            "78/78 [==============================] - 1s 10ms/step - loss: 9.9569e-04 - fn: 33.0000 - fp: 6.0000 - tn: 159198.0000 - tp: 254.0000 - precision: 0.9769 - recall: 0.8850 - val_loss: 0.0051 - val_fn: 15.0000 - val_fp: 5.0000 - val_tn: 39799.0000 - val_tp: 54.0000 - val_precision: 0.9153 - val_recall: 0.7826\n",
            "Epoch 223/300\n",
            "78/78 [==============================] - 1s 10ms/step - loss: 0.0013 - fn: 39.0000 - fp: 10.0000 - tn: 159194.0000 - tp: 248.0000 - precision: 0.9612 - recall: 0.8641 - val_loss: 0.0052 - val_fn: 13.0000 - val_fp: 8.0000 - val_tn: 39796.0000 - val_tp: 56.0000 - val_precision: 0.8750 - val_recall: 0.8116\n",
            "Epoch 224/300\n",
            "78/78 [==============================] - 1s 10ms/step - loss: 0.0014 - fn: 39.0000 - fp: 15.0000 - tn: 159189.0000 - tp: 248.0000 - precision: 0.9430 - recall: 0.8641 - val_loss: 0.0052 - val_fn: 13.0000 - val_fp: 7.0000 - val_tn: 39797.0000 - val_tp: 56.0000 - val_precision: 0.8889 - val_recall: 0.8116\n",
            "Epoch 225/300\n",
            "78/78 [==============================] - 1s 11ms/step - loss: 0.0013 - fn: 42.0000 - fp: 14.0000 - tn: 159190.0000 - tp: 245.0000 - precision: 0.9459 - recall: 0.8537 - val_loss: 0.0051 - val_fn: 14.0000 - val_fp: 7.0000 - val_tn: 39797.0000 - val_tp: 55.0000 - val_precision: 0.8871 - val_recall: 0.7971\n",
            "Epoch 226/300\n",
            "78/78 [==============================] - 1s 11ms/step - loss: 0.0014 - fn: 44.0000 - fp: 15.0000 - tn: 159189.0000 - tp: 243.0000 - precision: 0.9419 - recall: 0.8467 - val_loss: 0.0055 - val_fn: 13.0000 - val_fp: 6.0000 - val_tn: 39798.0000 - val_tp: 56.0000 - val_precision: 0.9032 - val_recall: 0.8116\n",
            "Epoch 227/300\n",
            "78/78 [==============================] - 1s 11ms/step - loss: 0.0013 - fn: 43.0000 - fp: 8.0000 - tn: 159196.0000 - tp: 244.0000 - precision: 0.9683 - recall: 0.8502 - val_loss: 0.0056 - val_fn: 13.0000 - val_fp: 6.0000 - val_tn: 39798.0000 - val_tp: 56.0000 - val_precision: 0.9032 - val_recall: 0.8116\n",
            "Epoch 228/300\n",
            "78/78 [==============================] - 1s 10ms/step - loss: 0.0015 - fn: 43.0000 - fp: 18.0000 - tn: 159186.0000 - tp: 244.0000 - precision: 0.9313 - recall: 0.8502 - val_loss: 0.0056 - val_fn: 13.0000 - val_fp: 8.0000 - val_tn: 39796.0000 - val_tp: 56.0000 - val_precision: 0.8750 - val_recall: 0.8116\n",
            "Epoch 229/300\n",
            "78/78 [==============================] - 1s 11ms/step - loss: 0.0012 - fn: 42.0000 - fp: 11.0000 - tn: 159193.0000 - tp: 245.0000 - precision: 0.9570 - recall: 0.8537 - val_loss: 0.0056 - val_fn: 13.0000 - val_fp: 7.0000 - val_tn: 39797.0000 - val_tp: 56.0000 - val_precision: 0.8889 - val_recall: 0.8116\n",
            "Epoch 230/300\n",
            "78/78 [==============================] - 1s 10ms/step - loss: 0.0013 - fn: 40.0000 - fp: 11.0000 - tn: 159193.0000 - tp: 247.0000 - precision: 0.9574 - recall: 0.8606 - val_loss: 0.0058 - val_fn: 13.0000 - val_fp: 8.0000 - val_tn: 39796.0000 - val_tp: 56.0000 - val_precision: 0.8750 - val_recall: 0.8116\n",
            "Epoch 231/300\n",
            "78/78 [==============================] - 1s 11ms/step - loss: 0.0013 - fn: 36.0000 - fp: 16.0000 - tn: 159188.0000 - tp: 251.0000 - precision: 0.9401 - recall: 0.8746 - val_loss: 0.0055 - val_fn: 14.0000 - val_fp: 5.0000 - val_tn: 39799.0000 - val_tp: 55.0000 - val_precision: 0.9167 - val_recall: 0.7971\n",
            "Epoch 232/300\n",
            "78/78 [==============================] - 1s 11ms/step - loss: 0.0010 - fn: 38.0000 - fp: 10.0000 - tn: 159194.0000 - tp: 249.0000 - precision: 0.9614 - recall: 0.8676 - val_loss: 0.0056 - val_fn: 15.0000 - val_fp: 8.0000 - val_tn: 39796.0000 - val_tp: 54.0000 - val_precision: 0.8710 - val_recall: 0.7826\n",
            "Epoch 233/300\n",
            "78/78 [==============================] - 1s 11ms/step - loss: 0.0013 - fn: 47.0000 - fp: 14.0000 - tn: 159190.0000 - tp: 240.0000 - precision: 0.9449 - recall: 0.8362 - val_loss: 0.0055 - val_fn: 13.0000 - val_fp: 6.0000 - val_tn: 39798.0000 - val_tp: 56.0000 - val_precision: 0.9032 - val_recall: 0.8116\n",
            "Epoch 234/300\n",
            "78/78 [==============================] - 1s 11ms/step - loss: 0.0012 - fn: 41.0000 - fp: 11.0000 - tn: 159193.0000 - tp: 246.0000 - precision: 0.9572 - recall: 0.8571 - val_loss: 0.0056 - val_fn: 13.0000 - val_fp: 7.0000 - val_tn: 39797.0000 - val_tp: 56.0000 - val_precision: 0.8889 - val_recall: 0.8116\n",
            "Epoch 235/300\n",
            "78/78 [==============================] - 1s 11ms/step - loss: 0.0013 - fn: 40.0000 - fp: 14.0000 - tn: 159190.0000 - tp: 247.0000 - precision: 0.9464 - recall: 0.8606 - val_loss: 0.0057 - val_fn: 14.0000 - val_fp: 8.0000 - val_tn: 39796.0000 - val_tp: 55.0000 - val_precision: 0.8730 - val_recall: 0.7971\n",
            "Epoch 236/300\n",
            "78/78 [==============================] - 1s 10ms/step - loss: 0.0013 - fn: 41.0000 - fp: 14.0000 - tn: 159190.0000 - tp: 246.0000 - precision: 0.9462 - recall: 0.8571 - val_loss: 0.0054 - val_fn: 15.0000 - val_fp: 6.0000 - val_tn: 39798.0000 - val_tp: 54.0000 - val_precision: 0.9000 - val_recall: 0.7826\n",
            "Epoch 237/300\n",
            "78/78 [==============================] - 1s 11ms/step - loss: 0.0012 - fn: 39.0000 - fp: 12.0000 - tn: 159192.0000 - tp: 248.0000 - precision: 0.9538 - recall: 0.8641 - val_loss: 0.0054 - val_fn: 14.0000 - val_fp: 6.0000 - val_tn: 39798.0000 - val_tp: 55.0000 - val_precision: 0.9016 - val_recall: 0.7971\n",
            "Epoch 238/300\n",
            "78/78 [==============================] - 1s 11ms/step - loss: 0.0012 - fn: 39.0000 - fp: 11.0000 - tn: 159193.0000 - tp: 248.0000 - precision: 0.9575 - recall: 0.8641 - val_loss: 0.0055 - val_fn: 13.0000 - val_fp: 8.0000 - val_tn: 39796.0000 - val_tp: 56.0000 - val_precision: 0.8750 - val_recall: 0.8116\n",
            "Epoch 239/300\n",
            "78/78 [==============================] - 1s 11ms/step - loss: 0.0013 - fn: 38.0000 - fp: 12.0000 - tn: 159192.0000 - tp: 249.0000 - precision: 0.9540 - recall: 0.8676 - val_loss: 0.0054 - val_fn: 13.0000 - val_fp: 8.0000 - val_tn: 39796.0000 - val_tp: 56.0000 - val_precision: 0.8750 - val_recall: 0.8116\n",
            "Epoch 240/300\n",
            "78/78 [==============================] - 1s 10ms/step - loss: 0.0012 - fn: 39.0000 - fp: 11.0000 - tn: 159193.0000 - tp: 248.0000 - precision: 0.9575 - recall: 0.8641 - val_loss: 0.0056 - val_fn: 14.0000 - val_fp: 7.0000 - val_tn: 39797.0000 - val_tp: 55.0000 - val_precision: 0.8871 - val_recall: 0.7971\n",
            "Epoch 241/300\n",
            "78/78 [==============================] - 1s 11ms/step - loss: 0.0012 - fn: 33.0000 - fp: 13.0000 - tn: 159191.0000 - tp: 254.0000 - precision: 0.9513 - recall: 0.8850 - val_loss: 0.0056 - val_fn: 15.0000 - val_fp: 7.0000 - val_tn: 39797.0000 - val_tp: 54.0000 - val_precision: 0.8852 - val_recall: 0.7826\n",
            "Epoch 242/300\n",
            "78/78 [==============================] - 1s 11ms/step - loss: 0.0011 - fn: 37.0000 - fp: 10.0000 - tn: 159194.0000 - tp: 250.0000 - precision: 0.9615 - recall: 0.8711 - val_loss: 0.0056 - val_fn: 15.0000 - val_fp: 7.0000 - val_tn: 39797.0000 - val_tp: 54.0000 - val_precision: 0.8852 - val_recall: 0.7826\n",
            "Epoch 243/300\n",
            "78/78 [==============================] - 1s 11ms/step - loss: 0.0011 - fn: 38.0000 - fp: 10.0000 - tn: 159194.0000 - tp: 249.0000 - precision: 0.9614 - recall: 0.8676 - val_loss: 0.0055 - val_fn: 14.0000 - val_fp: 5.0000 - val_tn: 39799.0000 - val_tp: 55.0000 - val_precision: 0.9167 - val_recall: 0.7971\n",
            "Epoch 244/300\n",
            "78/78 [==============================] - 1s 11ms/step - loss: 0.0011 - fn: 38.0000 - fp: 10.0000 - tn: 159194.0000 - tp: 249.0000 - precision: 0.9614 - recall: 0.8676 - val_loss: 0.0054 - val_fn: 14.0000 - val_fp: 7.0000 - val_tn: 39797.0000 - val_tp: 55.0000 - val_precision: 0.8871 - val_recall: 0.7971\n",
            "Epoch 245/300\n",
            "78/78 [==============================] - 1s 11ms/step - loss: 9.2155e-04 - fn: 30.0000 - fp: 7.0000 - tn: 159197.0000 - tp: 257.0000 - precision: 0.9735 - recall: 0.8955 - val_loss: 0.0054 - val_fn: 14.0000 - val_fp: 6.0000 - val_tn: 39798.0000 - val_tp: 55.0000 - val_precision: 0.9016 - val_recall: 0.7971\n",
            "Epoch 246/300\n",
            "78/78 [==============================] - 1s 11ms/step - loss: 0.0011 - fn: 34.0000 - fp: 12.0000 - tn: 159192.0000 - tp: 253.0000 - precision: 0.9547 - recall: 0.8815 - val_loss: 0.0056 - val_fn: 13.0000 - val_fp: 8.0000 - val_tn: 39796.0000 - val_tp: 56.0000 - val_precision: 0.8750 - val_recall: 0.8116\n",
            "Epoch 247/300\n",
            "78/78 [==============================] - 1s 11ms/step - loss: 0.0010 - fn: 34.0000 - fp: 10.0000 - tn: 159194.0000 - tp: 253.0000 - precision: 0.9620 - recall: 0.8815 - val_loss: 0.0054 - val_fn: 14.0000 - val_fp: 6.0000 - val_tn: 39798.0000 - val_tp: 55.0000 - val_precision: 0.9016 - val_recall: 0.7971\n",
            "Epoch 248/300\n",
            "78/78 [==============================] - 1s 11ms/step - loss: 0.0013 - fn: 39.0000 - fp: 12.0000 - tn: 159192.0000 - tp: 248.0000 - precision: 0.9538 - recall: 0.8641 - val_loss: 0.0055 - val_fn: 14.0000 - val_fp: 8.0000 - val_tn: 39796.0000 - val_tp: 55.0000 - val_precision: 0.8730 - val_recall: 0.7971\n",
            "Epoch 249/300\n",
            "78/78 [==============================] - 1s 11ms/step - loss: 0.0012 - fn: 33.0000 - fp: 11.0000 - tn: 159193.0000 - tp: 254.0000 - precision: 0.9585 - recall: 0.8850 - val_loss: 0.0055 - val_fn: 14.0000 - val_fp: 6.0000 - val_tn: 39798.0000 - val_tp: 55.0000 - val_precision: 0.9016 - val_recall: 0.7971\n",
            "Epoch 250/300\n",
            "78/78 [==============================] - 1s 11ms/step - loss: 0.0011 - fn: 35.0000 - fp: 11.0000 - tn: 159193.0000 - tp: 252.0000 - precision: 0.9582 - recall: 0.8780 - val_loss: 0.0055 - val_fn: 14.0000 - val_fp: 6.0000 - val_tn: 39798.0000 - val_tp: 55.0000 - val_precision: 0.9016 - val_recall: 0.7971\n",
            "Epoch 251/300\n",
            "78/78 [==============================] - 1s 11ms/step - loss: 0.0011 - fn: 37.0000 - fp: 10.0000 - tn: 159194.0000 - tp: 250.0000 - precision: 0.9615 - recall: 0.8711 - val_loss: 0.0055 - val_fn: 13.0000 - val_fp: 6.0000 - val_tn: 39798.0000 - val_tp: 56.0000 - val_precision: 0.9032 - val_recall: 0.8116\n",
            "Epoch 252/300\n",
            "78/78 [==============================] - 1s 11ms/step - loss: 0.0012 - fn: 34.0000 - fp: 13.0000 - tn: 159191.0000 - tp: 253.0000 - precision: 0.9511 - recall: 0.8815 - val_loss: 0.0055 - val_fn: 14.0000 - val_fp: 5.0000 - val_tn: 39799.0000 - val_tp: 55.0000 - val_precision: 0.9167 - val_recall: 0.7971\n",
            "Epoch 253/300\n",
            "78/78 [==============================] - 1s 11ms/step - loss: 0.0012 - fn: 37.0000 - fp: 10.0000 - tn: 159194.0000 - tp: 250.0000 - precision: 0.9615 - recall: 0.8711 - val_loss: 0.0055 - val_fn: 14.0000 - val_fp: 6.0000 - val_tn: 39798.0000 - val_tp: 55.0000 - val_precision: 0.9016 - val_recall: 0.7971\n",
            "Epoch 254/300\n",
            "78/78 [==============================] - 1s 11ms/step - loss: 0.0011 - fn: 33.0000 - fp: 13.0000 - tn: 159191.0000 - tp: 254.0000 - precision: 0.9513 - recall: 0.8850 - val_loss: 0.0055 - val_fn: 14.0000 - val_fp: 4.0000 - val_tn: 39800.0000 - val_tp: 55.0000 - val_precision: 0.9322 - val_recall: 0.7971\n",
            "Epoch 255/300\n",
            "78/78 [==============================] - 1s 11ms/step - loss: 0.0010 - fn: 30.0000 - fp: 13.0000 - tn: 159191.0000 - tp: 257.0000 - precision: 0.9519 - recall: 0.8955 - val_loss: 0.0056 - val_fn: 14.0000 - val_fp: 6.0000 - val_tn: 39798.0000 - val_tp: 55.0000 - val_precision: 0.9016 - val_recall: 0.7971\n",
            "Epoch 256/300\n",
            "78/78 [==============================] - 1s 11ms/step - loss: 0.0011 - fn: 39.0000 - fp: 10.0000 - tn: 159194.0000 - tp: 248.0000 - precision: 0.9612 - recall: 0.8641 - val_loss: 0.0056 - val_fn: 13.0000 - val_fp: 8.0000 - val_tn: 39796.0000 - val_tp: 56.0000 - val_precision: 0.8750 - val_recall: 0.8116\n",
            "Epoch 257/300\n",
            "78/78 [==============================] - 1s 11ms/step - loss: 0.0011 - fn: 35.0000 - fp: 14.0000 - tn: 159190.0000 - tp: 252.0000 - precision: 0.9474 - recall: 0.8780 - val_loss: 0.0054 - val_fn: 13.0000 - val_fp: 4.0000 - val_tn: 39800.0000 - val_tp: 56.0000 - val_precision: 0.9333 - val_recall: 0.8116\n",
            "Epoch 258/300\n",
            "78/78 [==============================] - 1s 11ms/step - loss: 9.2150e-04 - fn: 29.0000 - fp: 12.0000 - tn: 159192.0000 - tp: 258.0000 - precision: 0.9556 - recall: 0.8990 - val_loss: 0.0056 - val_fn: 13.0000 - val_fp: 5.0000 - val_tn: 39799.0000 - val_tp: 56.0000 - val_precision: 0.9180 - val_recall: 0.8116\n",
            "Epoch 259/300\n",
            "78/78 [==============================] - 1s 11ms/step - loss: 0.0012 - fn: 42.0000 - fp: 13.0000 - tn: 159191.0000 - tp: 245.0000 - precision: 0.9496 - recall: 0.8537 - val_loss: 0.0055 - val_fn: 14.0000 - val_fp: 4.0000 - val_tn: 39800.0000 - val_tp: 55.0000 - val_precision: 0.9322 - val_recall: 0.7971\n",
            "Epoch 260/300\n",
            "78/78 [==============================] - 1s 11ms/step - loss: 9.4025e-04 - fn: 32.0000 - fp: 13.0000 - tn: 159191.0000 - tp: 255.0000 - precision: 0.9515 - recall: 0.8885 - val_loss: 0.0054 - val_fn: 14.0000 - val_fp: 4.0000 - val_tn: 39800.0000 - val_tp: 55.0000 - val_precision: 0.9322 - val_recall: 0.7971\n",
            "Epoch 261/300\n",
            "78/78 [==============================] - 1s 11ms/step - loss: 0.0010 - fn: 35.0000 - fp: 10.0000 - tn: 159194.0000 - tp: 252.0000 - precision: 0.9618 - recall: 0.8780 - val_loss: 0.0055 - val_fn: 13.0000 - val_fp: 8.0000 - val_tn: 39796.0000 - val_tp: 56.0000 - val_precision: 0.8750 - val_recall: 0.8116\n",
            "Epoch 262/300\n",
            "78/78 [==============================] - 1s 11ms/step - loss: 0.0011 - fn: 36.0000 - fp: 17.0000 - tn: 159187.0000 - tp: 251.0000 - precision: 0.9366 - recall: 0.8746 - val_loss: 0.0054 - val_fn: 13.0000 - val_fp: 4.0000 - val_tn: 39800.0000 - val_tp: 56.0000 - val_precision: 0.9333 - val_recall: 0.8116\n",
            "Epoch 263/300\n",
            "78/78 [==============================] - 1s 11ms/step - loss: 8.9837e-04 - fn: 32.0000 - fp: 11.0000 - tn: 159193.0000 - tp: 255.0000 - precision: 0.9586 - recall: 0.8885 - val_loss: 0.0053 - val_fn: 14.0000 - val_fp: 4.0000 - val_tn: 39800.0000 - val_tp: 55.0000 - val_precision: 0.9322 - val_recall: 0.7971\n",
            "Epoch 264/300\n",
            "78/78 [==============================] - 1s 11ms/step - loss: 9.6420e-04 - fn: 34.0000 - fp: 8.0000 - tn: 159196.0000 - tp: 253.0000 - precision: 0.9693 - recall: 0.8815 - val_loss: 0.0054 - val_fn: 13.0000 - val_fp: 5.0000 - val_tn: 39799.0000 - val_tp: 56.0000 - val_precision: 0.9180 - val_recall: 0.8116\n",
            "Epoch 265/300\n",
            "78/78 [==============================] - 1s 11ms/step - loss: 0.0011 - fn: 32.0000 - fp: 15.0000 - tn: 159189.0000 - tp: 255.0000 - precision: 0.9444 - recall: 0.8885 - val_loss: 0.0054 - val_fn: 13.0000 - val_fp: 4.0000 - val_tn: 39800.0000 - val_tp: 56.0000 - val_precision: 0.9333 - val_recall: 0.8116\n",
            "Epoch 266/300\n",
            "78/78 [==============================] - 1s 11ms/step - loss: 9.8926e-04 - fn: 34.0000 - fp: 12.0000 - tn: 159192.0000 - tp: 253.0000 - precision: 0.9547 - recall: 0.8815 - val_loss: 0.0054 - val_fn: 13.0000 - val_fp: 5.0000 - val_tn: 39799.0000 - val_tp: 56.0000 - val_precision: 0.9180 - val_recall: 0.8116\n",
            "Epoch 267/300\n",
            "78/78 [==============================] - 1s 11ms/step - loss: 9.5010e-04 - fn: 33.0000 - fp: 7.0000 - tn: 159197.0000 - tp: 254.0000 - precision: 0.9732 - recall: 0.8850 - val_loss: 0.0053 - val_fn: 14.0000 - val_fp: 4.0000 - val_tn: 39800.0000 - val_tp: 55.0000 - val_precision: 0.9322 - val_recall: 0.7971\n",
            "Epoch 268/300\n",
            "78/78 [==============================] - 1s 11ms/step - loss: 9.3409e-04 - fn: 34.0000 - fp: 12.0000 - tn: 159192.0000 - tp: 253.0000 - precision: 0.9547 - recall: 0.8815 - val_loss: 0.0055 - val_fn: 13.0000 - val_fp: 4.0000 - val_tn: 39800.0000 - val_tp: 56.0000 - val_precision: 0.9333 - val_recall: 0.8116\n",
            "Epoch 269/300\n",
            "78/78 [==============================] - 1s 11ms/step - loss: 9.2616e-04 - fn: 33.0000 - fp: 11.0000 - tn: 159193.0000 - tp: 254.0000 - precision: 0.9585 - recall: 0.8850 - val_loss: 0.0056 - val_fn: 13.0000 - val_fp: 6.0000 - val_tn: 39798.0000 - val_tp: 56.0000 - val_precision: 0.9032 - val_recall: 0.8116\n",
            "Epoch 270/300\n",
            "78/78 [==============================] - 1s 11ms/step - loss: 9.5004e-04 - fn: 37.0000 - fp: 10.0000 - tn: 159194.0000 - tp: 250.0000 - precision: 0.9615 - recall: 0.8711 - val_loss: 0.0057 - val_fn: 13.0000 - val_fp: 7.0000 - val_tn: 39797.0000 - val_tp: 56.0000 - val_precision: 0.8889 - val_recall: 0.8116\n",
            "Epoch 271/300\n",
            "78/78 [==============================] - 1s 11ms/step - loss: 9.9158e-04 - fn: 37.0000 - fp: 12.0000 - tn: 159192.0000 - tp: 250.0000 - precision: 0.9542 - recall: 0.8711 - val_loss: 0.0056 - val_fn: 13.0000 - val_fp: 5.0000 - val_tn: 39799.0000 - val_tp: 56.0000 - val_precision: 0.9180 - val_recall: 0.8116\n",
            "Epoch 272/300\n",
            "78/78 [==============================] - 1s 11ms/step - loss: 9.3260e-04 - fn: 30.0000 - fp: 12.0000 - tn: 159192.0000 - tp: 257.0000 - precision: 0.9554 - recall: 0.8955 - val_loss: 0.0058 - val_fn: 13.0000 - val_fp: 6.0000 - val_tn: 39798.0000 - val_tp: 56.0000 - val_precision: 0.9032 - val_recall: 0.8116\n",
            "Epoch 273/300\n",
            "78/78 [==============================] - 1s 11ms/step - loss: 8.5055e-04 - fn: 31.0000 - fp: 9.0000 - tn: 159195.0000 - tp: 256.0000 - precision: 0.9660 - recall: 0.8920 - val_loss: 0.0058 - val_fn: 14.0000 - val_fp: 4.0000 - val_tn: 39800.0000 - val_tp: 55.0000 - val_precision: 0.9322 - val_recall: 0.7971\n",
            "Epoch 274/300\n",
            "78/78 [==============================] - 1s 11ms/step - loss: 9.8087e-04 - fn: 35.0000 - fp: 7.0000 - tn: 159197.0000 - tp: 252.0000 - precision: 0.9730 - recall: 0.8780 - val_loss: 0.0058 - val_fn: 13.0000 - val_fp: 7.0000 - val_tn: 39797.0000 - val_tp: 56.0000 - val_precision: 0.8889 - val_recall: 0.8116\n",
            "Epoch 275/300\n",
            "78/78 [==============================] - 1s 11ms/step - loss: 8.4167e-04 - fn: 28.0000 - fp: 3.0000 - tn: 159201.0000 - tp: 259.0000 - precision: 0.9885 - recall: 0.9024 - val_loss: 0.0060 - val_fn: 13.0000 - val_fp: 8.0000 - val_tn: 39796.0000 - val_tp: 56.0000 - val_precision: 0.8750 - val_recall: 0.8116\n",
            "Epoch 276/300\n",
            "78/78 [==============================] - 1s 11ms/step - loss: 9.5705e-04 - fn: 29.0000 - fp: 11.0000 - tn: 159193.0000 - tp: 258.0000 - precision: 0.9591 - recall: 0.8990 - val_loss: 0.0060 - val_fn: 13.0000 - val_fp: 7.0000 - val_tn: 39797.0000 - val_tp: 56.0000 - val_precision: 0.8889 - val_recall: 0.8116\n",
            "Epoch 277/300\n",
            "78/78 [==============================] - 1s 11ms/step - loss: 9.5363e-04 - fn: 33.0000 - fp: 8.0000 - tn: 159196.0000 - tp: 254.0000 - precision: 0.9695 - recall: 0.8850 - val_loss: 0.0059 - val_fn: 13.0000 - val_fp: 5.0000 - val_tn: 39799.0000 - val_tp: 56.0000 - val_precision: 0.9180 - val_recall: 0.8116\n",
            "Epoch 278/300\n",
            "78/78 [==============================] - 1s 11ms/step - loss: 0.0012 - fn: 41.0000 - fp: 14.0000 - tn: 159190.0000 - tp: 246.0000 - precision: 0.9462 - recall: 0.8571 - val_loss: 0.0060 - val_fn: 13.0000 - val_fp: 8.0000 - val_tn: 39796.0000 - val_tp: 56.0000 - val_precision: 0.8750 - val_recall: 0.8116\n",
            "Epoch 279/300\n",
            "78/78 [==============================] - 1s 11ms/step - loss: 8.8996e-04 - fn: 29.0000 - fp: 14.0000 - tn: 159190.0000 - tp: 258.0000 - precision: 0.9485 - recall: 0.8990 - val_loss: 0.0060 - val_fn: 14.0000 - val_fp: 6.0000 - val_tn: 39798.0000 - val_tp: 55.0000 - val_precision: 0.9016 - val_recall: 0.7971\n",
            "Epoch 280/300\n",
            "78/78 [==============================] - 1s 11ms/step - loss: 8.4842e-04 - fn: 30.0000 - fp: 7.0000 - tn: 159197.0000 - tp: 257.0000 - precision: 0.9735 - recall: 0.8955 - val_loss: 0.0059 - val_fn: 14.0000 - val_fp: 5.0000 - val_tn: 39799.0000 - val_tp: 55.0000 - val_precision: 0.9167 - val_recall: 0.7971\n",
            "Epoch 281/300\n",
            "78/78 [==============================] - 1s 11ms/step - loss: 8.7213e-04 - fn: 34.0000 - fp: 9.0000 - tn: 159195.0000 - tp: 253.0000 - precision: 0.9656 - recall: 0.8815 - val_loss: 0.0060 - val_fn: 13.0000 - val_fp: 6.0000 - val_tn: 39798.0000 - val_tp: 56.0000 - val_precision: 0.9032 - val_recall: 0.8116\n",
            "Epoch 282/300\n",
            "78/78 [==============================] - 1s 11ms/step - loss: 9.0853e-04 - fn: 25.0000 - fp: 13.0000 - tn: 159191.0000 - tp: 262.0000 - precision: 0.9527 - recall: 0.9129 - val_loss: 0.0058 - val_fn: 14.0000 - val_fp: 4.0000 - val_tn: 39800.0000 - val_tp: 55.0000 - val_precision: 0.9322 - val_recall: 0.7971\n",
            "Epoch 283/300\n",
            "78/78 [==============================] - 1s 11ms/step - loss: 8.2565e-04 - fn: 27.0000 - fp: 7.0000 - tn: 159197.0000 - tp: 260.0000 - precision: 0.9738 - recall: 0.9059 - val_loss: 0.0059 - val_fn: 13.0000 - val_fp: 4.0000 - val_tn: 39800.0000 - val_tp: 56.0000 - val_precision: 0.9333 - val_recall: 0.8116\n",
            "Epoch 284/300\n",
            "78/78 [==============================] - 1s 11ms/step - loss: 9.7632e-04 - fn: 26.0000 - fp: 8.0000 - tn: 159196.0000 - tp: 261.0000 - precision: 0.9703 - recall: 0.9094 - val_loss: 0.0061 - val_fn: 14.0000 - val_fp: 7.0000 - val_tn: 39797.0000 - val_tp: 55.0000 - val_precision: 0.8871 - val_recall: 0.7971\n",
            "Epoch 285/300\n",
            "78/78 [==============================] - 1s 11ms/step - loss: 9.2286e-04 - fn: 31.0000 - fp: 13.0000 - tn: 159191.0000 - tp: 256.0000 - precision: 0.9517 - recall: 0.8920 - val_loss: 0.0060 - val_fn: 13.0000 - val_fp: 7.0000 - val_tn: 39797.0000 - val_tp: 56.0000 - val_precision: 0.8889 - val_recall: 0.8116\n",
            "Epoch 286/300\n",
            "78/78 [==============================] - 1s 11ms/step - loss: 8.4810e-04 - fn: 27.0000 - fp: 11.0000 - tn: 159193.0000 - tp: 260.0000 - precision: 0.9594 - recall: 0.9059 - val_loss: 0.0059 - val_fn: 13.0000 - val_fp: 5.0000 - val_tn: 39799.0000 - val_tp: 56.0000 - val_precision: 0.9180 - val_recall: 0.8116\n",
            "Epoch 287/300\n",
            "78/78 [==============================] - 1s 11ms/step - loss: 9.0972e-04 - fn: 34.0000 - fp: 10.0000 - tn: 159194.0000 - tp: 253.0000 - precision: 0.9620 - recall: 0.8815 - val_loss: 0.0059 - val_fn: 13.0000 - val_fp: 4.0000 - val_tn: 39800.0000 - val_tp: 56.0000 - val_precision: 0.9333 - val_recall: 0.8116\n",
            "Epoch 288/300\n",
            "78/78 [==============================] - 1s 11ms/step - loss: 8.6177e-04 - fn: 26.0000 - fp: 11.0000 - tn: 159193.0000 - tp: 261.0000 - precision: 0.9596 - recall: 0.9094 - val_loss: 0.0059 - val_fn: 15.0000 - val_fp: 4.0000 - val_tn: 39800.0000 - val_tp: 54.0000 - val_precision: 0.9310 - val_recall: 0.7826\n",
            "Epoch 289/300\n",
            "78/78 [==============================] - 1s 11ms/step - loss: 8.1528e-04 - fn: 33.0000 - fp: 6.0000 - tn: 159198.0000 - tp: 254.0000 - precision: 0.9769 - recall: 0.8850 - val_loss: 0.0059 - val_fn: 13.0000 - val_fp: 5.0000 - val_tn: 39799.0000 - val_tp: 56.0000 - val_precision: 0.9180 - val_recall: 0.8116\n",
            "Epoch 290/300\n",
            "78/78 [==============================] - 1s 11ms/step - loss: 0.0010 - fn: 31.0000 - fp: 6.0000 - tn: 159198.0000 - tp: 256.0000 - precision: 0.9771 - recall: 0.8920 - val_loss: 0.0059 - val_fn: 13.0000 - val_fp: 6.0000 - val_tn: 39798.0000 - val_tp: 56.0000 - val_precision: 0.9032 - val_recall: 0.8116\n",
            "Epoch 291/300\n",
            "78/78 [==============================] - 1s 11ms/step - loss: 7.7245e-04 - fn: 27.0000 - fp: 14.0000 - tn: 159190.0000 - tp: 260.0000 - precision: 0.9489 - recall: 0.9059 - val_loss: 0.0058 - val_fn: 13.0000 - val_fp: 4.0000 - val_tn: 39800.0000 - val_tp: 56.0000 - val_precision: 0.9333 - val_recall: 0.8116\n",
            "Epoch 292/300\n",
            "78/78 [==============================] - 1s 11ms/step - loss: 8.5552e-04 - fn: 35.0000 - fp: 10.0000 - tn: 159194.0000 - tp: 252.0000 - precision: 0.9618 - recall: 0.8780 - val_loss: 0.0059 - val_fn: 13.0000 - val_fp: 5.0000 - val_tn: 39799.0000 - val_tp: 56.0000 - val_precision: 0.9180 - val_recall: 0.8116\n",
            "Epoch 293/300\n",
            "78/78 [==============================] - 1s 11ms/step - loss: 8.4143e-04 - fn: 28.0000 - fp: 6.0000 - tn: 159198.0000 - tp: 259.0000 - precision: 0.9774 - recall: 0.9024 - val_loss: 0.0059 - val_fn: 13.0000 - val_fp: 5.0000 - val_tn: 39799.0000 - val_tp: 56.0000 - val_precision: 0.9180 - val_recall: 0.8116\n",
            "Epoch 294/300\n",
            "78/78 [==============================] - 1s 11ms/step - loss: 8.1411e-04 - fn: 26.0000 - fp: 7.0000 - tn: 159197.0000 - tp: 261.0000 - precision: 0.9739 - recall: 0.9094 - val_loss: 0.0059 - val_fn: 13.0000 - val_fp: 6.0000 - val_tn: 39798.0000 - val_tp: 56.0000 - val_precision: 0.9032 - val_recall: 0.8116\n",
            "Epoch 295/300\n",
            "78/78 [==============================] - 1s 11ms/step - loss: 8.1766e-04 - fn: 32.0000 - fp: 13.0000 - tn: 159191.0000 - tp: 255.0000 - precision: 0.9515 - recall: 0.8885 - val_loss: 0.0060 - val_fn: 13.0000 - val_fp: 7.0000 - val_tn: 39797.0000 - val_tp: 56.0000 - val_precision: 0.8889 - val_recall: 0.8116\n",
            "Epoch 296/300\n",
            "78/78 [==============================] - 1s 11ms/step - loss: 8.7342e-04 - fn: 26.0000 - fp: 7.0000 - tn: 159197.0000 - tp: 261.0000 - precision: 0.9739 - recall: 0.9094 - val_loss: 0.0059 - val_fn: 13.0000 - val_fp: 6.0000 - val_tn: 39798.0000 - val_tp: 56.0000 - val_precision: 0.9032 - val_recall: 0.8116\n",
            "Epoch 297/300\n",
            "78/78 [==============================] - 1s 11ms/step - loss: 6.9288e-04 - fn: 24.0000 - fp: 7.0000 - tn: 159197.0000 - tp: 263.0000 - precision: 0.9741 - recall: 0.9164 - val_loss: 0.0059 - val_fn: 13.0000 - val_fp: 5.0000 - val_tn: 39799.0000 - val_tp: 56.0000 - val_precision: 0.9180 - val_recall: 0.8116\n",
            "Epoch 298/300\n",
            "78/78 [==============================] - 1s 11ms/step - loss: 7.6354e-04 - fn: 30.0000 - fp: 10.0000 - tn: 159194.0000 - tp: 257.0000 - precision: 0.9625 - recall: 0.8955 - val_loss: 0.0060 - val_fn: 13.0000 - val_fp: 6.0000 - val_tn: 39798.0000 - val_tp: 56.0000 - val_precision: 0.9032 - val_recall: 0.8116\n",
            "Epoch 299/300\n",
            "78/78 [==============================] - 1s 11ms/step - loss: 7.9726e-04 - fn: 29.0000 - fp: 8.0000 - tn: 159196.0000 - tp: 258.0000 - precision: 0.9699 - recall: 0.8990 - val_loss: 0.0060 - val_fn: 13.0000 - val_fp: 6.0000 - val_tn: 39798.0000 - val_tp: 56.0000 - val_precision: 0.9032 - val_recall: 0.8116\n",
            "Epoch 300/300\n",
            "78/78 [==============================] - 1s 11ms/step - loss: 7.8075e-04 - fn: 24.0000 - fp: 7.0000 - tn: 159197.0000 - tp: 263.0000 - precision: 0.9741 - recall: 0.9164 - val_loss: 0.0058 - val_fn: 13.0000 - val_fp: 5.0000 - val_tn: 39799.0000 - val_tp: 56.0000 - val_precision: 0.9180 - val_recall: 0.8116\n"
          ]
        }
      ],
      "source": [
        "METRICS = [\n",
        "#     keras.metrics.Accuracy(name='accuracy'),\n",
        "    keras.metrics.FalseNegatives(name='fn'),\n",
        "    keras.metrics.FalsePositives(name='fp'),\n",
        "    keras.metrics.TrueNegatives(name='tn'),\n",
        "    keras.metrics.TruePositives(name='tp'),\n",
        "    keras.metrics.Precision(name='precision'),\n",
        "    keras.metrics.Recall(name='recall')\n",
        "]\n",
        "\n",
        "model.compile(optimizer=keras.optimizers.Adam(1e-4), loss='binary_crossentropy', metrics=METRICS)\n",
        "\n",
        "callbacks = [keras.callbacks.ModelCheckpoint('fraud_model_at_epoch_{epoch}.h5')]\n",
        "class_weight = {0:w_p, 1:w_n}\n",
        "\n",
        "r = model.fit(\n",
        "    X_train, y_train, \n",
        "    validation_data=(X_validate, y_validate),\n",
        "    batch_size=2048, \n",
        "    epochs=300, \n",
        "#     class_weight=class_weight,\n",
        "    callbacks=callbacks,\n",
        ")"
      ]
    },
    {
      "cell_type": "code",
      "execution_count": null,
      "metadata": {
        "colab": {
          "base_uri": "https://localhost:8080/"
        },
        "id": "k9_7APZZqyj8",
        "outputId": "c6a184d1-1aa0-494d-a7f5-522cad386cf2"
      },
      "outputs": [
        {
          "output_type": "stream",
          "name": "stdout",
          "text": [
            "2671/2671 [==============================] - 11s 4ms/step - loss: 0.0035 - fn: 27.0000 - fp: 9.0000 - tn: 85298.0000 - tp: 109.0000 - precision: 0.9237 - recall: 0.8015\n",
            "[0.003522491082549095, 27.0, 9.0, 85298.0, 109.0, 0.9237288236618042, 0.8014705777168274]\n"
          ]
        }
      ],
      "source": [
        "score = model.evaluate(X_test, y_test)\n",
        "print(score)"
      ]
    },
    {
      "cell_type": "code",
      "execution_count": null,
      "metadata": {
        "colab": {
          "base_uri": "https://localhost:8080/",
          "height": 499
        },
        "id": "VtysBvjQzlHi",
        "outputId": "7304faf0-4f89-4b5f-b5f6-9836a504d686"
      },
      "outputs": [
        {
          "output_type": "execute_result",
          "data": {
            "text/plain": [
              "<matplotlib.legend.Legend at 0x7f49f2f51ed0>"
            ]
          },
          "metadata": {},
          "execution_count": 92
        },
        {
          "output_type": "display_data",
          "data": {
            "text/plain": [
              "<Figure size 864x1152 with 4 Axes>"
            ],
            "image/png": "[encoded data removed]"
          },
          "metadata": {
            "needs_background": "light"
          }
        }
      ],
      "source": [
        "plt.figure(figsize=(12, 16))\n",
        "\n",
        "plt.subplot(4, 2, 1)\n",
        "plt.plot(r.history['loss'], label='Loss')\n",
        "plt.plot(r.history['val_loss'], label='val_Loss')\n",
        "plt.title('Loss Function evolution during training')\n",
        "plt.legend()\n",
        "\n",
        "plt.subplot(4, 2, 2)\n",
        "plt.plot(r.history['fn'], label='fn')\n",
        "plt.plot(r.history['val_fn'], label='val_fn')\n",
        "plt.title('Accuracy evolution during training')\n",
        "plt.legend()\n",
        "\n",
        "plt.subplot(4, 2, 3)\n",
        "plt.plot(r.history['precision'], label='precision')\n",
        "plt.plot(r.history['val_precision'], label='val_precision')\n",
        "plt.title('Precision evolution during training')\n",
        "plt.legend()\n",
        "\n",
        "plt.subplot(4, 2, 4)\n",
        "plt.plot(r.history['recall'], label='recall')\n",
        "plt.plot(r.history['val_recall'], label='val_recall')\n",
        "plt.title('Recall evolution during training')\n",
        "plt.legend()"
      ]
    },
    {
      "cell_type": "code",
      "execution_count": null,
      "metadata": {
        "colab": {
          "base_uri": "https://localhost:8080/"
        },
        "id": "i5Zj6FP8zzkY",
        "outputId": "a1d2285d-f13e-4349-a6eb-e9f577404cc5"
      },
      "outputs": [
        {
          "output_type": "stream",
          "name": "stdout",
          "text": [
            "Train Result:\n",
            "================================================\n",
            "Accuracy Score: 99.99%\n",
            "_______________________________________________\n",
            "Classification Report:\n",
            "                      0           1  accuracy      macro avg   weighted avg\n",
            "precision       0.99990    1.000000    0.9999       0.999950       0.999900\n",
            "recall          1.00000    0.944251    0.9999       0.972125       0.999900\n",
            "f1-score        0.99995    0.971326    0.9999       0.985638       0.999898\n",
            "support    159204.00000  287.000000    0.9999  159491.000000  159491.000000\n",
            "_______________________________________________\n",
            "Confusion Matrix: \n",
            " [[159204      0]\n",
            " [    16    271]]\n",
            "\n",
            "Test Result:\n",
            "================================================\n",
            "Accuracy Score: 99.96%\n",
            "_______________________________________________\n",
            "Classification Report:\n",
            "                      0           1  accuracy     macro avg  weighted avg\n",
            "precision      0.999684    0.923729  0.999579      0.961706      0.999563\n",
            "recall         0.999894    0.801471  0.999579      0.900683      0.999579\n",
            "f1-score       0.999789    0.858268  0.999579      0.929028      0.999564\n",
            "support    85307.000000  136.000000  0.999579  85443.000000  85443.000000\n",
            "_______________________________________________\n",
            "Confusion Matrix: \n",
            " [[85298     9]\n",
            " [   27   109]]\n",
            "\n"
          ]
        }
      ],
      "source": [
        "y_train_pred = model.predict(X_train)\n",
        "y_test_pred = model.predict(X_test)\n",
        "\n",
        "print_score(y_train, y_train_pred.round(), train=True)\n",
        "print_score(y_test, y_test_pred.round(), train=False)\n",
        "\n",
        "scores_dict = {\n",
        "    'ANNs': {\n",
        "        'Train': f1_score(y_train, y_train_pred.round()),\n",
        "        'Test': f1_score(y_test, y_test_pred.round()),\n",
        "    },\n",
        "}"
      ]
    },
    {
      "cell_type": "code",
      "source": [
        "y_train_pred = model1.predict(train_LSTM_X)\n",
        "y_test_pred = model1.predict(val_LSTM_X)\n",
        "\n"
      ],
      "metadata": {
        "id": "Y6N2gw_Cr7fE"
      },
      "execution_count": null,
      "outputs": []
    },
    {
      "cell_type": "code",
      "source": [
        "#print_score(train_LSTM_y, y_train_pred.round(), train=True)\n",
        "print_score(val_LSTM_y, y_test_pred.round(), train=False)\n",
        "\n",
        "scores_dict = {\n",
        "    'LSTM': {\n",
        "        'Train': f1_score(train_LSTM_y, y_train_pred.round()),\n",
        "        'Test': f1_score(val_LSTM_y, y_test_pred.round()),\n",
        "    },\n",
        "}"
      ],
      "metadata": {
        "colab": {
          "base_uri": "https://localhost:8080/"
        },
        "id": "vx_YFEAzS-1a",
        "outputId": "47deb27a-6ca7-45e6-8b7c-146f224330ee"
      },
      "execution_count": null,
      "outputs": [
        {
          "output_type": "stream",
          "name": "stdout",
          "text": [
            "Test Result:\n",
            "================================================\n",
            "Accuracy Score: 93.73%\n",
            "_______________________________________________\n",
            "Classification Report:\n",
            "                      0             1  accuracy      macro avg   weighted avg\n",
            "precision      0.895872      0.989054  0.937341       0.942463       0.942271\n",
            "recall         0.990297      0.883947  0.937341       0.937122       0.937341\n",
            "f1-score       0.940721      0.933551  0.937341       0.937136       0.937151\n",
            "support    85645.000000  84944.000000  0.937341  170589.000000  170589.000000\n",
            "_______________________________________________\n",
            "Confusion Matrix: \n",
            " [[84814   831]\n",
            " [ 9858 75086]]\n",
            "\n"
          ]
        }
      ]
    },
    {
      "cell_type": "markdown",
      "metadata": {
        "id": "Sg2xv-uO02AL"
      },
      "source": [
        "XG Boost"
      ]
    },
    {
      "cell_type": "code",
      "execution_count": null,
      "metadata": {
        "colab": {
          "base_uri": "https://localhost:8080/"
        },
        "id": "p2nYeomBz4L9",
        "outputId": "f9b983ea-fedf-412e-97d0-d1994b3e7f45"
      },
      "outputs": [
        {
          "output_type": "stream",
          "name": "stdout",
          "text": [
            "Train Result:\n",
            "================================================\n",
            "Accuracy Score: 99.97%\n",
            "_______________________________________________\n",
            "Classification Report:\n",
            "                       0           1  accuracy      macro avg   weighted avg\n",
            "precision       0.999711    0.983673  0.999687       0.991692       0.999682\n",
            "recall          0.999975    0.839721  0.999687       0.919848       0.999687\n",
            "f1-score        0.999843    0.906015  0.999687       0.952929       0.999674\n",
            "support    159204.000000  287.000000  0.999687  159491.000000  159491.000000\n",
            "_______________________________________________\n",
            "Confusion Matrix: \n",
            " [[159200      4]\n",
            " [    46    241]]\n",
            "\n",
            "Test Result:\n",
            "================================================\n",
            "Accuracy Score: 99.96%\n",
            "_______________________________________________\n",
            "Classification Report:\n",
            "                      0           1  accuracy     macro avg  weighted avg\n",
            "precision      0.999707    0.932773  0.999614      0.966240      0.999600\n",
            "recall         0.999906    0.816176  0.999614      0.908041      0.999614\n",
            "f1-score       0.999807    0.870588  0.999614      0.935197      0.999601\n",
            "support    85307.000000  136.000000  0.999614  85443.000000  85443.000000\n",
            "_______________________________________________\n",
            "Confusion Matrix: \n",
            " [[85299     8]\n",
            " [   25   111]]\n",
            "\n"
          ]
        }
      ],
      "source": [
        "from xgboost import XGBClassifier\n",
        "\n",
        "xgb_clf = XGBClassifier()\n",
        "xgb_clf.fit(X_train, y_train, eval_metric='aucpr')\n",
        "\n",
        "y_train_pred = xgb_clf.predict(X_train)\n",
        "y_test_pred = xgb_clf.predict(X_test)\n",
        "\n",
        "print_score(y_train, y_train_pred, train=True)\n",
        "print_score(y_test, y_test_pred, train=False)\n",
        "\n",
        "scores_dict['XGBoost'] = {\n",
        "        'Train': f1_score(y_train,y_train_pred),\n",
        "        'Test': f1_score(y_test, y_test_pred),\n",
        "}"
      ]
    },
    {
      "cell_type": "markdown",
      "metadata": {
        "id": "AgZbfJBw1BWJ"
      },
      "source": [
        "Random Forest"
      ]
    },
    {
      "cell_type": "code",
      "execution_count": null,
      "metadata": {
        "colab": {
          "base_uri": "https://localhost:8080/"
        },
        "id": "V29vtMnu1Ff3",
        "outputId": "d13b9465-2892-4b52-a7c6-7f26f51ebc3a"
      },
      "outputs": [
        {
          "output_type": "stream",
          "name": "stdout",
          "text": [
            "Train Result:\n",
            "================================================\n",
            "Accuracy Score: 100.00%\n",
            "_______________________________________________\n",
            "Classification Report:\n",
            "                  0      1  accuracy  macro avg  weighted avg\n",
            "precision       1.0    1.0       1.0        1.0           1.0\n",
            "recall          1.0    1.0       1.0        1.0           1.0\n",
            "f1-score        1.0    1.0       1.0        1.0           1.0\n",
            "support    159204.0  287.0       1.0   159491.0      159491.0\n",
            "_______________________________________________\n",
            "Confusion Matrix: \n",
            " [[159204      0]\n",
            " [     0    287]]\n",
            "\n",
            "Test Result:\n",
            "================================================\n",
            "Accuracy Score: 99.96%\n",
            "_______________________________________________\n",
            "Classification Report:\n",
            "                      0           1  accuracy     macro avg  weighted avg\n",
            "precision      0.999695    0.924370   0.99959      0.962033      0.999575\n",
            "recall         0.999894    0.808824   0.99959      0.904359      0.999590\n",
            "f1-score       0.999795    0.862745   0.99959      0.931270      0.999577\n",
            "support    85307.000000  136.000000   0.99959  85443.000000  85443.000000\n",
            "_______________________________________________\n",
            "Confusion Matrix: \n",
            " [[85298     9]\n",
            " [   26   110]]\n",
            "\n"
          ]
        }
      ],
      "source": [
        "from sklearn.ensemble import RandomForestClassifier\n",
        "\n",
        "rf_clf = RandomForestClassifier(n_estimators=100, oob_score=False)\n",
        "rf_clf.fit(X_train, y_train)\n",
        "\n",
        "y_train_pred = rf_clf.predict(X_train)\n",
        "y_test_pred = rf_clf.predict(X_test)\n",
        "\n",
        "print_score(y_train, y_train_pred, train=True)\n",
        "print_score(y_test, y_test_pred, train=False)\n",
        "\n",
        "scores_dict['Random Forest'] = {\n",
        "        'Train': f1_score(y_train,y_train_pred),\n",
        "        'Test': f1_score(y_test, y_test_pred),\n",
        "}"
      ]
    },
    {
      "cell_type": "markdown",
      "metadata": {
        "id": "Mz94KSRd2AKH"
      },
      "source": [
        "LigthBGM"
      ]
    },
    {
      "cell_type": "code",
      "execution_count": null,
      "metadata": {
        "colab": {
          "base_uri": "https://localhost:8080/"
        },
        "id": "f3KcExw82DEj",
        "outputId": "c336cf8a-6269-4c5c-f899-0ee3dc9248a8"
      },
      "outputs": [
        {
          "output_type": "stream",
          "name": "stdout",
          "text": [
            "Train Result:\n",
            "================================================\n",
            "Accuracy Score: 99.86%\n",
            "_______________________________________________\n",
            "Classification Report:\n",
            "                       0           1  accuracy      macro avg   weighted avg\n",
            "precision       0.999441    0.592814  0.998589       0.796128       0.998709\n",
            "recall          0.999146    0.689895  0.998589       0.844521       0.998589\n",
            "f1-score        0.999293    0.637681  0.998589       0.818487       0.998643\n",
            "support    159204.000000  287.000000  0.998589  159491.000000  159491.000000\n",
            "_______________________________________________\n",
            "Confusion Matrix: \n",
            " [[159068    136]\n",
            " [    89    198]]\n",
            "\n",
            "Test Result:\n",
            "================================================\n",
            "Accuracy Score: 99.75%\n",
            "_______________________________________________\n",
            "Classification Report:\n",
            "                      0           1  accuracy     macro avg  weighted avg\n",
            "precision      0.999460    0.350195  0.997507      0.674827      0.998427\n",
            "recall         0.998042    0.661765  0.997507      0.829904      0.997507\n",
            "f1-score       0.998751    0.458015  0.997507      0.728383      0.997890\n",
            "support    85307.000000  136.000000  0.997507  85443.000000  85443.000000\n",
            "_______________________________________________\n",
            "Confusion Matrix: \n",
            " [[85140   167]\n",
            " [   46    90]]\n",
            "\n"
          ]
        }
      ],
      "source": [
        "from lightgbm import LGBMClassifier\n",
        "\n",
        "lgbm_clf = LGBMClassifier()\n",
        "lgbm_clf.fit(X_train, y_train, eval_metric='aucpr')\n",
        "\n",
        "y_train_pred = lgbm_clf.predict(X_train)\n",
        "y_test_pred = lgbm_clf.predict(X_test)\n",
        "\n",
        "print_score(y_train, y_train_pred, train=True)\n",
        "print_score(y_test, y_test_pred, train=False)\n",
        "\n",
        "scores_dict['LigthGBM'] = {\n",
        "        'Train': f1_score(y_train,y_train_pred),\n",
        "        'Test': f1_score(y_test, y_test_pred),\n",
        "}"
      ]
    },
    {
      "cell_type": "markdown",
      "metadata": {
        "id": "ltc_JD7m2Oad"
      },
      "source": [
        "Model Comparision"
      ]
    },
    {
      "cell_type": "code",
      "execution_count": null,
      "metadata": {
        "colab": {
          "base_uri": "https://localhost:8080/",
          "height": 501
        },
        "id": "B1U7HPvT2MWl",
        "outputId": "69ade7bb-46e3-4c0f-9b97-3550869afec8"
      },
      "outputs": [
        {
          "output_type": "execute_result",
          "data": {
            "text/plain": [
              "<matplotlib.axes._subplots.AxesSubplot at 0x7f4a0dff4390>"
            ]
          },
          "metadata": {},
          "execution_count": 100
        },
        {
          "output_type": "display_data",
          "data": {
            "text/plain": [
              "<Figure size 1080x576 with 1 Axes>"
            ],
            "image/png": "[encoded data removed]"
          },
          "metadata": {
            "needs_background": "light"
          }
        }
      ],
      "source": [
        "scores_df = pd.DataFrame(scores_dict)\n",
        "\n",
        "scores_df.plot(kind='barh', figsize=(15, 8))"
      ]
    },
    {
      "cell_type": "code",
      "execution_count": null,
      "metadata": {
        "id": "k4EXPs6g2UhL"
      },
      "outputs": [],
      "source": []
    }
  ],
  "metadata": {
    "colab": {
      "provenance": []
    },
    "kernelspec": {
      "display_name": "Python 3",
      "name": "python3"
    },
    "language_info": {
      "name": "python"
    },
    "accelerator": "GPU"
  },
  "nbformat": 4,
  "nbformat_minor": 0
}